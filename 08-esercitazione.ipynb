{
 "cells": [
  {
   "cell_type": "markdown",
   "id": "c89ecb30",
   "metadata": {},
   "source": [
    "## Gestione dei flussi \"eccezionali\"\n",
    "### Gestione diversificata degli \"errori\"\n",
    "\n",
    "A livello di classificazione si possono identificare 3 macrocategorie di eccezioni, ovvero eventi che portano alla mancata esecuzione corretta di un programma.\n",
    "\n",
    "1. Eccezioni che avvengono a \"runtime\"\n",
    "2. Eccezioni programmatiche\n",
    "3. Eccezioni sistemiche\n"
   ]
  },
  {
   "cell_type": "markdown",
   "id": "032f7851",
   "metadata": {},
   "source": [
    "### Eccezioni Runtime\n",
    "Non possono essere previste prima dell'esecuzione del programma (perché avvengono secondo lo stato raggiunto dal programma a runtime/in esecuzione)\n",
    "\n",
    "    ES: divisione per 0, accesso ad una variabile che non è stata inizializzata (solo dichiarata)\n",
    "\n",
    "### Eccezioni programmatiche\n",
    "Sono eccezioni che possono essere previste (quindi si tende ad includerle in blocchi try-except)\n",
    "\n",
    "    ES: il nostro programma Python legge da un file sul Desktop -> il file non è presente.\n",
    "\n",
    "### Eccezioni sistemiche\n",
    "La natura di queste eccezioni non è dovuta al codice (il codice funziona, va bene). Errore dovuto ad una mancata compatibilità dei sistemi (hardware ad esempio).\n",
    "\n",
    "    ES: installo un programma che ha bisogno di 100 MB su una macchina che ha 32 MB di RAM "
   ]
  },
  {
   "cell_type": "markdown",
   "id": "28f9d1f1",
   "metadata": {},
   "source": [
    "### Che è successo a Silvia? (perchè ha un dead kernel)\n",
    "Ricordiamo che le eccezioni sistemiche nonv engono rilevate dall'esecutore del codice (interpete Python) bensì sono rilevate a livello di sistema.\n",
    "\n",
    "Ad esempio è molto probabile che ottenendo un errore di Kernel nel notebook non verrà segnalato mostrando la stack trace (a.k.a. Traceback). Dove è più probabile che verrà segnalato un errore sistemico? nel prompt dei comandi usato per avviare il notebook!"
   ]
  },
  {
   "cell_type": "markdown",
   "id": "6538ad50",
   "metadata": {},
   "source": [
    "Le funzioni possono ritornare più di un valore, in questo caso possiamo fare un assegnamento \"multiplo\" a variabili."
   ]
  },
  {
   "cell_type": "code",
   "execution_count": 4,
   "id": "3578bfbd",
   "metadata": {},
   "outputs": [
    {
     "name": "stdout",
     "output_type": "stream",
     "text": [
      "(['ciao', 'a', 'tutti'], 3)\n",
      "['ciao', 'a', 'tutti'] 3\n"
     ]
    }
   ],
   "source": [
    "def ritorno_doppio():\n",
    "    return ['ciao','a','tutti'],3\n",
    "\n",
    "print(ritorno_doppio()) # stampa un valore (di tipo tupla)\n",
    "\n",
    "# unpacking\n",
    "l, n = ritorno_doppio()\n",
    "print(l,n) # stampa i due valori dei corrispettivi tipi"
   ]
  },
  {
   "cell_type": "code",
   "execution_count": 9,
   "id": "a68579cd",
   "metadata": {},
   "outputs": [
    {
     "name": "stdout",
     "output_type": "stream",
     "text": [
      "6\n"
     ]
    }
   ],
   "source": [
    "def prova(n1,n2,n3):\n",
    "    return n1 * n2 + n3\n",
    "\n",
    "print(prova(n1=1,n3=5,n2=1))"
   ]
  },
  {
   "cell_type": "markdown",
   "id": "c9684c31",
   "metadata": {},
   "source": [
    "## Funzioni con numero di parametri indefinito\n",
    "\n",
    "Posso dichiarare funzioni con un numero indefinito di parametri, in questo caso trasforma il numero arbitrario di argomenti in una tupla che può essere iterata, di seguito un esempio del suo utilizzo:"
   ]
  },
  {
   "cell_type": "code",
   "execution_count": 16,
   "id": "57318294",
   "metadata": {},
   "outputs": [
    {
     "name": "stdout",
     "output_type": "stream",
     "text": [
      "<class 'tuple'>\n",
      "8\n"
     ]
    }
   ],
   "source": [
    "def somma_indefiniti_termini(*termini):\n",
    "    print(type(termini))\n",
    "    s = 0\n",
    "    for n in termini:\n",
    "        s +=n\n",
    "    return s\n",
    "\n",
    "print(somma_indefiniti_termini(1,2,5))"
   ]
  },
  {
   "cell_type": "markdown",
   "id": "96706eab",
   "metadata": {},
   "source": [
    "Posso creare anche dei dizionari passando parametri alla funzione"
   ]
  },
  {
   "cell_type": "code",
   "execution_count": 20,
   "id": "23879744",
   "metadata": {},
   "outputs": [
    {
     "name": "stdout",
     "output_type": "stream",
     "text": [
      "<class 'dict'>\n",
      "('key_1', 'val_1')\n",
      "('key_2', 'val_2')\n",
      "('key_3', 'val_3')\n",
      "None\n"
     ]
    }
   ],
   "source": [
    "def crea_dict(**termini):\n",
    "    print(type(termini))\n",
    "    for i in termini.items():\n",
    "        print(i)\n",
    "\n",
    "    # ricordare che per usare ** in un argomento, i valori passati alla funzione devono essere per forza nominati esplicitamente\n",
    "print(crea_dict(key_1 = 'val_1', key_2 = 'val_2', key_3 = 'val_3'))"
   ]
  },
  {
   "cell_type": "code",
   "execution_count": null,
   "id": "28457684",
   "metadata": {},
   "outputs": [],
   "source": []
  }
 ],
 "metadata": {
  "kernelspec": {
   "display_name": "Python 3 (ipykernel)",
   "language": "python",
   "name": "python3"
  },
  "language_info": {
   "codemirror_mode": {
    "name": "ipython",
    "version": 3
   },
   "file_extension": ".py",
   "mimetype": "text/x-python",
   "name": "python",
   "nbconvert_exporter": "python",
   "pygments_lexer": "ipython3",
   "version": "3.10.7"
  }
 },
 "nbformat": 4,
 "nbformat_minor": 5
}
