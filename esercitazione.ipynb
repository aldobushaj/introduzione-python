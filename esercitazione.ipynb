{
 "cells": [
  {
   "cell_type": "markdown",
   "id": "5ad1d604",
   "metadata": {},
   "source": [
    "## 1- Espressioni ben parentesizzate\n",
    "\n",
    "Data una generica stringa contenente tutti i caratteri della tastiera, ritorna true se la stringa è ben parentesizzata, false altrimenti. Le parentesi più interne possono contenere stringhe generiche (vedi esempio sotto).\n",
    "I caratteri da considerarsi parentesi sono “()”, “[]”, “{}”.\n",
    "Nonostante ciò, la funzione deve essere scalabile ed adattarsi facilmente ad interpretare nuovi simboli di parentesi, ad esempio “<>”.\n",
    "Esempi di espressione ben parentesizzata: {[stringa](ben){parentesizzata}}, {{{{[str](([ben])[par])}}}}\n",
    "Esempi di espr. non ben parentesizzata: {[}], [[), ((())\n"
   ]
  },
  {
   "cell_type": "code",
   "execution_count": 1,
   "id": "9802f4cb",
   "metadata": {},
   "outputs": [],
   "source": [
    "def validate(str, apri_par,chiudi_par):\n",
    "    print('Input è ',str)\n",
    "    ret = True\n",
    "    stack = []\n",
    "    \n",
    "    for car in str:\n",
    "\n",
    "        if car in apri_par and ret:\n",
    "            stack +=[car]\n",
    "            #str.index()\n",
    "        # caso in cui ci troviamo la chiusura delle parentesi   \n",
    "        elif car in chiudi_par:\n",
    "            # se lo stack è vuoto, è inutile analizzare, non posso avere parentesi di chiusura senza quelle di apertura\n",
    "            if not len(stack) :\n",
    "                ret = False\n",
    "            else:\n",
    "                # prendo il tipo di parentesi che è nel top dello stack\n",
    "                top = stack.pop()\n",
    "                # e lo confronto con il carattere a quella posizione, ma della lista opposta \n",
    "                balancing_br = apri_par[chiudi_par.index(car)]\n",
    "                if top != balancing_br :\n",
    "                    # non sono uguali, quindi ho una stringa malformata\n",
    "                    ret= False\n",
    "    return ret  "
   ]
  },
  {
   "cell_type": "code",
   "execution_count": 2,
   "id": "1632e75a",
   "metadata": {},
   "outputs": [
    {
     "name": "stdout",
     "output_type": "stream",
     "text": [
      "Input è  {stringa{parentesizzata}}\n",
      "Is valid string?  True\n"
     ]
    }
   ],
   "source": [
    "str = '{stringa{parentesizzata}}'\n",
    "str2 = '{[}]'\n",
    "str3 = '{{{{str}}}}'\n",
    "\n",
    "apri_par = '{[('\n",
    "chiudi_par = '}])'\n",
    "       \n",
    "print('Is valid string? ', validate(str, apri_par,chiudi_par))"
   ]
  },
  {
   "cell_type": "markdown",
   "id": "384822e9",
   "metadata": {},
   "source": [
    "## 2- Lambdas\n",
    "Scrivere utilizzando più possibile lambda functions le seguenti funzioni:\n",
    "\n",
    "a. data una lista di tuple (‘nome’ ‘altezza’) -> [(‘giovanni’, 170), (‘francesca’, 171), … ]\n",
    "    \n",
    "    ritornare lista ordinata secondo il nome\n",
    "    ritornare la lista ordinata secondo l’altezza\n",
    "    ritornare lista che ordina secondo l’altezza, nel caso in cui due persone hanno stessa altezza ritornare in base al nome\n",
    "\n",
    "b. data una stringa contenente un timestamp, estrarre anno, mese, giorno, ore, minuti, secondi, ritornare in forma di dizionario:\n",
    "esempio: 03-10-2022,11:54:23 ->\n",
    "{‘anno’: 2022, ‘mese’: 10, ‘giorno’:3, ‘ore’:11, ‘minuti’:54, ‘secondi’:23}\n",
    "la funzione si deve adattare a diversi caratteri di separazione, da passare in ingresso:\n",
    "separatore data = ‘-’, separatore ora = ‘:’, separatore data ora = ‘,’\n",
    "\n",
    "c. estendere il programma del punto 2.b in modo tale da poter interpretare correttamente qualunque formato data: YYYY-MM-DD oppure YY-MM-DD oppure MM-DD-YY, ecc…\n",
    "\n",
    "d. scrivere una funzione che identifichi stringhe palindrome\n"
   ]
  },
  {
   "cell_type": "markdown",
   "id": "356c2a9f",
   "metadata": {},
   "source": [
    "Esercizio 2.a"
   ]
  },
  {
   "cell_type": "code",
   "execution_count": 3,
   "id": "26c796c9",
   "metadata": {},
   "outputs": [
    {
     "name": "stdout",
     "output_type": "stream",
     "text": [
      "Ordinato secondo il nome  [('achille', 180), ('adamo', 180), ('aldo', 177), ('francesca', 171), ('giacomo', 168), ('giovanni', 170), ('zakaria', 180)]\n",
      "Ordinato secondo l'altezza  [('giacomo', 168), ('giovanni', 170), ('francesca', 171), ('aldo', 177), ('achille', 180), ('adamo', 180), ('zakaria', 180)]\n",
      "Ordinato secondo l'altezza  [('giacomo', 168), ('giovanni', 170), ('francesca', 171), ('aldo', 177), ('achille', 180), ('adamo', 180), ('zakaria', 180)]\n"
     ]
    }
   ],
   "source": [
    "lista_tuple = [('adamo',180),('giovanni', 170), ('francesca', 171), ('aldo', 177), ('giacomo', 168),('zakaria',180),('achille',180) ]\n",
    "\n",
    "#ordinato secondo il nome\n",
    "lista_tuple.sort(key=lambda a: a[0])\n",
    "print('Ordinato secondo il nome ',lista_tuple)\n",
    "\n",
    "#Ordinato secondo l'altezza\n",
    "lista_tuple.sort(key=lambda a: a[1])\n",
    "print(\"Ordinato secondo l'altezza \",lista_tuple)\n",
    "\n",
    "#Ordinato secondo l'altezza else secondo il nome\n",
    "lista_tuple.sort(key=lambda a: a[1])\n",
    "print(\"Ordinato secondo l'altezza \",lista_tuple)"
   ]
  },
  {
   "cell_type": "markdown",
   "id": "43a95577",
   "metadata": {},
   "source": [
    "Esercizio 2.b"
   ]
  },
  {
   "cell_type": "code",
   "execution_count": null,
   "id": "9e08914d",
   "metadata": {},
   "outputs": [],
   "source": [
    "def ordine(data):\n",
    "    "
   ]
  },
  {
   "cell_type": "code",
   "execution_count": 151,
   "id": "1259e435",
   "metadata": {},
   "outputs": [],
   "source": [
    "from datetime import datetime\n",
    "\n",
    "def data(data_input, separatore_data,separatore_ora,separatore_data_ora):\n",
    "    \n",
    "    #print(data_input.split(separatore_data_ora))\n",
    "    data,ora = data_input.split(separatore_data_ora)\n",
    "    \n",
    "    dict_returned = [{'giorno':giorno, 'mese':mese, 'anno':anno} for giorno,mese,anno in [data.split(separatore_data)]]+[{'ore':ore, 'minuti':minuti, 'secondi':secondi} for ore,minuti,secondi in [ora.split(separatore_ora)]]\n",
    "    ret = dict_returned[0]\n",
    "    ret.update(dict_returned[1])\n",
    "    return ret\n",
    "\n",
    "\n",
    "def data_format(data_input, separatore_data,separatore_ora,separatore_data_ora, formato):\n",
    "    \n",
    "    #print(data_input.split(separatore_data_ora))\n",
    "    data,ora = data_input.split(separatore_data_ora)\n",
    "    \n",
    "    ordine = formato.split('-')\n",
    "    returned = {}\n",
    "    \n",
    "    for primo,secondo,terzo in [data.split(separatore_data)]:\n",
    "        if 'Y' in ordine[0]:\n",
    "            returned.update({'anno': primo})\n",
    "        if 'M' in ordine[0]:\n",
    "            returned.update({'mese': primo})\n",
    "        if 'D' in ordine[0]:\n",
    "            returned.update({'giorno': primo})\n",
    "        if 'Y' in ordine[1]:\n",
    "            returned.update({'anno': secondo})\n",
    "        if 'M' in ordine[1]:\n",
    "            returned.update({'mese': secondo})\n",
    "        if 'D' in ordine[1]:\n",
    "            returned.update({'giorno': secondo})\n",
    "        if 'Y' in ordine[2]:\n",
    "            returned.update({'anno': terzo})\n",
    "        if 'M' in ordine[2]:\n",
    "            returned.update({'mese': terzo})\n",
    "        if 'D' in ordine[2]:\n",
    "            returned.update({'giorno': terzo})\n",
    "    \n",
    "       \n",
    "\n",
    "    temp = [{'ore':ore, 'minuti':minuti, 'secondi':secondi} for ore,minuti,secondi in [ora.split(separatore_ora)]]\n",
    "    returned.update(temp[0])\n",
    "    return returned"
   ]
  },
  {
   "cell_type": "code",
   "execution_count": 152,
   "id": "3b11dd93",
   "metadata": {},
   "outputs": [
    {
     "name": "stdout",
     "output_type": "stream",
     "text": [
      "{'giorno': '03', 'mese': '10', 'anno': '2022', 'ore': '11', 'minuti': '54', 'secondi': '23'}\n",
      "{'mese': '03', 'anno': '2022', 'giorno': '10', 'ore': '11', 'minuti': '54', 'secondi': '23'}\n"
     ]
    }
   ],
   "source": [
    "data_input = '03-10-2022,11:54:23'\n",
    "data_input2 = '03-2022-10,11:54:23'\n",
    "separatore_data = '-' \n",
    "separatore_ora = ':' \n",
    "separatore_data_ora = ','\n",
    "\n",
    "\n",
    "returned_value =data(data_input,separatore_data,separatore_ora,separatore_data_ora)\n",
    "print(returned_value)\n",
    "print(data_format(data_input2,separatore_data,separatore_ora,separatore_data_ora,'MM-YYYY-DD'))"
   ]
  },
  {
   "cell_type": "markdown",
   "id": "a9cb16db",
   "metadata": {},
   "source": [
    "Esecizio 2d"
   ]
  },
  {
   "cell_type": "code",
   "execution_count": 153,
   "id": "90dac8e2",
   "metadata": {},
   "outputs": [
    {
     "name": "stdout",
     "output_type": "stream",
     "text": [
      "Palindromo\n"
     ]
    }
   ],
   "source": [
    "stringa_input = 'anna'\n",
    "if stringa_input == stringa_input[::-1] :\n",
    "    print(\"Palindromo\")\n",
    "else:\n",
    "    print(\"Non Palindromo\")"
   ]
  },
  {
   "cell_type": "markdown",
   "id": "62d01050",
   "metadata": {},
   "source": [
    "## Esercizio 3"
   ]
  },
  {
   "attachments": {
    "image-3.png": {
     "image/png": "[encoded data removed]"
    }
   },
   "cell_type": "markdown",
   "id": "68651351",
   "metadata": {},
   "source": [
    "![image-3.png](attachment:image-3.png)"
   ]
  },
  {
   "cell_type": "code",
   "execution_count": 237,
   "id": "105e6f72",
   "metadata": {},
   "outputs": [
    {
     "name": "stdout",
     "output_type": "stream",
     "text": [
      "Matrice prima della modifica:\n",
      "[[28, 13, 12, 13], [22, 19, 34, 45], [41, 6, 21, 30], [47, 0, 38, 14]]\n",
      "Matrice dopo la modifica:\n",
      "[[28, 13, 12, 13], [22, 19, 34, 45], [30, 21, 6, 41], [47, 0, 38, 14]]\n",
      "matrice[i][j] 28  altro valore 47\n",
      "0 0\n",
      "0 1\n",
      "0 2\n",
      "0 3\n",
      "matrice[i][j] 22  altro valore 28\n",
      "1 0\n",
      "1 1\n",
      "1 2\n",
      "1 3\n",
      "[[47, 13, 12, 13], [28, 19, 34, 45], [30, 21, 6, 41], [22, 0, 38, 14]]\n"
     ]
    }
   ],
   "source": [
    "from random import randrange\n",
    "import numpy as np\n",
    "# numero che indica la grandezza della matrice\n",
    "n = 4\n",
    "\n",
    "matrice= [[randrange(50) for _ in range(n)] for _ in range(n)]\n",
    "print(f'Matrice prima della modifica:\\n{matrice}')\n",
    "\n",
    "# indica quale delle righe modificare\n",
    "riga = 2\n",
    "matrice[riga] = list(np.flip(matrice[riga]))\n",
    "\n",
    "print(f'Matrice dopo la modifica:\\n{matrice}')\n",
    "\n",
    "\n",
    "\n",
    "\n",
    "colonna = 0\n",
    "\n",
    "for i in range(int(len(matrice)/2)):\n",
    "    for j in range(len(matrice[i])):\n",
    "        \n",
    "        # se mi trovo nella colonna giusta faccio il flip\n",
    "        if j == colonna:\n",
    "            print('matrice[i][j]',matrice[i][j],' altro valore',matrice[-1][j])\n",
    "            temp = matrice[i][j]\n",
    "            matrice[i][j] = matrice[-1][j]\n",
    "            matrice[-1][j] = temp\n",
    "            #print(temp)\n",
    "        print(i,j)\n",
    "   \n",
    "print(matrice)\n",
    "#print('\\n',matrice[:] [::-1])\n",
    "\n"
   ]
  },
  {
   "cell_type": "code",
   "execution_count": null,
   "id": "639c71d4",
   "metadata": {},
   "outputs": [],
   "source": []
  }
 ],
 "metadata": {
  "kernelspec": {
   "display_name": "Python 3 (ipykernel)",
   "language": "python",
   "name": "python3"
  },
  "language_info": {
   "codemirror_mode": {
    "name": "ipython",
    "version": 3
   },
   "file_extension": ".py",
   "mimetype": "text/x-python",
   "name": "python",
   "nbconvert_exporter": "python",
   "pygments_lexer": "ipython3",
   "version": "3.10.7"
  }
 },
 "nbformat": 4,
 "nbformat_minor": 5
}
