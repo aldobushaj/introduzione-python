{
 "cells": [
  {
   "cell_type": "markdown",
   "id": "ca02b431",
   "metadata": {},
   "source": [
    "## Le classi in Python\n",
    "Ci permettono di definire ed usare strutture di dati che contengono variabili e funzioni.\n",
    "(keyword) class (nome classe) Persone (due punti) :\n",
    "\n",
    "N.B. i nomi delle classi convenzionalmente iniziano con una maiuscola"
   ]
  },
  {
   "cell_type": "code",
   "execution_count": 1,
   "id": "d946c043",
   "metadata": {},
   "outputs": [],
   "source": [
    "class Persona:\n",
    "    pass"
   ]
  },
  {
   "cell_type": "code",
   "execution_count": 2,
   "id": "4a3a8af6",
   "metadata": {},
   "outputs": [
    {
     "data": {
      "text/plain": [
       "__main__.Persona"
      ]
     },
     "execution_count": 2,
     "metadata": {},
     "output_type": "execute_result"
    }
   ],
   "source": [
    "mario = Persona()\n",
    "type(mario)"
   ]
  },
  {
   "cell_type": "code",
   "execution_count": 3,
   "id": "810a75bc",
   "metadata": {},
   "outputs": [
    {
     "name": "stdout",
     "output_type": "stream",
     "text": [
      "<__main__.Persona object at 0x000001C1877EA680>\n"
     ]
    }
   ],
   "source": [
    "print(mario)"
   ]
  },
  {
   "cell_type": "markdown",
   "id": "e7f5a36e",
   "metadata": {},
   "source": [
    "E possibile assegnare degli attributi (variabili) ad una classe. Le classi rappresentano \"oggetti\" della vita reale.\n",
    "Ad es. una persona è caratterizzata da Nome, Cognome, email.\n",
    "\n",
    "La quantità di attributi che dichiariamo in una classe è proporzionale a quanto dettagliatamente vogliamo descrivere l'oggetto.\n",
    "\n",
    "Se chiamo nuovamente class Persona, questa sovrascrive la definizione precedente, infatti fa fede l'ultima inizializzazione che è stata fatta"
   ]
  },
  {
   "cell_type": "code",
   "execution_count": 4,
   "id": "6c289e29",
   "metadata": {},
   "outputs": [],
   "source": [
    "# Quando dichiariamo una classe, è convenzionale definire un metodo speciale che ne descrive gli attributi (__init__)\n",
    "# di default(se non la sovrascriviamo) la funzione __init__() della classe è vuota, è cosi composta\n",
    "\"\"\"\n",
    "__init__(self):\n",
    "    pass\n",
    "\"\"\"\n",
    "class Persona:\n",
    "    # devo chiamare sempre self come primo parametro\n",
    "    def __init__(self, nome, cognome, email, anno_nascita = 1900):\n",
    "        self.nome = nome\n",
    "        self.cognome = cognome\n",
    "        self.email = email\n",
    "        # è corretto slavare data nascita in quanto immutabile, non sarebbe corretto invece salvare gli anni in una\n",
    "        # variabile in quanto mutabili (dipende da che giorno calcolo). I DATI si leggono le INFORMAZIONI invece si\n",
    "        # calcolano\n",
    "        self.anno_nascita = anno_nascita\n",
    "    def __str__(self):\n",
    "        return 'Nome: ' + self.nome + ', Cognome: ' + self.cognome + ', Email: ' + self.email + ', Data nascita: '+str(self.anno_nascita)"
   ]
  },
  {
   "cell_type": "code",
   "execution_count": 5,
   "id": "df33e5c9",
   "metadata": {},
   "outputs": [
    {
     "name": "stdout",
     "output_type": "stream",
     "text": [
      "Rossi\n"
     ]
    }
   ],
   "source": [
    "# quando istanzio la classe, il primo metodo che chiama è init\n",
    "persona = Persona('Mario','Rossi','mario@gmail.com')\n",
    "\n",
    "\n",
    "print(persona.cognome)"
   ]
  },
  {
   "cell_type": "markdown",
   "id": "225ed9db",
   "metadata": {},
   "source": [
    "## Print di un oggetto\n",
    "Sovrascrivo il metodo __str__ per dirgli come comportarsi quando la invoco, questo viene fatto nella dichiarazione della classe."
   ]
  },
  {
   "cell_type": "code",
   "execution_count": 6,
   "id": "87ea81e4",
   "metadata": {},
   "outputs": [
    {
     "data": {
      "text/plain": [
       "'Nome: Mario, Cognome: Rossi, Email: mario@gmail.com, Data nascita: 2000'"
      ]
     },
     "execution_count": 6,
     "metadata": {},
     "output_type": "execute_result"
    }
   ],
   "source": [
    "persona.__str__()\n",
    "\n",
    "persona.anno_nascita = 2000\n",
    "\n",
    "persona.__str__()"
   ]
  },
  {
   "cell_type": "markdown",
   "id": "24c0f198",
   "metadata": {},
   "source": [
    "### Dato VS Informazione\n",
    "\n",
    "Il dato è slegato da un valore semantico, l'informazione porta con se un valore semantico.\n",
    "\n",
    "Il dato è un atomo di un'informazione: il dato concorre alla creazione di una informazione. \n",
    "Ad es. l'età è un'informazione in quanto è elaborata a partire dalla data odierna(DATO) e la data di nascita (DATO), nelle basi di dati NON ci vanno informazioni"
   ]
  },
  {
   "cell_type": "markdown",
   "id": "02ffc7ce",
   "metadata": {},
   "source": [
    "Come avviene nei database, anche le classi dovrebbero contenere (all'interno dei loro attributi) solo DATI. Con la differenza che le classi possono esporre delle funzionalità per produrre delle informazioni a partire dai loro stessi dati."
   ]
  },
  {
   "cell_type": "markdown",
   "id": "15fb9a63",
   "metadata": {},
   "source": [
    "1. Creare una funzione che restituisca una data random dati in ingresso gli anni (date di nascita possibili affinche abbia 26 anni)\n",
    "2. Data una lista di 10 nomi e 10 cognomi, creare 10 istanze di Utente inizializzate con date di nascita random in modo tale che gli utenti abbiano(oggi) un'età compresa tra 15 e 20 anni\n",
    "3. calcolare la media dell'età"
   ]
  },
  {
   "cell_type": "code",
   "execution_count": 7,
   "id": "173802e0",
   "metadata": {},
   "outputs": [],
   "source": [
    "import calendar\n",
    "import random\n",
    "import datetime"
   ]
  },
  {
   "cell_type": "markdown",
   "id": "52149917",
   "metadata": {},
   "source": [
    "## Esercizio 1"
   ]
  },
  {
   "cell_type": "code",
   "execution_count": 8,
   "id": "3e35572d",
   "metadata": {},
   "outputs": [],
   "source": [
    "def random_data(anni):\n",
    "    \n",
    "    rnd_giorno = random.randint(1, 365)\n",
    "    rnd_mese = random.randint(1, 12)\n",
    "    \n",
    "    if rnd_mese < datetime.date.today().month:\n",
    "        anno = datetime.date.today().year - anni\n",
    "        mese = random.randint(1, datetime.date.today().month)\n",
    "        giorno = random.randint(1, datetime.date.today().day-1)\n",
    "\n",
    "    elif rnd_mese == datetime.date.today().month:\n",
    "        \n",
    "        if rnd_giorno > datetime.date.today().day:\n",
    "            anno = datetime.date.today().year - anni -1\n",
    "            mese = random.randint(datetime.date.today().month, 12)\n",
    "            ultimo_giorno = calendar.monthrange(anno, mese)[1]\n",
    "            giorno = random.randint(datetime.date.today().day, ultimo_giorno)\n",
    "    else:\n",
    "        anno = datetime.date.today().year - anni -1\n",
    "        mese = random.randint(rnd_mese, 12)\n",
    "        ultimo_giorno = calendar.monthrange(anno, mese)[1]\n",
    "        giorno = random.randint(1, ultimo_giorno)\n",
    "            \n",
    "    return datetime.date(anno, mese, giorno)"
   ]
  },
  {
   "cell_type": "code",
   "execution_count": 9,
   "id": "51780cec",
   "metadata": {},
   "outputs": [
    {
     "data": {
      "text/plain": [
       "datetime.date(1996, 5, 10)"
      ]
     },
     "execution_count": 9,
     "metadata": {},
     "output_type": "execute_result"
    }
   ],
   "source": [
    "random_data(26)"
   ]
  },
  {
   "cell_type": "markdown",
   "id": "d9e4328a",
   "metadata": {},
   "source": [
    "## Esercizio 2"
   ]
  },
  {
   "cell_type": "code",
   "execution_count": 10,
   "id": "a884e7bb",
   "metadata": {},
   "outputs": [],
   "source": [
    "class Utente:\n",
    "    \n",
    "    def __init__(self, nome, cognome, data_nascita):\n",
    "        self.nome = nome\n",
    "        self.cognome = cognome\n",
    "        # è corretto slavare data nascita in quanto immutabile, non sarebbe corretto invece salvare gli anni in una\n",
    "        # variabile in quanto mutabili (dipende da che giorno calcolo). I DATI si leggono le INFORMAZIONI invece si\n",
    "        # calcolano\n",
    "        self.data_nascita = data_nascita\n",
    "        \n",
    "    def get_eta(self):\n",
    "        t=datetime.date.today()\n",
    "        anni=int((t-self.data_nascita).days/365)\n",
    "        return anni\n",
    "    \n",
    "    \n",
    "    def __str__(self):\n",
    "        return self.nome + ' ' + self.cognome + ', età: ' + str(self.data_nascita) \n",
    "    \n",
    "    \n",
    "    \n",
    "nomi=['Ginevra','Martina','Aldo','Silvia','Giacomo','Enrico','Eugenia','Francesco','Nicola','Mark']\n",
    "cognomi=['Verdi','Rossi','Bianchi','Blu','Gialli','Neri','Azzurri','Arancioni','Marroni','Grigi']"
   ]
  },
  {
   "cell_type": "code",
   "execution_count": 11,
   "id": "f8492f8c",
   "metadata": {},
   "outputs": [
    {
     "name": "stdout",
     "output_type": "stream",
     "text": [
      "Ginevra Verdi, età: 2005-12-14\n",
      "Martina Rossi, età: 2005-08-20\n",
      "Aldo Bianchi, età: 2004-12-28\n",
      "Silvia Blu, età: 2005-04-04\n",
      "Giacomo Gialli, età: 2006-06-27\n",
      "Enrico Neri, età: 2002-08-12\n",
      "Eugenia Azzurri, età: 2006-06-20\n",
      "Francesco Arancioni, età: 2004-05-03\n",
      "Nicola Marroni, età: 2003-11-29\n",
      "Mark Grigi, età: 2004-10-31\n"
     ]
    }
   ],
   "source": [
    "utenti = []\n",
    "for nome, cognome in zip(nomi, cognomi):\n",
    "    anni = random.randint(15,20)\n",
    "    data = random_data(anni)\n",
    "    utenti.append(Utente(nome,cognome,data))\n",
    "\n",
    "for u in utenti:\n",
    "    print(u)"
   ]
  },
  {
   "cell_type": "code",
   "execution_count": 12,
   "id": "19cab269",
   "metadata": {},
   "outputs": [
    {
     "data": {
      "text/plain": [
       "17.2"
      ]
     },
     "execution_count": 12,
     "metadata": {},
     "output_type": "execute_result"
    }
   ],
   "source": [
    "media_eta = lambda numeri: sum(numeri)/len(numeri) \n",
    "\n",
    "media_eta([u.get_eta() for u in utenti])\n"
   ]
  },
  {
   "cell_type": "markdown",
   "id": "fe3df957",
   "metadata": {},
   "source": [
    "Abbiamo fatto una distinzione tra DATI grezzi e INFORMAZIONI che sono l'output di un calcolo che prevede dati.\n",
    "Alle volte è comodo poter rappresentare certe informazioni COME SE fossero dati (nella forma di attributo di una classe). La funzione di built-in property ha questo scopo!"
   ]
  },
  {
   "cell_type": "code",
   "execution_count": 13,
   "id": "3dbec4ae",
   "metadata": {},
   "outputs": [
    {
     "data": {
      "text/plain": [
       "32"
      ]
     },
     "execution_count": 13,
     "metadata": {},
     "output_type": "execute_result"
    }
   ],
   "source": [
    "Utente.anni = property(Utente.get_eta)\n",
    "\n",
    "tu = Utente('marco','fumagalli', datetime.date(1990,9,29))\n",
    "tu.anni"
   ]
  },
  {
   "cell_type": "markdown",
   "id": "fa6ae4fd",
   "metadata": {},
   "source": [
    "### L'ereditarietà \n",
    "Molto spesso, in un modello computazionale, esistono diverse entità relazionate in qualche modo tra loro.\n",
    "Oltre alle relazioni di \"appartenenza\" (1 - 1, 1 - n, n - n) possono esistere delle relazioni di \"parentela\".\n",
    "\n",
    "Una classe può ereditare proprietà da un'altra classe genitore/padre.\n",
    "\n",
    "Es. tutti i mezzi di trasporto hanno una velocità massima (proprietà i.e. dato i.e. un attributo)\n",
    "Creo un modello di MezzoDiTrasporto\n",
    "\n",
    "Le automobili a combustibile hanno una proprietà che è: capacità serbatoio\n",
    "\n",
    "I treni invece non hanno la proprietà capacità_serbatoio, nonostante le diversità condividono però la proprietà \"velocità massima\""
   ]
  },
  {
   "cell_type": "code",
   "execution_count": 14,
   "id": "28f7c082",
   "metadata": {},
   "outputs": [],
   "source": [
    "class MezzoDiTrasporto:\n",
    "    def __init__(sel, vel_max):\n",
    "        self.vel_max = vel_max\n",
    "\n",
    "class Automobile:\n",
    "    def __init__(self, vel_max, capienza_serbatoio):\n",
    "        self.vel_max = vel_max\n",
    "        self.capienza_serbatoio = capienza_serbatoio\n",
    "\n",
    "class Treno:\n",
    "    def __init__(self, vel_max, numero_vagoni):\n",
    "        self.vel_max = vel_max\n",
    "        self.numero_vagoni = numero_vagoni\n",
    "        "
   ]
  },
  {
   "cell_type": "markdown",
   "id": "07be1777",
   "metadata": {},
   "source": [
    "Vediamo come esplicitare una relazione di parentela in Python\n",
    "\n",
    "ATTENZIONE!! i figli sanno chi sono i genitori ma i genitori non sanno chi sono i figli, abbiamo delle relazioni unidirezionali"
   ]
  },
  {
   "cell_type": "code",
   "execution_count": 15,
   "id": "b3426af4",
   "metadata": {},
   "outputs": [],
   "source": [
    "class MezzoDiTrasporto:\n",
    "    def __init__(self, vel_max):\n",
    "        self.vel_max = vel_max\n",
    "    \n",
    "    def print_vel_max(self):\n",
    "        print(self.vel_max)\n",
    "    \n",
    "    # GETTER and SETTER\n",
    "    \n",
    "    def get_vel_max(self):\n",
    "        return self.vel_max\n",
    "    \n",
    "    def set_vel_max(self, new_vel_max):\n",
    "        self.vel_max = new_vel_max\n",
    "    \n",
    "    def __str__(self):\n",
    "        return \"mezzo di trasporto\"\n",
    "    vel = property(get_vel_max,set_vel_max)\n",
    "    \n",
    "class Automobile(MezzoDiTrasporto):\n",
    "    def __init__(self, vel_max, capienza_serbatoio):\n",
    "        # così mi riferisco all'attributo della classe ereditata, infatti super, dato un oggetto, ci da la classe \n",
    "        # da cui eredita\n",
    "        super().__init__(vel_max)\n",
    "        self.capienza_serbatoio = capienza_serbatoio\n",
    "    \n",
    "    def __str__(self):\n",
    "        return super().__str__() + \" anche un'automobile\""
   ]
  },
  {
   "cell_type": "code",
   "execution_count": 16,
   "id": "704941c9",
   "metadata": {},
   "outputs": [
    {
     "name": "stdout",
     "output_type": "stream",
     "text": [
      "mezzo di trasporto anche un'automobile\n"
     ]
    }
   ],
   "source": [
    "#Automobile(20, 50).print_vel_max()\n",
    "print(Automobile(20,50))"
   ]
  },
  {
   "cell_type": "code",
   "execution_count": 17,
   "id": "25dc4320",
   "metadata": {},
   "outputs": [
    {
     "name": "stdout",
     "output_type": "stream",
     "text": [
      "20\n",
      "dopo modifica: 10\n"
     ]
    }
   ],
   "source": [
    "mdt = MezzoDiTrasporto(20)\n",
    "print(mdt.vel)\n",
    "\n",
    "mdt.vel = 10\n",
    "print('dopo modifica: ' + str(mdt.vel))"
   ]
  },
  {
   "cell_type": "markdown",
   "id": "da04f628",
   "metadata": {},
   "source": [
    "## Comparazione tra classi\n",
    "Vediamo alcune funzioni che ci permettono di comparare le classi"
   ]
  },
  {
   "cell_type": "code",
   "execution_count": 18,
   "id": "99b7692e",
   "metadata": {},
   "outputs": [
    {
     "data": {
      "text/plain": [
       "False"
      ]
     },
     "execution_count": 18,
     "metadata": {},
     "output_type": "execute_result"
    }
   ],
   "source": [
    "u1 = Utente('aldo','bushaj', datetime.date(1995,10,19))\n",
    "u2 = Utente('aldo','bushaj', datetime.date(1995,10,19))\n",
    "\n",
    "# sono memorizzati in porzioni di memoria diverse, quindi non sono uguali\n",
    "u1 == u2"
   ]
  },
  {
   "cell_type": "code",
   "execution_count": 19,
   "id": "91b2fdcf",
   "metadata": {},
   "outputs": [],
   "source": [
    "from datetime import datetime as dt\n",
    "#print(dt.strptime(str(a1.data_nascita), \"%Y-%m-%d\") > dt.strptime(str(a2.data_nascita), \"%Y-%m-%d\"))\n",
    "class Admin(Utente):\n",
    "    def __eq__(self, altro):\n",
    "        return self.nome == altro.nome and self.cognome == altro.cognome and self.data_nascita == altro.data_nascita\n",
    "    def __gt__(self, altro):\n",
    "        return self.cognome > altro.cognome if self.cognome != altro.cognome else self.nome > altro.nome "
   ]
  },
  {
   "cell_type": "code",
   "execution_count": 20,
   "id": "21b571b3",
   "metadata": {},
   "outputs": [
    {
     "name": "stdout",
     "output_type": "stream",
     "text": [
      "mario rossi, età: 1975-01-01\n",
      "andrea verdi, età: 1971-01-01\n",
      "maria bianchi, età: 1962-01-01\n"
     ]
    }
   ],
   "source": [
    "a1 = Admin('aldo','bushaj', datetime.date(1995,10,19))\n",
    "a2 = Admin('aldo','bushaj', datetime.date(1995,10,19))\n",
    "\n",
    "# dal momento che ho definito nella cella sopra il modo in cui confornotarli, mi dice che sono uguali\n",
    "a1 == a2\n",
    "\n",
    "import random\n",
    "\n",
    "admins = [\n",
    "    Admin(n, c, datetime.date(random.randrange(1960, 1990), 1 , 1))\n",
    "    for n, c \n",
    "    in [('mario','rossi'), ('andrea','verdi'),('maria','bianchi')]\n",
    "]\n",
    "\n",
    "for a in admins:\n",
    "    print(a)"
   ]
  },
  {
   "cell_type": "markdown",
   "id": "f97426d8",
   "metadata": {},
   "source": [
    "### Esercizio generale sui fattori"
   ]
  },
  {
   "cell_type": "code",
   "execution_count": 21,
   "id": "8607c16c",
   "metadata": {},
   "outputs": [
    {
     "data": {
      "text/plain": [
       "[[2, 1], [5, 2]]"
      ]
     },
     "execution_count": 21,
     "metadata": {},
     "output_type": "execute_result"
    }
   ],
   "source": [
    "def is_primo(n):  \n",
    "    return [x for x in range(2,n) if n%x==0]==[]\n",
    "\n",
    "def genera_primi(n):  \n",
    "    return [x for x in range(2,n) if is_primo(x)]\n",
    "\n",
    "def fattori(n):\n",
    "    fattori = genera_primi(n)\n",
    "    if is_primo(n):\n",
    "        return(n,1)\n",
    "    res= []\n",
    "    resto = n\n",
    "    for f in fattori:\n",
    "        temp = [f,0]\n",
    "        while resto % f == 0:\n",
    "            resto = resto/f\n",
    "            temp = [f,temp[1] + 1]\n",
    "        if temp[1] != 0:\n",
    "            res.append(temp)\n",
    "    return res\n",
    "fattori(50)"
   ]
  },
  {
   "cell_type": "code",
   "execution_count": 27,
   "id": "67232465",
   "metadata": {},
   "outputs": [
    {
     "ename": "SyntaxError",
     "evalue": "unmatched ')' (3328878140.py, line 18)",
     "output_type": "error",
     "traceback": [
      "\u001b[1;36m  Cell \u001b[1;32mIn [27], line 18\u001b[1;36m\u001b[0m\n\u001b[1;33m    for f,e in fs.items()):\u001b[0m\n\u001b[1;37m                         ^\u001b[0m\n\u001b[1;31mSyntaxError\u001b[0m\u001b[1;31m:\u001b[0m unmatched ')'\n"
     ]
    }
   ],
   "source": [
    "def mcd_mcm(*numeri):  \n",
    "    \n",
    "    divisori=[]  \n",
    "    divisori_comune=[]\n",
    "    \n",
    "    for num in numeri:\n",
    "        divisori.append([n for n in range(1,num+1) if num%n==0])  \n",
    "        \n",
    "    divisori_comuni=set(divisori[0])\n",
    "    for i in range(len(divisori)-1):\n",
    "        divisori_comuni=divisori_comuni&set(divisori[i+1])\n",
    "    mcd=max(divisori_comuni)  \n",
    "    \n",
    "    fattori_comuni={}\n",
    "    for num in numeri:  \n",
    "        #print(fattori(num))\n",
    "        fs={f[0]:f[1] for f in fattori(num)}\n",
    "        for f,e in fs.items()):\n",
    "            if f not in fattori_comuni.keys() or e> fattori_comuni[f] :  \n",
    "                fattori_comuni[f]=e\n",
    "    mcm=1\n",
    "    for f,e in fattori_comuni.items():  \n",
    "        mcm*=(f**e)\n",
    "        \n",
    "    return mcd,mcm\n",
    "\n",
    "\n",
    "\n",
    "mcd,mcm = mcd_mcm(13,17,91)\n",
    "print(f'MCD è {mcd} e mcm è {mcm}')\n",
    "\n",
    "\n"
   ]
  },
  {
   "cell_type": "markdown",
   "id": "7821a90c",
   "metadata": {},
   "source": [
    "## Esercizio sulle classi\n",
    "creare lo scheletro (il model) per le seguenti entità nel contesto di un social network:\n",
    "- utente\n",
    "- amministratore\n",
    "- post\n",
    "- edit di un post\n",
    "- like\n",
    "- commento\n",
    "- edit di un commento\n",
    "descrivere le classi, stilare i possibili attributi, identificare le relazioni tra le classi.\n",
    "successivamente codificate il model in linguaggio python"
   ]
  },
  {
   "cell_type": "code",
   "execution_count": 32,
   "id": "e1be8b64",
   "metadata": {},
   "outputs": [
    {
     "data": {
      "text/plain": [
       "'\\nclass Post():\\ndef __init__(self):\\n'"
      ]
     },
     "execution_count": 32,
     "metadata": {},
     "output_type": "execute_result"
    }
   ],
   "source": [
    "class Utente():\n",
    "    def __init__(self, nome, cognome, social):\n",
    "        self.nome = nome\n",
    "        self.cognome = cognome\n",
    "        self.social = social\n",
    "\n",
    "# possibili ruoli: Moderatore, Amministratore, Inserzionista, ecc...\n",
    "class Amministratore(Utente):\n",
    "    def __init__(self, nome, cognome, social, ruolo):\n",
    "        super().__init_(nome,cognome,social)\n",
    "        self.ruolo = ruolo\n",
    "        \n",
    "class Post():\n",
    "    def __init__(self, autore):\n",
    "          self.autore = autore      \n",
    "        \n",
    "class Like():\n",
    "    def __init__(self, foto):\n",
    "        self.foto = foto\n",
    "        \n",
    "class Commento():\n",
    "    def __init__(self, foto):\n",
    "        self.foto = foto\n",
    "        \n",
    "\"\"\"\n",
    "class Post():\n",
    "def __init__(self):\n",
    "\"\"\"      \n"
   ]
  },
  {
   "cell_type": "code",
   "execution_count": null,
   "id": "d765c59f",
   "metadata": {},
   "outputs": [],
   "source": []
  }
 ],
 "metadata": {
  "kernelspec": {
   "display_name": "Python 3 (ipykernel)",
   "language": "python",
   "name": "python3"
  },
  "language_info": {
   "codemirror_mode": {
    "name": "ipython",
    "version": 3
   },
   "file_extension": ".py",
   "mimetype": "text/x-python",
   "name": "python",
   "nbconvert_exporter": "python",
   "pygments_lexer": "ipython3",
   "version": "3.10.7"
  }
 },
 "nbformat": 4,
 "nbformat_minor": 5
}
