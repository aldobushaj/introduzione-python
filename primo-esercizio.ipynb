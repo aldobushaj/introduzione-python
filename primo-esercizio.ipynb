{
 "cells": [
  {
   "cell_type": "markdown",
   "id": "4e602bda",
   "metadata": {},
   "source": [
    "# Benvenuti\n",
    "Ricordarsi che è possiblie utilizzare il linguaggio di markdown all'interno dei notebook (guida ->)\n",
    "https://docs.github.com/en/get-started/writing-on-github/getting-started-with-writing-and-formatting-on-github/basic-writing-and-formatting-syntax"
   ]
  },
  {
   "cell_type": "markdown",
   "id": "15f0ef70",
   "metadata": {},
   "source": [
    "Per una guida sull'utilizzo ottimale di jupyter notebook consultare il seguente link ->\n",
    "https://towardsdatascience.com/jypyter-notebook-shortcuts-bf0101a98330"
   ]
  },
  {
   "cell_type": "markdown",
   "id": "459fc4c3",
   "metadata": {},
   "source": [
    "Per un insieme $S = {s_1, s_2, \\dots, s_n} $ di numeri interi, è possibile calcolare il valore medio come $ (s_1 + s_2 + \\dots + s_n) /n $.\n",
    "\n",
    "$ \\dfrac{(s_1 + s_2 + \\dots + s_n)}{n} $\n",
    "\n",
    "$ \\dfrac{ \\sum_{i=1}^{n} s_i}{n} $"
   ]
  },
  {
   "cell_type": "markdown",
   "id": "5b37ed45",
   "metadata": {},
   "source": [
    "Funzione built in già presente con l'installazione di un iterpete python"
   ]
  },
  {
   "cell_type": "code",
   "execution_count": 1,
   "id": "4d6555fe",
   "metadata": {},
   "outputs": [
    {
     "name": "stdout",
     "output_type": "stream",
     "text": [
      "Corso di python\n"
     ]
    }
   ],
   "source": [
    "print('Corso di python')"
   ]
  },
  {
   "cell_type": "markdown",
   "id": "27bc7464",
   "metadata": {},
   "source": [
    "help ci da informazioni sui comandi"
   ]
  },
  {
   "cell_type": "code",
   "execution_count": 2,
   "id": "ad0243ff",
   "metadata": {
    "scrolled": true
   },
   "outputs": [
    {
     "name": "stdout",
     "output_type": "stream",
     "text": [
      "Help on built-in function print in module builtins:\n",
      "\n",
      "print(...)\n",
      "    print(value, ..., sep=' ', end='\\n', file=sys.stdout, flush=False)\n",
      "    \n",
      "    Prints the values to a stream, or to sys.stdout by default.\n",
      "    Optional keyword arguments:\n",
      "    file:  a file-like object (stream); defaults to the current sys.stdout.\n",
      "    sep:   string inserted between values, default a space.\n",
      "    end:   string appended after the last value, default a newline.\n",
      "    flush: whether to forcibly flush the stream.\n",
      "\n"
     ]
    }
   ],
   "source": [
    "help(print)"
   ]
  },
  {
   "cell_type": "markdown",
   "id": "e4df51dd",
   "metadata": {},
   "source": [
    "Alcune librerie bisogna installarle mentre altre sono già installate con python, ad esempio math è già disonibile"
   ]
  },
  {
   "cell_type": "code",
   "execution_count": 3,
   "id": "10181517",
   "metadata": {},
   "outputs": [],
   "source": [
    "import math"
   ]
  },
  {
   "cell_type": "code",
   "execution_count": 4,
   "id": "e641417b",
   "metadata": {},
   "outputs": [
    {
     "data": {
      "text/plain": [
       "0.11942892601833845"
      ]
     },
     "execution_count": 4,
     "metadata": {},
     "output_type": "execute_result"
    }
   ],
   "source": [
    "math.atan(0.12)"
   ]
  },
  {
   "cell_type": "markdown",
   "id": "5c119980",
   "metadata": {},
   "source": [
    "## I tipi di dati in python\n",
    "\n",
    "Ci sono tipi di dato primitivi:\n",
    "-int\n",
    "-str (sarebbe la stringa)\n",
    "-ecc\n",
    "\n",
    "Come capire il tipo di dato di una variabile?\n",
    "con la funzione build-in type\n",
    "\n",
    "NB python è tipizzato. Infatti gestisce i tipi di dato differnziandoli per tipo. Durante le operazioni di assegnamento non devo specificare il tipo di dato che sto associando: si dice inferenza del tipo di dato (deduzione logica)"
   ]
  },
  {
   "cell_type": "code",
   "execution_count": 5,
   "id": "5de756b9",
   "metadata": {},
   "outputs": [
    {
     "name": "stdout",
     "output_type": "stream",
     "text": [
      "1 Ciao\n",
      "<class 'int'> <class 'str'>\n"
     ]
    }
   ],
   "source": [
    "a=1\n",
    "b='Ciao'\n",
    "print(a,b)\n",
    "print(type(a),type(b))"
   ]
  },
  {
   "cell_type": "markdown",
   "id": "5ae71519",
   "metadata": {},
   "source": [
    "Nei linguaggi di programmazione ad alto livello, gli oggetti sono delle strutture dati che conservano un insieme di info.\n",
    "EX un numero intero $n$ può in alcuni linguaggi (java) essere salvato in una cella di memoria di 32 bit direttamente.\n",
    "In questo caso si parla di variabile primitiva, ovvero tipo di dato fondamentale (opp atomico, non si può scomporre in altri sottotipi di dato).\n",
    "Immaginiamo di dover creare un modello computazionale per poter gestire i numeri complessi nella forma $a+ib$ con $i$ num immaginario. (non ci basta più la cella di mem) ci serve una struttura di dati per gestire la parte reale e parte la immaginaria.\n",
    "Gli oggetti, oltre che custodire dei dati, possono anche esporre delle funzioni (ex operatore + per sommare numeri complessi).\n",
    "Può esporre per es la funzione per calcolare il modulo di un num complesso.\n",
    "Un oggetto è una struttura dati (primitivi o oggetti a loro volta) che può esporre anche delle funzioni.\n",
    "\n",
    "Un tipo primitivo può essere trattato come un oggetto ma non viceversa, in questo caso si usano delle strutture dati cosidette \"wrappers\" che incorporano il comportamento di un dato primitivo e lo trasportano in un oggetto.\n",
    "La convenienza di usare strutture dati wrapper è poter aggiungere funzioni ad un oggetto primitivo.\n",
    "\n",
    "In python c'è un comando per generare la lista di tutte le funzioni di una certa classe"
   ]
  },
  {
   "cell_type": "code",
   "execution_count": 6,
   "id": "f474ad84",
   "metadata": {},
   "outputs": [
    {
     "data": {
      "text/plain": [
       "['__add__',\n",
       " '__class__',\n",
       " '__contains__',\n",
       " '__delattr__',\n",
       " '__dir__',\n",
       " '__doc__',\n",
       " '__eq__',\n",
       " '__format__',\n",
       " '__ge__',\n",
       " '__getattribute__',\n",
       " '__getitem__',\n",
       " '__getnewargs__',\n",
       " '__gt__',\n",
       " '__hash__',\n",
       " '__init__',\n",
       " '__init_subclass__',\n",
       " '__iter__',\n",
       " '__le__',\n",
       " '__len__',\n",
       " '__lt__',\n",
       " '__mod__',\n",
       " '__mul__',\n",
       " '__ne__',\n",
       " '__new__',\n",
       " '__reduce__',\n",
       " '__reduce_ex__',\n",
       " '__repr__',\n",
       " '__rmod__',\n",
       " '__rmul__',\n",
       " '__setattr__',\n",
       " '__sizeof__',\n",
       " '__str__',\n",
       " '__subclasshook__',\n",
       " 'capitalize',\n",
       " 'casefold',\n",
       " 'center',\n",
       " 'count',\n",
       " 'encode',\n",
       " 'endswith',\n",
       " 'expandtabs',\n",
       " 'find',\n",
       " 'format',\n",
       " 'format_map',\n",
       " 'index',\n",
       " 'isalnum',\n",
       " 'isalpha',\n",
       " 'isascii',\n",
       " 'isdecimal',\n",
       " 'isdigit',\n",
       " 'isidentifier',\n",
       " 'islower',\n",
       " 'isnumeric',\n",
       " 'isprintable',\n",
       " 'isspace',\n",
       " 'istitle',\n",
       " 'isupper',\n",
       " 'join',\n",
       " 'ljust',\n",
       " 'lower',\n",
       " 'lstrip',\n",
       " 'maketrans',\n",
       " 'partition',\n",
       " 'removeprefix',\n",
       " 'removesuffix',\n",
       " 'replace',\n",
       " 'rfind',\n",
       " 'rindex',\n",
       " 'rjust',\n",
       " 'rpartition',\n",
       " 'rsplit',\n",
       " 'rstrip',\n",
       " 'split',\n",
       " 'splitlines',\n",
       " 'startswith',\n",
       " 'strip',\n",
       " 'swapcase',\n",
       " 'title',\n",
       " 'translate',\n",
       " 'upper',\n",
       " 'zfill']"
      ]
     },
     "execution_count": 6,
     "metadata": {},
     "output_type": "execute_result"
    }
   ],
   "source": [
    "dir(b)"
   ]
  },
  {
   "cell_type": "code",
   "execution_count": 7,
   "id": "96306917",
   "metadata": {},
   "outputs": [
    {
     "data": {
      "text/plain": [
       "False"
      ]
     },
     "execution_count": 7,
     "metadata": {},
     "output_type": "execute_result"
    }
   ],
   "source": [
    "b.isnumeric()"
   ]
  },
  {
   "cell_type": "code",
   "execution_count": 8,
   "id": "4db6c88f",
   "metadata": {},
   "outputs": [
    {
     "name": "stdout",
     "output_type": "stream",
     "text": [
      "<class 'str'>\n",
      "True\n"
     ]
    }
   ],
   "source": [
    "c='1'\n",
    "print(type(c))\n",
    "print(c.isnumeric())"
   ]
  },
  {
   "cell_type": "markdown",
   "id": "d0f8cfbb",
   "metadata": {},
   "source": [
    "Non posso sommare c con numeri perchè di fatto è una stringa, sì numerica ma comunque una stringa  no puedo\n",
    "\n",
    "Quando un'operazione è rischiosa per la runtime può essere circondata da una struttura a blocchi (sintassi base) che previene l'interruzione forzata del programma. NB python ha bisogno dell'indentazione, che fa da solo. Uso il try e except se devo mettere un comando rischiso e con except dico cosa eseguire se quello nel try fallisce. Se va liscio il try no esegue l'except."
   ]
  },
  {
   "cell_type": "code",
   "execution_count": 9,
   "id": "d0c956cc",
   "metadata": {},
   "outputs": [
    {
     "name": "stdout",
     "output_type": "stream",
     "text": [
      "Non posso sommare col + una stringa ed un intero\n"
     ]
    }
   ],
   "source": [
    "try:\n",
    "    a+c\n",
    "except:\n",
    "    print('Non posso sommare col + una stringa ed un intero')"
   ]
  },
  {
   "cell_type": "code",
   "execution_count": 10,
   "id": "8b670fd7",
   "metadata": {},
   "outputs": [
    {
     "data": {
      "text/plain": [
       "10715086071862673209484250490600018105614048117055336074437503883703510511249361224931983788156958581275946729175531468251871452856923140435984577574698574803934567774824230985421074605062371141877954182153046474983581941267398767559165543946077062914571196477686542167660429831652624386837205668069376"
      ]
     },
     "execution_count": 10,
     "metadata": {},
     "output_type": "execute_result"
    }
   ],
   "source": [
    "2**1000"
   ]
  }
 ],
 "metadata": {
  "kernelspec": {
   "display_name": "Python 3 (ipykernel)",
   "language": "python",
   "name": "python3"
  },
  "language_info": {
   "codemirror_mode": {
    "name": "ipython",
    "version": 3
   },
   "file_extension": ".py",
   "mimetype": "text/x-python",
   "name": "python",
   "nbconvert_exporter": "python",
   "pygments_lexer": "ipython3",
   "version": "3.10.7"
  }
 },
 "nbformat": 4,
 "nbformat_minor": 5
}
