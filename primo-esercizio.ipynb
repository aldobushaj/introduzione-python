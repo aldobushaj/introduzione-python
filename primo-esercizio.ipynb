{
 "cells": [
  {
   "cell_type": "code",
   "execution_count": 4,
   "id": "c59e43db",
   "metadata": {},
   "outputs": [],
   "source": [
    "a = 3\n",
    "b = 0"
   ]
  },
  {
   "cell_type": "code",
   "execution_count": 5,
   "id": "2aad9273",
   "metadata": {},
   "outputs": [
    {
     "data": {
      "text/plain": [
       "3"
      ]
     },
     "execution_count": 5,
     "metadata": {},
     "output_type": "execute_result"
    }
   ],
   "source": [
    "a"
   ]
  },
  {
   "cell_type": "markdown",
   "id": "90e3292f",
   "metadata": {},
   "source": [
    "# Benvenuti\n",
    "## Benvenuti"
   ]
  },
  {
   "cell_type": "markdown",
   "id": "22660683",
   "metadata": {},
   "source": [
    "Per un insieme $S = {s_1, s_2, \\dots, s_n} $ di numeri interi, è possibile calcolare il valore medio come $ (s_1 + s_2 + \\dots + s_n) /n $.\n",
    "\n",
    "$ \\dfrac{(s_1 + s_2 + \\dots + s_n)}{n} $\n",
    "\n",
    "$ \\dfrac{ \\sum_{i=1}^{n} s_i}{n} $"
   ]
  },
  {
   "cell_type": "code",
   "execution_count": null,
   "id": "ae0fdd64",
   "metadata": {},
   "outputs": [],
   "source": []
  }
 ],
 "metadata": {
  "kernelspec": {
   "display_name": "Python 3 (ipykernel)",
   "language": "python",
   "name": "python3"
  },
  "language_info": {
   "codemirror_mode": {
    "name": "ipython",
    "version": 3
   },
   "file_extension": ".py",
   "mimetype": "text/x-python",
   "name": "python",
   "nbconvert_exporter": "python",
   "pygments_lexer": "ipython3",
   "version": "3.10.7"
  }
 },
 "nbformat": 4,
 "nbformat_minor": 5
}
