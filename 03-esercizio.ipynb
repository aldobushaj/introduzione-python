{
 "cells": [
  {
   "cell_type": "markdown",
   "id": "18b0a718",
   "metadata": {},
   "source": [
    "# Le stringhe\n",
    "\n",
    "Le stringhe in python sono viste come \"sequenze di caratteri\", la stringa è un tipo di dato Python che contiene funzioni per poterle utilizzare comodamente."
   ]
  },
  {
   "cell_type": "code",
   "execution_count": 1,
   "id": "7a3e1b82",
   "metadata": {},
   "outputs": [
    {
     "name": "stdout",
     "output_type": "stream",
     "text": [
      "012 56789 12345678\n"
     ]
    }
   ],
   "source": [
    "s = '0123456789'\n",
    "print(s[:3], s[-5:], s[1:-1])"
   ]
  },
  {
   "cell_type": "markdown",
   "id": "ba1136da",
   "metadata": {},
   "source": [
    "Prendi un carattere ogni due, la seconda istruzione fa la stessa cosa ma dal carattere in indice 1"
   ]
  },
  {
   "cell_type": "code",
   "execution_count": 2,
   "id": "0cab1061",
   "metadata": {},
   "outputs": [
    {
     "name": "stdout",
     "output_type": "stream",
     "text": [
      "02468\n",
      "13579\n"
     ]
    }
   ],
   "source": [
    "print(s[::2])\n",
    "print(s[1::2])"
   ]
  },
  {
   "cell_type": "markdown",
   "id": "c3503e05",
   "metadata": {},
   "source": [
    "Le liste sono oggetti mutabili, infatti posso cambiare in stringa il numero in posizione 2"
   ]
  },
  {
   "cell_type": "code",
   "execution_count": 3,
   "id": "dd5829f7",
   "metadata": {},
   "outputs": [
    {
     "name": "stdout",
     "output_type": "stream",
     "text": [
      "[0, 1, 2, 3, 4, 5, 6, 7, 8, 9]\n",
      "[0, 1, 'ciao', 3, 4, 5, 6, 7, 8, 9]\n"
     ]
    }
   ],
   "source": [
    "l = [0,1,2,3,4,5,6,7,8,9]\n",
    "print(l)\n",
    "l[2] = 'ciao'\n",
    "print(l)"
   ]
  },
  {
   "cell_type": "markdown",
   "id": "4a0be984",
   "metadata": {},
   "source": [
    "Invece le stringhe sono oggetti immutabili, per questione di meccanismi per la memorizzazione delle stringhe, sono meccanismi molto più complessi rispetto alla gestione delle liste."
   ]
  },
  {
   "cell_type": "code",
   "execution_count": 4,
   "id": "fdc608e9",
   "metadata": {},
   "outputs": [
    {
     "name": "stdout",
     "output_type": "stream",
     "text": [
      "impossibile modificare il valore\n"
     ]
    }
   ],
   "source": [
    "try:\n",
    "    s[2] = 'x' # questo non va perché le stringhe sono immutabili\n",
    "except:\n",
    "    print('impossibile modificare il valore')"
   ]
  },
  {
   "cell_type": "markdown",
   "id": "4848cc43",
   "metadata": {},
   "source": [
    "Così invece si può in quanto concateno solamente, non modifico niente."
   ]
  },
  {
   "cell_type": "code",
   "execution_count": 5,
   "id": "0c63e221",
   "metadata": {},
   "outputs": [
    {
     "name": "stdout",
     "output_type": "stream",
     "text": [
      "01x3456789\n"
     ]
    }
   ],
   "source": [
    "s = s[:2] + 'x' + s[3:]\n",
    "print(s)"
   ]
  },
  {
   "cell_type": "code",
   "execution_count": 6,
   "id": "cc025b3e",
   "metadata": {},
   "outputs": [
    {
     "name": "stdout",
     "output_type": "stream",
     "text": [
      "ciao\n",
      "ciao\n",
      "questo è un \"esempio\" di utilizzo di apici combinati\n"
     ]
    }
   ],
   "source": [
    "s2 = \"ciao\"\n",
    "s3 = 'ciao'\n",
    "s4 = 'questo è un \"esempio\" di utilizzo di apici combinati'\n",
    "print(s2)\n",
    "print(s3)\n",
    "print(s4)"
   ]
  },
  {
   "cell_type": "code",
   "execution_count": 7,
   "id": "ada1e009",
   "metadata": {},
   "outputs": [
    {
     "name": "stdout",
     "output_type": "stream",
     "text": [
      "1\n",
      "2\n",
      "3\n",
      "auguri\n"
     ]
    }
   ],
   "source": [
    "s = '1\\n2\\n3\\nauguri'\n",
    "print(s)"
   ]
  },
  {
   "cell_type": "code",
   "execution_count": 8,
   "id": "22ed3f06",
   "metadata": {},
   "outputs": [
    {
     "name": "stdout",
     "output_type": "stream",
     "text": [
      "NOME\tCognome\n",
      "MARIA\tVERDI\n",
      "MARIO\tROSSI\n"
     ]
    }
   ],
   "source": [
    "# \\t = tab, come se premessimo il tasto tab\n",
    "s = 'NOME\\tCognome\\nMARIA\\tVERDI\\nMARIO\\tROSSI'\n",
    "print(s)"
   ]
  },
  {
   "cell_type": "code",
   "execution_count": 9,
   "id": "fc2bc5aa",
   "metadata": {},
   "outputs": [
    {
     "name": "stdout",
     "output_type": "stream",
     "text": [
      "\n",
      "questa stringa\n",
      "è molto lunga\n",
      "in questa stringa\n",
      "posso anche utilizzare\n",
      "gli 'apici singoli'\n",
      "\n"
     ]
    }
   ],
   "source": [
    "s = \"\"\"\n",
    "questa stringa\n",
    "è molto lunga\n",
    "in questa stringa\n",
    "posso anche utilizzare\n",
    "gli 'apici singoli'\n",
    "\"\"\"\n",
    "print(s)"
   ]
  },
  {
   "cell_type": "markdown",
   "id": "61b93ac8",
   "metadata": {},
   "source": [
    "E possibile utilizzare l'operatore + per concatenare le stringhe, a differenza dell'effetto che il + avrebbe su dei dati numerici, il risulatato cambia. Python fa inferenza, deduce quindi il comportamento attraverso il tipo di dato. Si può utilizzare anche * per operare sulle stringhe."
   ]
  },
  {
   "cell_type": "code",
   "execution_count": 10,
   "id": "c8d646ff",
   "metadata": {},
   "outputs": [
    {
     "name": "stdout",
     "output_type": "stream",
     "text": [
      "ciaociaociaociaociao\n",
      "[0, 1, 'ciao', 3, 4, 5, 6, 7, 8, 9, 0, 1, 'ciao', 3, 4, 5, 6, 7, 8, 9]\n"
     ]
    }
   ],
   "source": [
    "s = 'ciao'\n",
    "print(s*5) # moltiplica la stringa\n",
    "print(l*2) # in questo caso invece moltiplico la lista"
   ]
  },
  {
   "cell_type": "markdown",
   "id": "e06dbe6b",
   "metadata": {},
   "source": [
    "Si può sovrascrivere il comportamento degli operatori fondamentali.\n",
    "join() è un metodo delle stringhe (stringa.join()) che prende in ingresso una lista di stringhe e da in output una stringa composta da tutti gli elementi della lista separati dalla stringa usata per chiamare il metodo."
   ]
  },
  {
   "cell_type": "code",
   "execution_count": 11,
   "id": "96edb4a7",
   "metadata": {},
   "outputs": [
    {
     "name": "stdout",
     "output_type": "stream",
     "text": [
      "0-1-ciao-3-4-5-6-7-8-9\n"
     ]
    }
   ],
   "source": [
    "st = '-'.join([str(v) for v in l])#l.join('-')\n",
    "print(st) # str è una funzione di built in e mi permette di aggiungere - nella stringa, senza la chiamata a str \n",
    "            #dava errore in quanto utilizziamo numeri all'interno della lista"
   ]
  },
  {
   "cell_type": "code",
   "execution_count": 12,
   "id": "46270f1a",
   "metadata": {},
   "outputs": [
    {
     "name": "stdout",
     "output_type": "stream",
     "text": [
      "9\n"
     ]
    }
   ],
   "source": [
    "# index trova l'indice di un elemento in una lista, find invece la stessa cosa ma in un stringa\n",
    "print(st.find('3-4')) # find() indica l'indice da cui parte la sottostringa"
   ]
  },
  {
   "cell_type": "code",
   "execution_count": 13,
   "id": "ed966f04",
   "metadata": {},
   "outputs": [
    {
     "name": "stdout",
     "output_type": "stream",
     "text": [
      "ahnfakjfnakj\n"
     ]
    }
   ],
   "source": [
    "st = '        ahnfakjfnakj        ' # come elimiare gli spazi vuoti?\n",
    "print(st.strip())  # vengono eliminati tutti gli spazi prima e dopo"
   ]
  },
  {
   "cell_type": "code",
   "execution_count": 14,
   "id": "1962d28e",
   "metadata": {},
   "outputs": [
    {
     "name": "stdout",
     "output_type": "stream",
     "text": [
      "quanto mi piace Python\n"
     ]
    }
   ],
   "source": [
    "st2 = 'non mi piace Python'\n",
    "st2 = st2.replace('non','quanto') # replace() interviene su una stringa creandone una nuova, quindi la dobbiamo assegnare\n",
    "print(st2)"
   ]
  },
  {
   "cell_type": "code",
   "execution_count": 20,
   "id": "695d54db",
   "metadata": {},
   "outputs": [
    {
     "name": "stdout",
     "output_type": "stream",
     "text": [
      "a b c d\n",
      "['a', 'b', 'c', 'd']\n"
     ]
    }
   ],
   "source": [
    "# join() unisce gli elementi di una lista. Per separare i caratteri di una stringa e metterli in una lista split()\n",
    "l = ['a','b','c','d'] # lista di stringhe\n",
    "nuov_stringa = ' '.join(l)\n",
    "# a+' '+b+' '+c+' '+d\n",
    "print(nuov_stringa)\n",
    "\n",
    "# per dividere la stringa possiamo utilizzare split() \n",
    "nuova_lista = nuov_stringa.split(' ') # separo gli elementi dove vedo lo spazio bianco\n",
    "print(nuova_lista)"
   ]
  },
  {
   "cell_type": "code",
   "execution_count": null,
   "id": "17c777df",
   "metadata": {},
   "outputs": [],
   "source": []
  }
 ],
 "metadata": {
  "kernelspec": {
   "display_name": "Python 3 (ipykernel)",
   "language": "python",
   "name": "python3"
  },
  "language_info": {
   "codemirror_mode": {
    "name": "ipython",
    "version": 3
   },
   "file_extension": ".py",
   "mimetype": "text/x-python",
   "name": "python",
   "nbconvert_exporter": "python",
   "pygments_lexer": "ipython3",
   "version": "3.10.7"
  }
 },
 "nbformat": 4,
 "nbformat_minor": 5
}
