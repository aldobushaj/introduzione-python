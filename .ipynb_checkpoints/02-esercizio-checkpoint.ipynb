{
 "cells": [
  {
   "cell_type": "markdown",
   "id": "a3d9ed0a",
   "metadata": {},
   "source": [
    "# Strutture dati\n",
    "\n",
    "In molti casi è necessario conservare in una sola variaible un insieme di elementi, in questo caso si possoono utilizzare strutture di dati come le LISTE."
   ]
  },
  {
   "cell_type": "code",
   "execution_count": 1,
   "id": "a15dd156",
   "metadata": {},
   "outputs": [],
   "source": [
    "elenco = [1,3,5,7,9,1.5,-4.8, 'ciao']"
   ]
  },
  {
   "cell_type": "markdown",
   "id": "e56ad743",
   "metadata": {},
   "source": [
    "Le liste possono contenere oggetti appartenenti a diversi tipi di dato, come es interi e stringhe o adirittura altre liste. Per accedere ad uno degli elementi della lista possiamo usare il cosiddetto \"indice della lista\" indicato come numero racchiuso nelle parentesi quadre che segue il nome della variabile."
   ]
  },
  {
   "cell_type": "code",
   "execution_count": 2,
   "id": "099fed32",
   "metadata": {},
   "outputs": [
    {
     "name": "stdout",
     "output_type": "stream",
     "text": [
      "3\n"
     ]
    }
   ],
   "source": [
    "print(elenco[1])"
   ]
  },
  {
   "cell_type": "markdown",
   "id": "6f90b0b2",
   "metadata": {},
   "source": [
    "L'indice parte sempre da 0. Se metto un indice più grande del num degli elementi della lista -1, ottengo errore di index out of bound (index error)."
   ]
  },
  {
   "cell_type": "code",
   "execution_count": 3,
   "id": "ee7f2d14",
   "metadata": {},
   "outputs": [
    {
     "name": "stdout",
     "output_type": "stream",
     "text": [
      "index fuori dai valori consentiti\n"
     ]
    }
   ],
   "source": [
    "try:\n",
    "    print(elenco[20])\n",
    "except:\n",
    "    print('index fuori dai valori consentiti')"
   ]
  },
  {
   "cell_type": "markdown",
   "id": "cbb97b11",
   "metadata": {},
   "source": [
    "In molti casi è utile sapere il numero della lista. Ciò si può ottenere con la funzione di built-in len()"
   ]
  },
  {
   "cell_type": "code",
   "execution_count": 4,
   "id": "0311297f",
   "metadata": {},
   "outputs": [
    {
     "data": {
      "text/plain": [
       "8"
      ]
     },
     "execution_count": 4,
     "metadata": {},
     "output_type": "execute_result"
    }
   ],
   "source": [
    "len(elenco)"
   ]
  },
  {
   "cell_type": "markdown",
   "id": "fff7bac5",
   "metadata": {},
   "source": [
    "Ad esempio per stampare l'ultimo elemento della lista posso farlo in diversi modi:"
   ]
  },
  {
   "cell_type": "code",
   "execution_count": 5,
   "id": "daf5f071",
   "metadata": {},
   "outputs": [
    {
     "name": "stdout",
     "output_type": "stream",
     "text": [
      "ciao\n",
      "ciao\n"
     ]
    }
   ],
   "source": [
    "print(elenco[len(elenco)-1])\n",
    "print(elenco[-1])"
   ]
  },
  {
   "cell_type": "markdown",
   "id": "5468b4d1",
   "metadata": {},
   "source": [
    "E possibile ottenere delle sotto liste (sublist) utilizzando l'operatore \":\" all'interno delle parentesi quadre. Il primo limite è inclusivo il secondo esclusivo (quindi non incluso nella stampa, infatti l'elemento all'indice 3 non lo stampo)"
   ]
  },
  {
   "cell_type": "code",
   "execution_count": 6,
   "id": "1967448a",
   "metadata": {},
   "outputs": [
    {
     "name": "stdout",
     "output_type": "stream",
     "text": [
      "[1, 3, 5]\n",
      "[1, 3, 5]\n",
      "[7, 9, 1.5, -4.8, 'ciao']\n",
      "[1, 3, 5, 7, 9, -4.8, 'ciao']\n"
     ]
    }
   ],
   "source": [
    "print(elenco[0:3])\n",
    "print(elenco[:3])\n",
    "print(elenco[3:])\n",
    "n = 5\n",
    "\n",
    "print(elenco[0:n] + elenco[n+1:])"
   ]
  },
  {
   "cell_type": "markdown",
   "id": "8d5a8d11",
   "metadata": {},
   "source": [
    "Quando manipoliamo una lista al fine di creare una sottolista usando l'operatore \":\" stiamo creando una nuova lista che è indipendente dalla lista originale, non stiamo modificando la lista originale. Siccome l'operatore \":\" crea sempre una nuova copia della lista, il modo più veloce di copiare una lista in python è il seguente:"
   ]
  },
  {
   "cell_type": "code",
   "execution_count": 7,
   "id": "54bd9ac8",
   "metadata": {},
   "outputs": [],
   "source": [
    "elenco_copia = elenco[:]"
   ]
  },
  {
   "cell_type": "markdown",
   "id": "59ebc81c",
   "metadata": {},
   "source": [
    "Inoltre è possibile definire una lista vuota"
   ]
  },
  {
   "cell_type": "code",
   "execution_count": 8,
   "id": "a0c17c69",
   "metadata": {},
   "outputs": [],
   "source": [
    "vuota = []"
   ]
  },
  {
   "cell_type": "markdown",
   "id": "2052270b",
   "metadata": {},
   "source": [
    "Possiamo utilizzare delle funzioni per inserire in una lista un determinato elemento, concatenare le liste e fare:\n",
    "- append (inserisce in unltima posizione) \n",
    "- insert (inserisce in una determianta posizione) \n",
    "- pop (elimina elemento in ultima posizione) \n",
    "- remove (elimina elemento specificato) \n",
    "- reverse (inverte tutti gli elementi dell'array) \n",
    "- sort (ordina gli elementi ma solo se sono dello stesso tipo)\n",
    "- index (indica in che posizione è l'elemento che abbiamo passato come parametro)"
   ]
  },
  {
   "cell_type": "code",
   "execution_count": 9,
   "id": "e6a9dc76",
   "metadata": {},
   "outputs": [
    {
     "name": "stdout",
     "output_type": "stream",
     "text": [
      "[1, 3, 5, 'python', 7, 9, 1.5, -4.8, 'ciao']\n",
      "[1, 3, 5, 'python', 7, 9, 1.5, -4.8, 'ciao', 1, 2, 3]\n",
      "[1, 3, 5, 'python', 7, 9, 1.5, -4.8, 1, 2, 3]\n",
      "[1, 3, 5, 'python', 7, 9, 1.5, -4.8, 1, 2]\n",
      "6\n",
      "['ciao', -4.8, 1.5, 9, 7, 5, 3, 1]\n",
      "qualcosa è andato storto\n",
      "[1, 3, 5, 7, 9, 1.5, -4.8, 1, 2]\n",
      "[-4.8, 1, 1, 1.5, 2, 3, 5, 7, 9]\n"
     ]
    }
   ],
   "source": [
    "elenco.insert(3, 'python')\n",
    "print(elenco)\n",
    "\n",
    "elenco.extend([1,2,3])\n",
    "print(elenco)\n",
    "\n",
    "elenco.remove('ciao')\n",
    "print(elenco)\n",
    "\n",
    "elenco.pop()\n",
    "print(elenco)\n",
    "\n",
    "print(elenco.index(1.5))\n",
    "\n",
    "elenco_copia.reverse()\n",
    "print(elenco_copia)\n",
    "\n",
    "try:\n",
    "    elenco.sort()\n",
    "except:\n",
    "    print('qualcosa è andato storto')\n",
    "\n",
    "elenco.remove('python')\n",
    "print(elenco)\n",
    "\n",
    "elenco.sort()\n",
    "print(elenco)"
   ]
  },
  {
   "cell_type": "markdown",
   "id": "e28dcaa4",
   "metadata": {},
   "source": [
    "Utilizzo di range e funzioni di built-in combinate.\n",
    "Con il primo comando creo una lista di 10 elementi, con il comando successivo invece creo una lista con tutti i possibili indici della lista appena creata, infine il terzo somma tutti gli elementi."
   ]
  },
  {
   "cell_type": "code",
   "execution_count": 10,
   "id": "01ced624",
   "metadata": {},
   "outputs": [
    {
     "name": "stdout",
     "output_type": "stream",
     "text": [
      "[0, 1, 2, 3, 4, 5, 6, 7, 8, 9]\n",
      "[0, 1, 2, 3, 4, 5, 6, 7, 8]\n",
      "36\n"
     ]
    }
   ],
   "source": [
    "print(list(range(10)))\n",
    "print(list(range(len(elenco))))\n",
    "print(sum(list(range(len(elenco)))))"
   ]
  },
  {
   "cell_type": "code",
   "execution_count": 11,
   "id": "6dfb1bdf",
   "metadata": {},
   "outputs": [
    {
     "name": "stdout",
     "output_type": "stream",
     "text": [
      "range(0, 10)\n",
      "[10, 11, 12, 13, 14, 15, 16, 17, 18, 19, 20]\n",
      "[10, 13, 16, 19]\n"
     ]
    }
   ],
   "source": [
    "print(range(10))\n",
    "print(list(range(10,21)))\n",
    "print(list(range(10,21,3)))"
   ]
  },
  {
   "cell_type": "markdown",
   "id": "8572dc3c",
   "metadata": {},
   "source": [
    "list comprehension: ovvero sintassi per creare liste in maniera veloce ed efficiente \n",
    "\n",
    "Mettiamo di avere una lista contenente numeri e vogliamo ottenre una lista con gli stessi numeri ma elevata al quadrato"
   ]
  },
  {
   "cell_type": "code",
   "execution_count": 12,
   "id": "cb2a63dd",
   "metadata": {},
   "outputs": [
    {
     "name": "stdout",
     "output_type": "stream",
     "text": [
      "[1, 4, 9, 16, 25]\n"
     ]
    }
   ],
   "source": [
    "numeri = [1,2,3,4,5]\n",
    "quadrati = [n**2 for n in numeri]\n",
    "print(quadrati)"
   ]
  },
  {
   "cell_type": "code",
   "execution_count": 13,
   "id": "1b446fa8",
   "metadata": {},
   "outputs": [
    {
     "name": "stdout",
     "output_type": "stream",
     "text": [
      "[2, 4]\n"
     ]
    }
   ],
   "source": [
    "filtro_pari = [n for n in numeri if n%2 == 0]\n",
    "print(filtro_pari)"
   ]
  },
  {
   "cell_type": "code",
   "execution_count": 14,
   "id": "ee718818",
   "metadata": {},
   "outputs": [
    {
     "name": "stdout",
     "output_type": "stream",
     "text": [
      "[1, 1, 1, 1, 1]\n",
      "[1, 1, 1, 1, 1]\n",
      "[1, 1, 1, 1, 1]\n",
      "[1, 1, 1, 1, 1]\n",
      "[1, 1, 1, 1, 1]\n"
     ]
    }
   ],
   "source": [
    "matrice = [[1 for x in range(5)] for x in range(5)]\n",
    "for riga in matrice:\n",
    "    print(riga)      "
   ]
  },
  {
   "cell_type": "markdown",
   "id": "cfd653d9",
   "metadata": {},
   "source": [
    "TASK 1:\n",
    "Salvare la dimensione della matrice in una variabile \"n\" e generare matrici di dimensione diversa a seconda del valore di n"
   ]
  },
  {
   "cell_type": "code",
   "execution_count": 15,
   "id": "dfbcc621",
   "metadata": {},
   "outputs": [
    {
     "name": "stdout",
     "output_type": "stream",
     "text": [
      "[1, 1, 1, 1, 1]\n",
      "[1, 1, 1, 1, 1]\n",
      "[1, 1, 1, 1, 1]\n",
      "[1, 1, 1, 1, 1]\n",
      "[1, 1, 1, 1, 1]\n"
     ]
    }
   ],
   "source": [
    "n = 5\n",
    "\n",
    "matrice = [[1 for x in range(n)] for x in range(n)]\n",
    "for riga in matrice:\n",
    "    print(riga)  "
   ]
  },
  {
   "cell_type": "markdown",
   "id": "00880aaf",
   "metadata": {},
   "source": [
    "TASK 2:\n",
    "Trasformare il codice facendo in modo di produrre la matrice identità di dimensione n (tutti zeri, tranne che sulla diagonale principale)"
   ]
  },
  {
   "cell_type": "code",
   "execution_count": 16,
   "id": "a83e36ee",
   "metadata": {},
   "outputs": [
    {
     "name": "stdout",
     "output_type": "stream",
     "text": [
      "[1, 0, 0, 0, 0]\n",
      "[0, 1, 0, 0, 0]\n",
      "[0, 0, 1, 0, 0]\n",
      "[0, 0, 0, 1, 0]\n",
      "[0, 0, 0, 0, 1]\n"
     ]
    }
   ],
   "source": [
    "n = 5\n",
    "\n",
    "matrice = [[1 if x == y else 0 for x in range(n)] for y in range(n)]\n",
    "\n",
    "\n",
    "for riga in matrice:\n",
    "    print(riga)     \n",
    "      "
   ]
  },
  {
   "cell_type": "code",
   "execution_count": 17,
   "id": "3534a627",
   "metadata": {},
   "outputs": [
    {
     "name": "stdout",
     "output_type": "stream",
     "text": [
      "[1, 0, 0, 0, 0]\n",
      "[0, 1, 0, 0, 0]\n",
      "[0, 0, 1, 0, 0]\n",
      "[0, 0, 0, 1, 0]\n",
      "[0, 0, 0, 0, 1]\n"
     ]
    }
   ],
   "source": [
    "n = 5\n",
    "\n",
    "matrice = [[1 if x == y else 0 for x in range(n)] for y in range(n)]\n",
    "\n",
    "\n",
    "i = 0\n",
    "for riga in matrice:\n",
    "    riga[i] = 1\n",
    "    i+= 1\n",
    "    \n",
    "    \n",
    "    \n",
    "for riga in matrice:\n",
    "    print(riga) "
   ]
  }
 ],
 "metadata": {
  "kernelspec": {
   "display_name": "Python 3 (ipykernel)",
   "language": "python",
   "name": "python3"
  },
  "language_info": {
   "codemirror_mode": {
    "name": "ipython",
    "version": 3
   },
   "file_extension": ".py",
   "mimetype": "text/x-python",
   "name": "python",
   "nbconvert_exporter": "python",
   "pygments_lexer": "ipython3",
   "version": "3.10.7"
  }
 },
 "nbformat": 4,
 "nbformat_minor": 5
}
