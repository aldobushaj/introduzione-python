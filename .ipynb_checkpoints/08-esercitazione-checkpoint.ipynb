{
 "cells": [
  {
   "cell_type": "markdown",
   "id": "29203f26",
   "metadata": {},
   "source": [
    "## Gestione dei flussi \"eccezionali\"\n",
    "### Gestione diversificata degli \"errori\"\n",
    "\n",
    "A livello di classificazione si possono identificare 3 macrocategorie di eccezioni, ovvero eventi che portano alla mancata esecuzione corretta di un programma.\n",
    "\n",
    "1. Eccezioni che avvengono a \"runtime\"\n",
    "2. Eccezioni programmatiche\n",
    "3. Eccezioni sistemiche\n"
   ]
  },
  {
   "cell_type": "markdown",
   "id": "c7192b05",
   "metadata": {},
   "source": [
    "### Eccezioni Runtime\n",
    "Non possono essere previste prima dell'esecuzione del programma (perché avvengono secondo lo stato raggiunto dal programma a runtime/in esecuzione)\n",
    "\n",
    "    ES: divisione per 0, accesso ad una variabile che non è stata inizializzata (solo dichiarata)\n",
    "\n",
    "### Eccezioni programmatiche\n",
    "Sono eccezioni che possono essere previste (quindi si tende ad includerle in blocchi try-except)\n",
    "\n",
    "    ES: il nostro programma Python legge da un file sul Desktop -> il file non è presente.\n",
    "\n",
    "### Eccezioni sistemiche\n",
    "La natura di queste eccezioni non è dovuta al codice (il codice funziona, va bene). Errore dovuto ad una mancata compatibilità dei sistemi (hardware ad esempio).\n",
    "\n",
    "    ES: installo un programma che ha bisogno di 100 MB su una macchina che ha 32 MB di RAM "
   ]
  },
  {
   "cell_type": "markdown",
   "id": "dc35c373",
   "metadata": {},
   "source": [
    "### Che è successo a Silvia? (perchè ha un dead kernel)\n",
    "Ricordiamo che le eccezioni sistemiche nonv engono rilevate dall'esecutore del codice (interpete Python) bensì sono rilevate a livello di sistema.\n",
    "\n",
    "Ad esempio è molto probabile che ottenendo un errore di Kernel nel notebook non verrà segnalato mostrando la stack trace (a.k.a. Traceback). Dove è più probabile che verrà segnalato un errore sistemico? nel prompt dei comandi usato per avviare il notebook!"
   ]
  },
  {
   "cell_type": "markdown",
   "id": "740d829d",
   "metadata": {},
   "source": [
    "Le funzioni possono ritornare più di un valore, in questo caso possiamo fare un assegnamento \"multiplo\" a variabili."
   ]
  },
  {
   "cell_type": "code",
   "execution_count": 1,
   "id": "efc36792",
   "metadata": {},
   "outputs": [
    {
     "name": "stdout",
     "output_type": "stream",
     "text": [
      "(['ciao', 'a', 'tutti'], 3)\n",
      "['ciao', 'a', 'tutti'] 3\n"
     ]
    }
   ],
   "source": [
    "def ritorno_doppio():\n",
    "    return ['ciao','a','tutti'],3\n",
    "\n",
    "print(ritorno_doppio()) # stampa un valore (di tipo tupla)\n",
    "\n",
    "# unpacking\n",
    "l, n = ritorno_doppio()\n",
    "print(l,n) # stampa i due valori dei corrispettivi tipi"
   ]
  },
  {
   "cell_type": "code",
   "execution_count": 2,
   "id": "f776f080",
   "metadata": {},
   "outputs": [
    {
     "name": "stdout",
     "output_type": "stream",
     "text": [
      "6\n"
     ]
    }
   ],
   "source": [
    "def prova(n1,n2,n3):\n",
    "    return n1 * n2 + n3\n",
    "\n",
    "print(prova(n1=1,n3=5,n2=1))"
   ]
  },
  {
   "cell_type": "markdown",
   "id": "43106af0",
   "metadata": {},
   "source": [
    "## Funzioni con numero di parametri indefinito\n",
    "\n",
    "Posso dichiarare funzioni con un numero indefinito di parametri, in questo caso trasforma il numero arbitrario di argomenti in una tupla che può essere iterata, di seguito un esempio del suo utilizzo:"
   ]
  },
  {
   "cell_type": "code",
   "execution_count": 3,
   "id": "e1bea305",
   "metadata": {},
   "outputs": [
    {
     "name": "stdout",
     "output_type": "stream",
     "text": [
      "<class 'tuple'>\n",
      "8\n"
     ]
    }
   ],
   "source": [
    "def somma_indefiniti_termini(*termini):\n",
    "    print(type(termini))\n",
    "    s = 0\n",
    "    for n in termini:\n",
    "        s +=n\n",
    "    return s\n",
    "\n",
    "print(somma_indefiniti_termini(1,2,5))"
   ]
  },
  {
   "cell_type": "markdown",
   "id": "fbe40b98",
   "metadata": {},
   "source": [
    "Posso creare anche dei dizionari passando parametri alla funzione"
   ]
  },
  {
   "cell_type": "code",
   "execution_count": 4,
   "id": "55b8e79a",
   "metadata": {},
   "outputs": [
    {
     "name": "stdout",
     "output_type": "stream",
     "text": [
      "<class 'dict'>\n",
      "('key_1', 'val_1')\n",
      "('key_2', 'val_2')\n",
      "('key_3', 'val_3')\n",
      "None\n"
     ]
    }
   ],
   "source": [
    "def crea_dict(**termini):\n",
    "    print(type(termini))\n",
    "    for i in termini.items():\n",
    "        print(i)\n",
    "\n",
    "    # ricordare che per usare ** in un argomento, i valori passati alla funzione devono essere per forza nominati esplicitamente\n",
    "print(crea_dict(key_1 = 'val_1', key_2 = 'val_2', key_3 = 'val_3'))"
   ]
  },
  {
   "cell_type": "markdown",
   "id": "3794ea4d",
   "metadata": {},
   "source": [
    "Con il simbolo * otteniamo: somma(*n -> n = (n1, ....., nx))\n",
    "\n",
    "che succede se io passo una tupla? "
   ]
  },
  {
   "cell_type": "code",
   "execution_count": 5,
   "id": "25c3fbca",
   "metadata": {},
   "outputs": [],
   "source": [
    "def stampa(*argomenti):\n",
    "    for a in argomenti:\n",
    "        print(a)"
   ]
  },
  {
   "cell_type": "code",
   "execution_count": 6,
   "id": "097d6813",
   "metadata": {},
   "outputs": [
    {
     "name": "stdout",
     "output_type": "stream",
     "text": [
      "(1, 2, 3)\n"
     ]
    }
   ],
   "source": [
    "stampa((1,2,3))"
   ]
  },
  {
   "cell_type": "markdown",
   "id": "3e2f4746",
   "metadata": {},
   "source": [
    "### Le funzioni in Python possono essere trattate come oggetti\n",
    "Ad esempio una funzione può essere passata come argomenti di un'altra funzione."
   ]
  },
  {
   "cell_type": "code",
   "execution_count": 7,
   "id": "8c818245",
   "metadata": {},
   "outputs": [
    {
     "data": {
      "text/plain": [
       "[3, 6, 9, 12, 15, 18, 21, 24, 27]"
      ]
     },
     "execution_count": 7,
     "metadata": {},
     "output_type": "execute_result"
    }
   ],
   "source": [
    "# ho una lista di interi, voglio creare una lista in cui applico una trasformazione agli interi.\n",
    "# lista dei quadrati\n",
    "# lista dei doppi\n",
    "# lista dei tripli\n",
    "\n",
    "def quadrato(n):\n",
    "    return n**2\n",
    "\n",
    "def doppio(n):\n",
    "    return n*2\n",
    "\n",
    "def triplo(n):\n",
    "    return n*3\n",
    "\n",
    "lista = [1,2,3,4,5,6,7,8,9]\n",
    "\n",
    "def applica_trasformazione(lista, trasformazione):\n",
    "    return [trasformazione(el) for el in lista]\n",
    "\n",
    "applica_trasformazione(lista, triplo)\n",
    "\n"
   ]
  },
  {
   "cell_type": "markdown",
   "id": "7080b1e4",
   "metadata": {},
   "source": [
    "## Funzione map\n",
    "Funzione di built-in che permette di mappare una funzione su una collezione"
   ]
  },
  {
   "cell_type": "code",
   "execution_count": 8,
   "id": "1956d670",
   "metadata": {},
   "outputs": [
    {
     "data": {
      "text/plain": [
       "[1, 4, 9]"
      ]
     },
     "execution_count": 8,
     "metadata": {},
     "output_type": "execute_result"
    }
   ],
   "source": [
    "list(map(lambda n: n**2, [1,2,3]))"
   ]
  },
  {
   "cell_type": "markdown",
   "id": "14faaff0",
   "metadata": {},
   "source": [
    "## Lambda function\n",
    "Le funzioni possono essere trattate come \"oggetti\" e quindi passate anche come argomento ad altre funzioni. Questa feature di Python risulta utile ad es. nell'uso di funzioni di mapping.\n",
    "\n",
    "Alle volte, durante queste operazioni, potremmo aver bisogno di utilizzare una funzione \"una tantum\". In questo caso non servirebbe definirla attraverso la parola chiave \"def\", e non avrebbe senso darle alcun nome.\n",
    "\n",
    "eliminiamo \"def\", eliminiamo il \"nome della funzione\", cosa rimane?\n",
    "\n",
    "1. argomenti\n",
    "2. body\n",
    "3. eventuale ritorno\n",
    "\n",
    "Ricordarsi che le lambda funcitons sono un argomento complesso che non verrà approfondito in questa sede.\n",
    "Python offre una keyword: \"lambda\". Essa permette di definire una funzione anonima che verrà utilizzata al bisogno una tantum.\n",
    "Una lambda function dovrebbe essere molto breve (one line) e di facile lettura : concisa\n",
    "\n",
    "Sintassi:\n",
    "(keyword) lambda (argomenti) x (due punti): (il ritorno one line) x**2\n",
    "\n",
    "N.B. non si scrive il return esplicitamente"
   ]
  },
  {
   "cell_type": "code",
   "execution_count": 9,
   "id": "e5565df2",
   "metadata": {},
   "outputs": [
    {
     "data": {
      "text/plain": [
       "[0.1, 0.2, 0.3, 0.4]"
      ]
     },
     "execution_count": 9,
     "metadata": {},
     "output_type": "execute_result"
    }
   ],
   "source": [
    "list(map(lambda n: n/10, [1,2,3,4]))"
   ]
  },
  {
   "cell_type": "markdown",
   "id": "7fa3c5a3",
   "metadata": {},
   "source": [
    "Si può anche creare una variabile a cui assegno una lambda, quindi passo dei valori fra parentesi"
   ]
  },
  {
   "cell_type": "code",
   "execution_count": 13,
   "id": "9bdd4873",
   "metadata": {},
   "outputs": [
    {
     "name": "stdout",
     "output_type": "stream",
     "text": [
      "4\n"
     ]
    }
   ],
   "source": [
    "a = lambda x : x**2\n",
    "\n",
    "print(a(2))"
   ]
  },
  {
   "cell_type": "markdown",
   "id": "e829a3df",
   "metadata": {},
   "source": [
    "## Assertion\n",
    "A volte è necessario testare il comportamento di alcune routine, nel caso in cui gli sviluppi siano inaspettati potremmo voler interrompere il programma.\n",
    "\n",
    "Se la condizione è True va bene, non da errore, altrimenti abbiamo l'errore AssertionError"
   ]
  },
  {
   "cell_type": "code",
   "execution_count": 18,
   "id": "4213dbec",
   "metadata": {},
   "outputs": [],
   "source": [
    "assert 1 in [1,2,3,4,5]"
   ]
  },
  {
   "cell_type": "markdown",
   "id": "cb630b7f",
   "metadata": {},
   "source": [
    "## Built-ins\n",
    "Python ha molte funzioni di built-in"
   ]
  },
  {
   "cell_type": "code",
   "execution_count": 21,
   "id": "edcc856e",
   "metadata": {},
   "outputs": [],
   "source": [
    "#dir(__builtins__)"
   ]
  },
  {
   "cell_type": "markdown",
   "id": "ac9783c7",
   "metadata": {},
   "source": [
    "### all() ed any()\n",
    "funzioni di built-in che hanno un ritorno BOOLEANO\n",
    "\n",
    "all -> prende in ingresso una collezione di boolean e ritorna True se TUTTI sono True\n",
    "\n",
    "any -> prende in ingresso una collezione di boolean e ritorna True se ALMENO UNO è True"
   ]
  },
  {
   "cell_type": "code",
   "execution_count": 8,
   "id": "a1d6fc77",
   "metadata": {},
   "outputs": [],
   "source": [
    "boolean = [True,True,True]\n",
    "boolean2 = [True,True,True,False]\n",
    "\n",
    "assert all(boolean)\n",
    "assert any(boolean2)"
   ]
  },
  {
   "cell_type": "markdown",
   "id": "049c9f3d",
   "metadata": {},
   "source": [
    "Data una stringa, ritornare una lista delle sole NON vocali (consonanti, simboli) più frequenti\n",
    "“aaabbbcccdd” -> [b, c]"
   ]
  },
  {
   "cell_type": "code",
   "execution_count": 205,
   "id": "068f1027",
   "metadata": {},
   "outputs": [
    {
     "name": "stdout",
     "output_type": "stream",
     "text": [
      "Counter({'b': 3, 'c': 3, 'd': 2})\n",
      "['b', 'c']\n"
     ]
    }
   ],
   "source": [
    "import collections\n",
    "stringa = 'aaabbbcccdd'\n",
    "\n",
    "consonanti = ''\n",
    "max_freq = -1\n",
    "lista_risultato = []\n",
    "#[lista.append(let) for let in stringa if let not in ('a', 'e', 'i','o','u')]\n",
    "\n",
    "\n",
    "for lettera in stringa:\n",
    "    if lettera not in ('a', 'e', 'i','o','u'):\n",
    "        consonanti += lettera\n",
    " \n",
    "results = collections.Counter(consonanti)\n",
    "\n",
    "for let, ripetizioni in results.most_common():\n",
    "    #imposto la frequenza massima\n",
    "    if ripetizioni > max_freq:\n",
    "        max_freq = ripetizioni\n",
    "print(results)        \n",
    "[lista_risultato.append(x) for x, num in results.most_common() if num == max_freq]       \n",
    "\n",
    "print(lista_risultato)"
   ]
  },
  {
   "cell_type": "markdown",
   "id": "2ed93f1f",
   "metadata": {},
   "source": [
    "data una lista di stringhe, creare (con dict comprehension) un dizionario che abbia come key la stringa e come value le vocali più frequenti nella stringa"
   ]
  },
  {
   "cell_type": "code",
   "execution_count": 222,
   "id": "ac4b7b59",
   "metadata": {},
   "outputs": [
    {
     "name": "stdout",
     "output_type": "stream",
     "text": [
      "{'ciao': ['i', 'a', 'o'], 'come': ['o', 'e'], 'vaaaaaa': ['a']}\n"
     ]
    }
   ],
   "source": [
    "def more_freq_vocale(stringa):  \n",
    "    max_count={}  \n",
    "    curr_max=0\n",
    "    for char in stringa: \n",
    "        if char in ['a','e','i','o','u']: \n",
    "            if char not in max_count.keys(): \n",
    "                max_count[char]=0  \n",
    "            max_count[char]=max_count[char]+1\n",
    "            if max_count[char]>curr_max: \n",
    "                curr_max=max_count[char] \n",
    "    res=[k for k,v in max_count.items() if v==curr_max]  \n",
    "    return res \n",
    "\n",
    "lista_stringhe=['ciao','come','vaaaaaa']\n",
    "stats={s:more_freq_vocale(s) for s in lista_stringhe }\n",
    "print(stats)"
   ]
  },
  {
   "cell_type": "markdown",
   "id": "2297d611",
   "metadata": {},
   "source": [
    "dati due interi, trovare minimo comune multiplo, massimo comun divisore (back to skuola media)"
   ]
  },
  {
   "cell_type": "code",
   "execution_count": 223,
   "id": "00e846d7",
   "metadata": {},
   "outputs": [
    {
     "name": "stdout",
     "output_type": "stream",
     "text": [
      "MCD è: 5\n"
     ]
    },
    {
     "ename": "NameError",
     "evalue": "name 'fattori' is not defined",
     "output_type": "error",
     "traceback": [
      "\u001b[1;31m---------------------------------------------------------------------------\u001b[0m",
      "\u001b[1;31mNameError\u001b[0m                                 Traceback (most recent call last)",
      "Cell \u001b[1;32mIn [223], line 10\u001b[0m\n\u001b[0;32m      7\u001b[0m mcd\u001b[38;5;241m=\u001b[39mdivisori_comuni[\u001b[38;5;241m-\u001b[39m\u001b[38;5;241m1\u001b[39m] \n\u001b[0;32m      8\u001b[0m \u001b[38;5;28mprint\u001b[39m(\u001b[38;5;124mf\u001b[39m\u001b[38;5;124m'\u001b[39m\u001b[38;5;124mMCD è: \u001b[39m\u001b[38;5;132;01m{\u001b[39;00mmcd\u001b[38;5;132;01m}\u001b[39;00m\u001b[38;5;124m'\u001b[39m) \n\u001b[1;32m---> 10\u001b[0m fattori_a\u001b[38;5;241m=\u001b[39m{f[\u001b[38;5;241m0\u001b[39m]:f[\u001b[38;5;241m1\u001b[39m] \u001b[38;5;28;01mfor\u001b[39;00m f \u001b[38;5;129;01min\u001b[39;00m \u001b[43mfattori\u001b[49m(a)} \n\u001b[0;32m     11\u001b[0m fattori_b\u001b[38;5;241m=\u001b[39m{f[\u001b[38;5;241m0\u001b[39m]:f[\u001b[38;5;241m1\u001b[39m] \u001b[38;5;28;01mfor\u001b[39;00m f \u001b[38;5;129;01min\u001b[39;00m fattori(b)}  \n\u001b[0;32m     12\u001b[0m fatt\u001b[38;5;241m=\u001b[39m[(f,e) \u001b[38;5;28;01mfor\u001b[39;00m (f,e) \u001b[38;5;129;01min\u001b[39;00m fattori_a\u001b[38;5;241m.\u001b[39mitems() \u001b[38;5;28;01mif\u001b[39;00m f \u001b[38;5;129;01mnot\u001b[39;00m \u001b[38;5;129;01min\u001b[39;00m fattori_b\u001b[38;5;241m.\u001b[39mkeys() \u001b[38;5;129;01mor\u001b[39;00m e\u001b[38;5;241m>\u001b[39m\u001b[38;5;241m=\u001b[39m fattori_b[f]]  \n",
      "\u001b[1;31mNameError\u001b[0m: name 'fattori' is not defined"
     ]
    }
   ],
   "source": [
    "a=90 \n",
    "b=25\n",
    "\n",
    "divisori_a=[n for n in range(1,a+1) if a%n==0] \n",
    "divisori_b=[n for n in range(1,b+1) if b%n==0]   \n",
    "divisori_comuni=[n for n in divisori_a if n in divisori_b] \n",
    "mcd=divisori_comuni[-1] \n",
    "print(f'MCD è: {mcd}') \n",
    "\n",
    "fattori_a={f[0]:f[1] for f in fattori(a)} \n",
    "fattori_b={f[0]:f[1] for f in fattori(b)}  \n",
    "fatt=[(f,e) for (f,e) in fattori_a.items() if f not in fattori_b.keys() or e>= fattori_b[f]]  \n",
    "all_fatt=fatt+[(f,e) for (f,e) in fattori_b.items() if f not in fattori_a.keys() or e> fattori_a[f]]\n",
    "\n",
    "        \n",
    "        \n",
    "mcm=1\n",
    "for f,e in all_fatt:  \n",
    "    mcm*=f**e  \n",
    "    \n",
    "print(f'mcm è: {mcm}')"
   ]
  },
  {
   "cell_type": "code",
   "execution_count": null,
   "id": "ff575e70",
   "metadata": {},
   "outputs": [],
   "source": []
  }
 ],
 "metadata": {
  "kernelspec": {
   "display_name": "Python 3 (ipykernel)",
   "language": "python",
   "name": "python3"
  },
  "language_info": {
   "codemirror_mode": {
    "name": "ipython",
    "version": 3
   },
   "file_extension": ".py",
   "mimetype": "text/x-python",
   "name": "python",
   "nbconvert_exporter": "python",
   "pygments_lexer": "ipython3",
   "version": "3.10.7"
  }
 },
 "nbformat": 4,
 "nbformat_minor": 5
}
