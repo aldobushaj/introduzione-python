{
 "cells": [
  {
   "cell_type": "markdown",
   "id": "44c7bb20",
   "metadata": {},
   "source": [
    "## Numeri in python\n",
    "Python utilizza oggetti complessi per la gestione dei numeri, a differenza quindi di altri linguaggi di programmazione la memoria è gestita \"dinamicamente\"(per molti tipi di dato numerici non ci sono limiti di memoria)."
   ]
  },
  {
   "cell_type": "code",
   "execution_count": 1,
   "id": "d57c4f71",
   "metadata": {},
   "outputs": [
    {
     "name": "stdout",
     "output_type": "stream",
     "text": [
      "1267650600228229401496703205376\n"
     ]
    }
   ],
   "source": [
    "big_int = 2**100\n",
    "print(big_int)"
   ]
  },
  {
   "cell_type": "markdown",
   "id": "0ba12d87",
   "metadata": {},
   "source": [
    "Questo (come in altri pochi casi in python) è un tipo primitivo, quindi abbiamo dei limiti di memoria. I numeri con parte decimale sono trattati diversamente dai numeri interi"
   ]
  },
  {
   "cell_type": "code",
   "execution_count": 2,
   "id": "4589b1af",
   "metadata": {},
   "outputs": [
    {
     "data": {
      "text/plain": [
       "float"
      ]
     },
     "execution_count": 2,
     "metadata": {},
     "output_type": "execute_result"
    }
   ],
   "source": [
    "type(1.5)"
   ]
  },
  {
   "cell_type": "markdown",
   "id": "f6213351",
   "metadata": {},
   "source": [
    "Possibili codifiche per numeri in Python"
   ]
  },
  {
   "cell_type": "code",
   "execution_count": 3,
   "id": "a029f853",
   "metadata": {},
   "outputs": [
    {
     "name": "stdout",
     "output_type": "stream",
     "text": [
      "16\n",
      "32\n",
      "8\n"
     ]
    }
   ],
   "source": [
    "# aggiungendo 0x indico una codifica esadecimale\n",
    "print(0x10)\n",
    "\n",
    "# aggiungendo 0b indico invece una codifica binaria\n",
    "print(0b100000)\n",
    "\n",
    "# aggiungendo 08 indico una codifica ottale\n",
    "\n",
    "print(0O10)"
   ]
  },
  {
   "cell_type": "markdown",
   "id": "75e8f0d3",
   "metadata": {},
   "source": [
    "Python supporta nativamente i numeri complessi"
   ]
  },
  {
   "cell_type": "code",
   "execution_count": 4,
   "id": "f1a75286",
   "metadata": {},
   "outputs": [
    {
     "name": "stdout",
     "output_type": "stream",
     "text": [
      "(2+1j) <class 'complex'>\n",
      "2.0 1.0\n",
      "(1+5j)\n",
      "(2+11j)\n"
     ]
    }
   ],
   "source": [
    "c = 2 + 1j\n",
    "print(c, type(c))\n",
    "print(c.real, c.imag)\n",
    "\n",
    "# le operazioni matematiche fondamentali sono supportate\n",
    "c2 = -1 + 4j\n",
    "print(c + c2)\n",
    "print(c**3)"
   ]
  },
  {
   "cell_type": "markdown",
   "id": "9cb1c287",
   "metadata": {},
   "source": [
    "True, False, None"
   ]
  },
  {
   "cell_type": "code",
   "execution_count": 5,
   "id": "a5375887",
   "metadata": {},
   "outputs": [
    {
     "data": {
      "text/plain": [
       "[24, 27, 30, 33, 36, 39, 42, 45, 48, 51]"
      ]
     },
     "execution_count": 5,
     "metadata": {},
     "output_type": "execute_result"
    }
   ],
   "source": [
    "[n for n in range(23,52) if n % 3 == 0]"
   ]
  },
  {
   "cell_type": "markdown",
   "id": "dcef275a",
   "metadata": {},
   "source": [
    "Gli if all'inizio servono per far variare i valori (impostare i valori secondo una certa mia logica) e in questo caso serve l'else altrimenti non sa come comportarsi nel caso in cui non si verifica l'if. L'if alla fine invece serve per filtrare i risultati."
   ]
  },
  {
   "cell_type": "code",
   "execution_count": 6,
   "id": "e7c3bca4",
   "metadata": {},
   "outputs": [
    {
     "data": {
      "text/plain": [
       "[24, -27, 30, -33, 36, -39, 42, -45, 48, -51]"
      ]
     },
     "execution_count": 6,
     "metadata": {},
     "output_type": "execute_result"
    }
   ],
   "source": [
    "[(n if n % 2 == 0 else -n) for n in range(23,52) if n % 3 == 0]"
   ]
  },
  {
   "cell_type": "markdown",
   "id": "b9e9cec0",
   "metadata": {},
   "source": [
    "è possibile salvare in una variabile i valori booleani (true/false) direttamente"
   ]
  },
  {
   "cell_type": "code",
   "execution_count": 7,
   "id": "f7d01755",
   "metadata": {},
   "outputs": [],
   "source": [
    "a = True\n",
    "b = False"
   ]
  },
  {
   "cell_type": "markdown",
   "id": "e28d9107",
   "metadata": {},
   "source": [
    "In alcune occasioni la computazione porta ad avere alcuni valori mancanti, in alcuni casi è possibile usare il valore NAN per indicare la mancanza di un valore."
   ]
  },
  {
   "cell_type": "code",
   "execution_count": 8,
   "id": "a3cb2858",
   "metadata": {},
   "outputs": [
    {
     "name": "stdout",
     "output_type": "stream",
     "text": [
      "None\n"
     ]
    }
   ],
   "source": [
    "a = 10\n",
    "b = 0\n",
    "\n",
    "try:\n",
    "    c = a/b\n",
    "except:\n",
    "    c = None # None rappresenta l'assenza di valore\n",
    "print(c)"
   ]
  },
  {
   "cell_type": "code",
   "execution_count": null,
   "id": "f8ff26ea",
   "metadata": {},
   "outputs": [],
   "source": []
  }
 ],
 "metadata": {
  "kernelspec": {
   "display_name": "Python 3 (ipykernel)",
   "language": "python",
   "name": "python3"
  },
  "language_info": {
   "codemirror_mode": {
    "name": "ipython",
    "version": 3
   },
   "file_extension": ".py",
   "mimetype": "text/x-python",
   "name": "python",
   "nbconvert_exporter": "python",
   "pygments_lexer": "ipython3",
   "version": "3.10.7"
  }
 },
 "nbformat": 4,
 "nbformat_minor": 5
}
