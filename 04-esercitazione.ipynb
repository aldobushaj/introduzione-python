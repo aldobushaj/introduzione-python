{
 "cells": [
  {
   "cell_type": "markdown",
   "id": "888370d9",
   "metadata": {},
   "source": [
    "### Considerazioni stringhe e liste\n",
    "\n",
    "Se è presente un carattere separatore in una lista -> utilizzo di split('carattere_separatore')\n",
    "\n",
    "Operiamo la conversione in lista se è necessario separare tutti i caratteri senza che ci sia uno speicfico carattere separatore "
   ]
  },
  {
   "cell_type": "code",
   "execution_count": 1,
   "id": "3b852a8a",
   "metadata": {},
   "outputs": [
    {
     "name": "stdout",
     "output_type": "stream",
     "text": [
      "0123\n",
      "['0', '1', '2', '3']\n"
     ]
    }
   ],
   "source": [
    "l = ['0', '1', '2', '3']\n",
    "print(''.join(l))\n",
    "print(list(''.join(l))) "
   ]
  },
  {
   "cell_type": "markdown",
   "id": "74d3a92c",
   "metadata": {},
   "source": [
    "## Le tuple\n",
    "Insiemi di oggetti possibilmente di diversa natura che sono intrinsicamente immutabili, quindi non posso andare a modificare il valore di una tupla.\n",
    "\n",
    "Rispetto a prima, cambia che abbiamo le parentesi tonde, ma in realtà concettualmente cambia molto non solo banalmente la parentesi"
   ]
  },
  {
   "cell_type": "markdown",
   "id": "0de58880",
   "metadata": {},
   "source": [
    "### Puntatori VS Memoria\n",
    "In python i puntatori possono essere riutilizzati indefinite volte (facendoli puntare a porzioni di memoria sempre diverse).\n",
    "\n",
    "Quando si parla di immutabilità, dunque non ci si riferisce alla memoria ma ai valori all'interno della memoria."
   ]
  },
  {
   "cell_type": "code",
   "execution_count": 2,
   "id": "85d10706",
   "metadata": {},
   "outputs": [
    {
     "name": "stdout",
     "output_type": "stream",
     "text": [
      "('ciao', 'a', 'tutti', 'i', 'presenti')\n"
     ]
    }
   ],
   "source": [
    "t = ('ciao','a','tutti','i','presenti')\n",
    "print(t)"
   ]
  },
  {
   "cell_type": "markdown",
   "id": "910d9abf",
   "metadata": {},
   "source": [
    "Per accedere ad un elemento di una tupla è possibile usare l'indice (come le liste e stringhe)"
   ]
  },
  {
   "cell_type": "code",
   "execution_count": 3,
   "id": "d37dd070",
   "metadata": {},
   "outputs": [
    {
     "name": "stdout",
     "output_type": "stream",
     "text": [
      "tutti ('ciao', 'a', 'tutti') presenti\n"
     ]
    }
   ],
   "source": [
    "print(t[2], t[:3], t[-1])"
   ]
  },
  {
   "cell_type": "code",
   "execution_count": 4,
   "id": "ba430fac",
   "metadata": {},
   "outputs": [
    {
     "name": "stdout",
     "output_type": "stream",
     "text": [
      "impossibile modificare il valore di una tupla\n"
     ]
    }
   ],
   "source": [
    "try:\n",
    "    t[0] = 'buongiorno' # tuple sono immutabili\n",
    "except:\n",
    "    print('impossibile modificare il valore di una tupla')"
   ]
  },
  {
   "cell_type": "code",
   "execution_count": 5,
   "id": "3fbba240",
   "metadata": {},
   "outputs": [
    {
     "name": "stdout",
     "output_type": "stream",
     "text": [
      "stringhe immutabili\n",
      "liste mutabili\n",
      "tuple immutabili\n"
     ]
    }
   ],
   "source": [
    "# il nome della variabile (nell'esempio s) può essere riassegnato indefinite volte\n",
    "s = 'ciao' # infatti cosi dico di puntare a una porzione di memoria nuova che contiene ciao\n",
    "try:\n",
    "    s[0] = 'x'\n",
    "except:\n",
    "    print('stringhe immutabili')\n",
    "s = [1] # cosi dico di puntare ad una porzione di memoria nuova, diversa dalla prima, che dice che è una lista\n",
    "s[0] = 2\n",
    "print('liste mutabili')\n",
    "s = ('a')\n",
    "try:\n",
    "    s[0] = 'b'\n",
    "except:\n",
    "    print('tuple immutabili')"
   ]
  },
  {
   "cell_type": "markdown",
   "id": "c11b8329",
   "metadata": {},
   "source": [
    "### Un operatore interessante da usare su insiemi"
   ]
  },
  {
   "cell_type": "code",
   "execution_count": 6,
   "id": "f563344b",
   "metadata": {},
   "outputs": [
    {
     "name": "stdout",
     "output_type": "stream",
     "text": [
      "in utilizzato per le tuple False\n",
      "in usato per le liste False True\n",
      "in usato per le stringhe True True False\n"
     ]
    }
   ],
   "source": [
    "t = (1,4,9,16,25)\n",
    "print('in utilizzato per le tuple', 5 in t) # risponde true o false a seconda se c'è o meno quello che gli chiediamo in t\n",
    "\n",
    "l = [n for n in t]\n",
    "print('in usato per le liste', 5 in l, 16 in l)\n",
    "\n",
    "s = ''.join(str(n) for n in t)\n",
    "print('in usato per le stringhe', '5' in s, '16' in s, '7' in s) # 5 c'è perché esiste quel numero nella stringa"
   ]
  },
  {
   "cell_type": "markdown",
   "id": "195fee50",
   "metadata": {},
   "source": [
    "Per inizializzare una tuola contenente un solo elemento, ad esempio il numero 1, è necessario includere nella dichiarazione una virgola. In caso contrario le parentesi verranno interpretate come un'espressione e non come una dichairazione di tupla."
   ]
  },
  {
   "cell_type": "code",
   "execution_count": 7,
   "id": "948b325b",
   "metadata": {},
   "outputs": [
    {
     "name": "stdout",
     "output_type": "stream",
     "text": [
      "1 <class 'int'>\n",
      "(1,) <class 'tuple'>\n"
     ]
    }
   ],
   "source": [
    "non_tupla = (1) # python interpeta questo come un'espressione che contiene il valore tra parentesi e non come tupla\n",
    "print(non_tupla, type(non_tupla))\n",
    "\n",
    "tupla_solitaria = (1,) # questa è invece una tupla con un solo elemento\n",
    "print(tupla_solitaria, type(tupla_solitaria))"
   ]
  },
  {
   "cell_type": "markdown",
   "id": "684861fe",
   "metadata": {},
   "source": [
    "Trucchi per modificare una tupla senza rompere le regole:\n",
    "ricordiamo sempre che è possibile operare conversioni tra molti tipi di dato in python: e.g. tupla->lista"
   ]
  },
  {
   "cell_type": "code",
   "execution_count": 8,
   "id": "19f77e1b",
   "metadata": {},
   "outputs": [
    {
     "name": "stdout",
     "output_type": "stream",
     "text": [
      "(0, 1, 2, 'x', 4, 5)\n"
     ]
    }
   ],
   "source": [
    "tupla = (0,1,2,3,4,5)\n",
    "l = list(tupla) # perché non posso modificare direttamente la tupla, la trasformo prima in lista\n",
    "l[3] = 'x'\n",
    "print(tuple(l)) # e poi la trasformo nuovamente in tupla"
   ]
  },
  {
   "cell_type": "markdown",
   "id": "94de8a38",
   "metadata": {},
   "source": [
    "Le tuple possono conservare più occorrenze dello stesso elemento"
   ]
  },
  {
   "cell_type": "code",
   "execution_count": 9,
   "id": "50cb9dbb",
   "metadata": {},
   "outputs": [
    {
     "data": {
      "text/plain": [
       "(0, 0, 1, 1)"
      ]
     },
     "execution_count": 9,
     "metadata": {},
     "output_type": "execute_result"
    }
   ],
   "source": [
    "tupla = (0,0,1,1)\n",
    "tupla"
   ]
  },
  {
   "cell_type": "markdown",
   "id": "ca761e76",
   "metadata": {},
   "source": [
    "## Gli insiemi(set)\n",
    "\n",
    "Come le tuple sono strutture che permettono di conservare una collezione di elementi, sono immutabili e hanno degli operatori speciali che permettono ai developers di operare. per i set servono {}\n",
    "\n",
    "Provando ad inserire più volte lo stesso elemento, il set conserverà solo una copia, quindi non ci sono duplicati.\n",
    "\n",
    "NB. il set non mantiene un ordine -> quindi non si può accedere agli elementi tramite indice"
   ]
  },
  {
   "cell_type": "code",
   "execution_count": 10,
   "id": "319272f4",
   "metadata": {},
   "outputs": [
    {
     "name": "stdout",
     "output_type": "stream",
     "text": [
      "{0, 1}\n"
     ]
    }
   ],
   "source": [
    "insieme = {0,0,1,1}\n",
    "print(insieme)"
   ]
  },
  {
   "cell_type": "markdown",
   "id": "ee81ccee",
   "metadata": {},
   "source": [
    "Come è possibile operare sui set?"
   ]
  },
  {
   "cell_type": "code",
   "execution_count": 11,
   "id": "8144f02e",
   "metadata": {},
   "outputs": [
    {
     "name": "stdout",
     "output_type": "stream",
     "text": [
      "impossibile accedere ad un elemento dell'insieme tramite indice\n"
     ]
    }
   ],
   "source": [
    "try:\n",
    "    insieme[0]\n",
    "except:\n",
    "    print(\"impossibile accedere ad un elemento dell'insieme tramite indice\")"
   ]
  },
  {
   "cell_type": "markdown",
   "id": "35b87fbd",
   "metadata": {},
   "source": [
    "In python è possibile convertire velocemente diversi tipi di collezioni"
   ]
  },
  {
   "cell_type": "code",
   "execution_count": 12,
   "id": "e02b0f99",
   "metadata": {},
   "outputs": [
    {
     "name": "stdout",
     "output_type": "stream",
     "text": [
      "{'u', 't', 'o'}\n"
     ]
    }
   ],
   "source": [
    "insieme_da_str = set('tutto')\n",
    "print(insieme_da_str)"
   ]
  },
  {
   "cell_type": "markdown",
   "id": "8a65680c",
   "metadata": {},
   "source": [
    "Altri operatori interessanti sugli insiemi"
   ]
  },
  {
   "cell_type": "code",
   "execution_count": 13,
   "id": "cfd8b1fb",
   "metadata": {},
   "outputs": [
    {
     "name": "stdout",
     "output_type": "stream",
     "text": [
      "{'C', 'a', 'c', 'A', 'b', 'B'}\n",
      "set()\n",
      "{'a'}\n",
      "{'c', 'b'}\n",
      "{'e', 'c', 'b', 'u', 'i', 'o'}\n"
     ]
    }
   ],
   "source": [
    "maiuscole = {'A','B','C'}\n",
    "minuscole = {'a','b','c'}\n",
    "lettere = maiuscole | minuscole\n",
    "print(lettere)\n",
    "\n",
    "#intersezione\n",
    "vocali_minuscole = {'a','e','i','o','u'}\n",
    "print( maiuscole & minuscole)\n",
    "print(minuscole & vocali_minuscole)\n",
    "\n",
    "#differenza\n",
    "print(minuscole - vocali_minuscole)\n",
    "\n",
    "# xor^\n",
    "print(minuscole ^ vocali_minuscole)\n"
   ]
  },
  {
   "cell_type": "markdown",
   "id": "96d7d232",
   "metadata": {},
   "source": [
    "set comprehension"
   ]
  },
  {
   "cell_type": "code",
   "execution_count": 15,
   "id": "031f8fc6",
   "metadata": {},
   "outputs": [
    {
     "name": "stdout",
     "output_type": "stream",
     "text": [
      "{0, 1, 64, 4, 36, 9, 16, 49, 81, 25}\n"
     ]
    }
   ],
   "source": [
    "set_quadrati = {n**2 for n in range(10)}\n",
    "print(set_quadrati)"
   ]
  }
 ],
 "metadata": {
  "kernelspec": {
   "display_name": "Python 3 (ipykernel)",
   "language": "python",
   "name": "python3"
  },
  "language_info": {
   "codemirror_mode": {
    "name": "ipython",
    "version": 3
   },
   "file_extension": ".py",
   "mimetype": "text/x-python",
   "name": "python",
   "nbconvert_exporter": "python",
   "pygments_lexer": "ipython3",
   "version": "3.10.7"
  }
 },
 "nbformat": 4,
 "nbformat_minor": 5
}
