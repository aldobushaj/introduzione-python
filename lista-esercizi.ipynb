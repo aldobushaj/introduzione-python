{
 "cells": [
  {
   "cell_type": "markdown",
   "id": "0c206f07",
   "metadata": {},
   "source": [
    "1) Data una stringa “s” contare il numero di doppie presenti:\n",
    "\n",
    "    ES.\n",
    "    s = “aeiou” -> 0\n",
    "    s = “tutto” -> 1\n",
    "    s = “ttatt” -> 2\n",
    "    \n",
    "2) creare un dizionario con le seguenti entries:\n",
    "\n",
    "    “cane”: “domestico”\n",
    "    “gatto”: “domestico”\n",
    "    “leopardo”: “selvatico”\n",
    "    “zebra”:selvatico”\n",
    "    \n",
    "    creare una struttura che rovescia il dizionario e che risulti in un nuovo dizionario con i seguenti elementi:\n",
    "\n",
    "    “domestico”: [“cane”, “gatto”]\n",
    "    “selvatico”: [“leopardo”, “zebra”]\n",
    "\n",
    "3. dato l’elenco città sotto forma di dizionario uguale a quello che abbiamo visto nell’esercizio:\n",
    "    elenco_citta = dict()\n",
    "\n",
    "    #Utilizza come identifictivo la chiave per salvare il valore\n",
    "    elenco_citta['Roma'] = 'Francia'\n",
    "\n",
    "    #Sovrascrivendo il valore corrispondente ad una chiave esistente verrà effettuata la sostituzione\n",
    "    elenco_citta['Roma'] = 'Italia'\n",
    "    elenco_citta['Napoli'] = 'Italia'\n",
    "    elenco_citta['Barcelona'] = 'Spagna'\n",
    "    print(elenco_citta)\n",
    "\n",
    "    creare una lista dei soli nomi dei PAESI corrispondenti alle città che contengono la lettera “R” sia minuscola che maiuscola in modo tale che le lettere dei paesi siano invertite e che la prima lettera del paese sia maiuscola (mentre tutte le altre minuscole).\n",
    "\n",
    "    R è in Roma ed in Barcelona\n",
    "    lista dei paesi [Italia, Spagna]\n",
    "    invertiamo le stringhe\n",
    "    [ailatI, angapS]\n",
    "    mettiamo a posto i caratteri maiuscoli e minuscoli come richiesto\n",
    "    [Ailati, Angaps]\n",
    "\n"
   ]
  },
  {
   "cell_type": "code",
   "execution_count": 8,
   "id": "c4af5f60",
   "metadata": {},
   "outputs": [
    {
     "name": "stdout",
     "output_type": "stream",
     "text": [
      "2\n"
     ]
    }
   ],
   "source": [
    "s = 'ttatt'\n",
    "\n",
    "count =0\n",
    "for i in range(0, len(s)-1):\n",
    "    if s[i] == s[i+1]:\n",
    "        count = count + 1;\n",
    "print(count)"
   ]
  },
  {
   "cell_type": "code",
   "execution_count": 44,
   "id": "87269637",
   "metadata": {},
   "outputs": [
    {
     "name": "stdout",
     "output_type": "stream",
     "text": [
      "{'cane': 'domestico', 'gatto': 'domestico', 'leopardo': 'selvatico', 'zebra': 'selvatico'}\n",
      "{'domestico': ['cane', 'gatto'], 'selvatico': ['leopardo', 'zebra']}\n"
     ]
    }
   ],
   "source": [
    "dizionario = {\n",
    "    \"cane\": \"domestico\",\n",
    "    \"gatto\": \"domestico\",\n",
    "    \"leopardo\": \"selvatico\",\n",
    "    \"zebra\": \"selvatico\"\n",
    "}\n",
    "\n",
    "print(dizionario)\n",
    "\n",
    "diz_mod={}\n",
    "lista = set()\n",
    "\n",
    "for key, value in dizionario.items():\n",
    "    if value not in diz_mod:\n",
    "        diz_mod[value] = [key]\n",
    "    else:\n",
    "        diz_mod[value].append(key)\n",
    "    \n",
    "print(diz_mod)\n",
    "\n"
   ]
  },
  {
   "cell_type": "code",
   "execution_count": 72,
   "id": "b3f5c830",
   "metadata": {},
   "outputs": [
    {
     "name": "stdout",
     "output_type": "stream",
     "text": [
      "['Ailati', 'Angaps']\n"
     ]
    }
   ],
   "source": [
    "elenco_citta = dict()\n",
    "elenco_citta['Roma'] = 'Italia'\n",
    "elenco_citta['Napoli'] = 'Italia'\n",
    "elenco_citta['Barcelona'] = 'Spagna'\n",
    "\n",
    "lista_nazioni = []\n",
    "\n",
    "for key, value in elenco_citta.items():\n",
    "    if 'r' in key or 'R' in key:\n",
    "        lista_nazioni.append(value)\n",
    "        \n",
    "i = 0\n",
    "for el in lista_nazioni:\n",
    "    lista_nazioni[i] = el[::-1].lower()\n",
    "    lista_nazioni[i] = lista_nazioni[i].title()\n",
    "    i +=1\n",
    "    \n",
    "print(lista_nazioni)"
   ]
  },
  {
   "cell_type": "code",
   "execution_count": null,
   "id": "635849af",
   "metadata": {},
   "outputs": [],
   "source": []
  }
 ],
 "metadata": {
  "kernelspec": {
   "display_name": "Python 3 (ipykernel)",
   "language": "python",
   "name": "python3"
  },
  "language_info": {
   "codemirror_mode": {
    "name": "ipython",
    "version": 3
   },
   "file_extension": ".py",
   "mimetype": "text/x-python",
   "name": "python",
   "nbconvert_exporter": "python",
   "pygments_lexer": "ipython3",
   "version": "3.10.7"
  }
 },
 "nbformat": 4,
 "nbformat_minor": 5
}
