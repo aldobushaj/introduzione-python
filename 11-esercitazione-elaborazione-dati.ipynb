{
 "cells": [
  {
   "cell_type": "markdown",
   "id": "4718d96c",
   "metadata": {},
   "source": [
    "## Import di librerie per calcolo e elaborazione avanzata di dati"
   ]
  },
  {
   "cell_type": "code",
   "execution_count": 1,
   "id": "281ee115",
   "metadata": {},
   "outputs": [],
   "source": [
    "# Pandas permette di trattare database come oggetti\n",
    "import pandas as pd"
   ]
  },
  {
   "cell_type": "markdown",
   "id": "07899b0c",
   "metadata": {},
   "source": [
    "**df** è l'abbreviazione di data frame\n",
    "\n",
    "Dal momento che in un CSV (comma separated value) di solito nella prima riga abbiamo l'intestazione (quindi informazioni sulle colonne, magari la prima colonna rappresenta i nomi, la seconda i cognomi, ecc.) ma nel file all'indirizzo in cui stiamo recuperando il file, non abbiamo un header, specifichiamo che non abbiamo header dicendo None"
   ]
  },
  {
   "cell_type": "code",
   "execution_count": 2,
   "id": "4e268490",
   "metadata": {},
   "outputs": [],
   "source": [
    "df = pd.read_csv('https://archive.ics.uci.edu/ml/machine-learning-databases/iris/iris.data'\n",
    "                 , header= None, encoding = 'utf-8')"
   ]
  },
  {
   "cell_type": "markdown",
   "id": "a20ddeb4",
   "metadata": {},
   "source": [
    "Cosi prendo la head di questo dataframe (sarebbe il database convertito da pandas in dataframe). Posso anche dire invece delle prime righe, prendi da riga 0 a 3 (escluso) con il comando head(3).\n",
    "\n",
    "Se non metto niente come parametro, prende di default le prime 5 righe"
   ]
  },
  {
   "cell_type": "code",
   "execution_count": 3,
   "id": "e04a9d61",
   "metadata": {},
   "outputs": [
    {
     "data": {
      "text/html": [
       "<div>\n",
       "<style scoped>\n",
       "    .dataframe tbody tr th:only-of-type {\n",
       "        vertical-align: middle;\n",
       "    }\n",
       "\n",
       "    .dataframe tbody tr th {\n",
       "        vertical-align: top;\n",
       "    }\n",
       "\n",
       "    .dataframe thead th {\n",
       "        text-align: right;\n",
       "    }\n",
       "</style>\n",
       "<table border=\"1\" class=\"dataframe\">\n",
       "  <thead>\n",
       "    <tr style=\"text-align: right;\">\n",
       "      <th></th>\n",
       "      <th>0</th>\n",
       "      <th>1</th>\n",
       "      <th>2</th>\n",
       "      <th>3</th>\n",
       "      <th>4</th>\n",
       "    </tr>\n",
       "  </thead>\n",
       "  <tbody>\n",
       "    <tr>\n",
       "      <th>0</th>\n",
       "      <td>5.1</td>\n",
       "      <td>3.5</td>\n",
       "      <td>1.4</td>\n",
       "      <td>0.2</td>\n",
       "      <td>Iris-setosa</td>\n",
       "    </tr>\n",
       "    <tr>\n",
       "      <th>1</th>\n",
       "      <td>4.9</td>\n",
       "      <td>3.0</td>\n",
       "      <td>1.4</td>\n",
       "      <td>0.2</td>\n",
       "      <td>Iris-setosa</td>\n",
       "    </tr>\n",
       "  </tbody>\n",
       "</table>\n",
       "</div>"
      ],
      "text/plain": [
       "     0    1    2    3            4\n",
       "0  5.1  3.5  1.4  0.2  Iris-setosa\n",
       "1  4.9  3.0  1.4  0.2  Iris-setosa"
      ]
     },
     "execution_count": 3,
     "metadata": {},
     "output_type": "execute_result"
    }
   ],
   "source": [
    "df.head(2)"
   ]
  },
  {
   "cell_type": "code",
   "execution_count": 4,
   "id": "0e6debfc",
   "metadata": {},
   "outputs": [
    {
     "data": {
      "text/html": [
       "<div>\n",
       "<style scoped>\n",
       "    .dataframe tbody tr th:only-of-type {\n",
       "        vertical-align: middle;\n",
       "    }\n",
       "\n",
       "    .dataframe tbody tr th {\n",
       "        vertical-align: top;\n",
       "    }\n",
       "\n",
       "    .dataframe thead th {\n",
       "        text-align: right;\n",
       "    }\n",
       "</style>\n",
       "<table border=\"1\" class=\"dataframe\">\n",
       "  <thead>\n",
       "    <tr style=\"text-align: right;\">\n",
       "      <th></th>\n",
       "      <th>0</th>\n",
       "      <th>1</th>\n",
       "      <th>2</th>\n",
       "      <th>3</th>\n",
       "      <th>4</th>\n",
       "    </tr>\n",
       "  </thead>\n",
       "  <tbody>\n",
       "    <tr>\n",
       "      <th>0</th>\n",
       "      <td>5.1</td>\n",
       "      <td>3.5</td>\n",
       "      <td>1.4</td>\n",
       "      <td>0.2</td>\n",
       "      <td>Iris-setosa</td>\n",
       "    </tr>\n",
       "    <tr>\n",
       "      <th>1</th>\n",
       "      <td>4.9</td>\n",
       "      <td>3.0</td>\n",
       "      <td>1.4</td>\n",
       "      <td>0.2</td>\n",
       "      <td>Iris-setosa</td>\n",
       "    </tr>\n",
       "    <tr>\n",
       "      <th>2</th>\n",
       "      <td>4.7</td>\n",
       "      <td>3.2</td>\n",
       "      <td>1.3</td>\n",
       "      <td>0.2</td>\n",
       "      <td>Iris-setosa</td>\n",
       "    </tr>\n",
       "    <tr>\n",
       "      <th>3</th>\n",
       "      <td>4.6</td>\n",
       "      <td>3.1</td>\n",
       "      <td>1.5</td>\n",
       "      <td>0.2</td>\n",
       "      <td>Iris-setosa</td>\n",
       "    </tr>\n",
       "    <tr>\n",
       "      <th>4</th>\n",
       "      <td>5.0</td>\n",
       "      <td>3.6</td>\n",
       "      <td>1.4</td>\n",
       "      <td>0.2</td>\n",
       "      <td>Iris-setosa</td>\n",
       "    </tr>\n",
       "    <tr>\n",
       "      <th>...</th>\n",
       "      <td>...</td>\n",
       "      <td>...</td>\n",
       "      <td>...</td>\n",
       "      <td>...</td>\n",
       "      <td>...</td>\n",
       "    </tr>\n",
       "    <tr>\n",
       "      <th>145</th>\n",
       "      <td>6.7</td>\n",
       "      <td>3.0</td>\n",
       "      <td>5.2</td>\n",
       "      <td>2.3</td>\n",
       "      <td>Iris-virginica</td>\n",
       "    </tr>\n",
       "    <tr>\n",
       "      <th>146</th>\n",
       "      <td>6.3</td>\n",
       "      <td>2.5</td>\n",
       "      <td>5.0</td>\n",
       "      <td>1.9</td>\n",
       "      <td>Iris-virginica</td>\n",
       "    </tr>\n",
       "    <tr>\n",
       "      <th>147</th>\n",
       "      <td>6.5</td>\n",
       "      <td>3.0</td>\n",
       "      <td>5.2</td>\n",
       "      <td>2.0</td>\n",
       "      <td>Iris-virginica</td>\n",
       "    </tr>\n",
       "    <tr>\n",
       "      <th>148</th>\n",
       "      <td>6.2</td>\n",
       "      <td>3.4</td>\n",
       "      <td>5.4</td>\n",
       "      <td>2.3</td>\n",
       "      <td>Iris-virginica</td>\n",
       "    </tr>\n",
       "    <tr>\n",
       "      <th>149</th>\n",
       "      <td>5.9</td>\n",
       "      <td>3.0</td>\n",
       "      <td>5.1</td>\n",
       "      <td>1.8</td>\n",
       "      <td>Iris-virginica</td>\n",
       "    </tr>\n",
       "  </tbody>\n",
       "</table>\n",
       "<p>150 rows × 5 columns</p>\n",
       "</div>"
      ],
      "text/plain": [
       "       0    1    2    3               4\n",
       "0    5.1  3.5  1.4  0.2     Iris-setosa\n",
       "1    4.9  3.0  1.4  0.2     Iris-setosa\n",
       "2    4.7  3.2  1.3  0.2     Iris-setosa\n",
       "3    4.6  3.1  1.5  0.2     Iris-setosa\n",
       "4    5.0  3.6  1.4  0.2     Iris-setosa\n",
       "..   ...  ...  ...  ...             ...\n",
       "145  6.7  3.0  5.2  2.3  Iris-virginica\n",
       "146  6.3  2.5  5.0  1.9  Iris-virginica\n",
       "147  6.5  3.0  5.2  2.0  Iris-virginica\n",
       "148  6.2  3.4  5.4  2.3  Iris-virginica\n",
       "149  5.9  3.0  5.1  1.8  Iris-virginica\n",
       "\n",
       "[150 rows x 5 columns]"
      ]
     },
     "execution_count": 4,
     "metadata": {},
     "output_type": "execute_result"
    }
   ],
   "source": [
    "df"
   ]
  },
  {
   "cell_type": "markdown",
   "id": "507ce33c",
   "metadata": {},
   "source": [
    "Che cosa contiene il nostro dataset?\n",
    "contiene dei dati relativi a delle misurazioni effettuate su fiori di Iris\n",
    "<img src=\"https://www.embedded-robotics.com/wp-content/uploads/2022/01/Iris-Dataset-Classification.png\" />\n",
    "\n",
    "Nel dataset iris i quattro valori numerici rappresentano le dimensioni lunghezza*larghezza di sepali e petali\n",
    "\n",
    "Il quinto valore categorico rappresenta il tipo di Iris, a scelta \"setosa, versicolor, virginica\""
   ]
  },
  {
   "cell_type": "code",
   "execution_count": 5,
   "id": "9320749f",
   "metadata": {},
   "outputs": [
    {
     "data": {
      "text/plain": [
       "0         Iris-setosa\n",
       "1         Iris-setosa\n",
       "2         Iris-setosa\n",
       "3         Iris-setosa\n",
       "4         Iris-setosa\n",
       "            ...      \n",
       "145    Iris-virginica\n",
       "146    Iris-virginica\n",
       "147    Iris-virginica\n",
       "148    Iris-virginica\n",
       "149    Iris-virginica\n",
       "Name: 4, Length: 150, dtype: object"
      ]
     },
     "execution_count": 5,
     "metadata": {},
     "output_type": "execute_result"
    }
   ],
   "source": [
    "# selezioniamo solo il valore categorico\n",
    "# prendiamo dalla riga 0 a 150 (non compresa), inoltre prendiamo solo la 4 colonna. \n",
    "df.iloc[0:150, 4]"
   ]
  },
  {
   "cell_type": "code",
   "execution_count": 6,
   "id": "fdc953c3",
   "metadata": {},
   "outputs": [
    {
     "data": {
      "text/html": [
       "<div>\n",
       "<style scoped>\n",
       "    .dataframe tbody tr th:only-of-type {\n",
       "        vertical-align: middle;\n",
       "    }\n",
       "\n",
       "    .dataframe tbody tr th {\n",
       "        vertical-align: top;\n",
       "    }\n",
       "\n",
       "    .dataframe thead th {\n",
       "        text-align: right;\n",
       "    }\n",
       "</style>\n",
       "<table border=\"1\" class=\"dataframe\">\n",
       "  <thead>\n",
       "    <tr style=\"text-align: right;\">\n",
       "      <th></th>\n",
       "      <th>0</th>\n",
       "      <th>2</th>\n",
       "      <th>4</th>\n",
       "    </tr>\n",
       "  </thead>\n",
       "  <tbody>\n",
       "    <tr>\n",
       "      <th>0</th>\n",
       "      <td>5.1</td>\n",
       "      <td>1.4</td>\n",
       "      <td>Iris-setosa</td>\n",
       "    </tr>\n",
       "    <tr>\n",
       "      <th>1</th>\n",
       "      <td>4.9</td>\n",
       "      <td>1.4</td>\n",
       "      <td>Iris-setosa</td>\n",
       "    </tr>\n",
       "    <tr>\n",
       "      <th>2</th>\n",
       "      <td>4.7</td>\n",
       "      <td>1.3</td>\n",
       "      <td>Iris-setosa</td>\n",
       "    </tr>\n",
       "    <tr>\n",
       "      <th>3</th>\n",
       "      <td>4.6</td>\n",
       "      <td>1.5</td>\n",
       "      <td>Iris-setosa</td>\n",
       "    </tr>\n",
       "    <tr>\n",
       "      <th>4</th>\n",
       "      <td>5.0</td>\n",
       "      <td>1.4</td>\n",
       "      <td>Iris-setosa</td>\n",
       "    </tr>\n",
       "    <tr>\n",
       "      <th>...</th>\n",
       "      <td>...</td>\n",
       "      <td>...</td>\n",
       "      <td>...</td>\n",
       "    </tr>\n",
       "    <tr>\n",
       "      <th>95</th>\n",
       "      <td>5.7</td>\n",
       "      <td>4.2</td>\n",
       "      <td>Iris-versicolor</td>\n",
       "    </tr>\n",
       "    <tr>\n",
       "      <th>96</th>\n",
       "      <td>5.7</td>\n",
       "      <td>4.2</td>\n",
       "      <td>Iris-versicolor</td>\n",
       "    </tr>\n",
       "    <tr>\n",
       "      <th>97</th>\n",
       "      <td>6.2</td>\n",
       "      <td>4.3</td>\n",
       "      <td>Iris-versicolor</td>\n",
       "    </tr>\n",
       "    <tr>\n",
       "      <th>98</th>\n",
       "      <td>5.1</td>\n",
       "      <td>3.0</td>\n",
       "      <td>Iris-versicolor</td>\n",
       "    </tr>\n",
       "    <tr>\n",
       "      <th>99</th>\n",
       "      <td>5.7</td>\n",
       "      <td>4.1</td>\n",
       "      <td>Iris-versicolor</td>\n",
       "    </tr>\n",
       "  </tbody>\n",
       "</table>\n",
       "<p>100 rows × 3 columns</p>\n",
       "</div>"
      ],
      "text/plain": [
       "      0    2                4\n",
       "0   5.1  1.4      Iris-setosa\n",
       "1   4.9  1.4      Iris-setosa\n",
       "2   4.7  1.3      Iris-setosa\n",
       "3   4.6  1.5      Iris-setosa\n",
       "4   5.0  1.4      Iris-setosa\n",
       "..  ...  ...              ...\n",
       "95  5.7  4.2  Iris-versicolor\n",
       "96  5.7  4.2  Iris-versicolor\n",
       "97  6.2  4.3  Iris-versicolor\n",
       "98  5.1  3.0  Iris-versicolor\n",
       "99  5.7  4.1  Iris-versicolor\n",
       "\n",
       "[100 rows x 3 columns]"
      ]
     },
     "execution_count": 6,
     "metadata": {},
     "output_type": "execute_result"
    }
   ],
   "source": [
    "# Selezioniamo un sottoinsieme di righe e colonne, in particolare prendiamo le colonne 0, 2 e 4, mentre le righe da 0 a 100\n",
    "df.iloc[0:100, [0, 2, 4]]"
   ]
  },
  {
   "cell_type": "code",
   "execution_count": 7,
   "id": "a2bfffb6",
   "metadata": {},
   "outputs": [
    {
     "data": {
      "text/plain": [
       "array([[5.1, 1.4, 'Iris-setosa'],\n",
       "       [4.9, 1.4, 'Iris-setosa'],\n",
       "       [4.7, 1.3, 'Iris-setosa'],\n",
       "       [4.6, 1.5, 'Iris-setosa'],\n",
       "       [5.0, 1.4, 'Iris-setosa'],\n",
       "       [5.4, 1.7, 'Iris-setosa'],\n",
       "       [4.6, 1.4, 'Iris-setosa'],\n",
       "       [5.0, 1.5, 'Iris-setosa'],\n",
       "       [4.4, 1.4, 'Iris-setosa'],\n",
       "       [4.9, 1.5, 'Iris-setosa'],\n",
       "       [5.4, 1.5, 'Iris-setosa'],\n",
       "       [4.8, 1.6, 'Iris-setosa'],\n",
       "       [4.8, 1.4, 'Iris-setosa'],\n",
       "       [4.3, 1.1, 'Iris-setosa'],\n",
       "       [5.8, 1.2, 'Iris-setosa'],\n",
       "       [5.7, 1.5, 'Iris-setosa'],\n",
       "       [5.4, 1.3, 'Iris-setosa'],\n",
       "       [5.1, 1.4, 'Iris-setosa'],\n",
       "       [5.7, 1.7, 'Iris-setosa'],\n",
       "       [5.1, 1.5, 'Iris-setosa'],\n",
       "       [5.4, 1.7, 'Iris-setosa'],\n",
       "       [5.1, 1.5, 'Iris-setosa'],\n",
       "       [4.6, 1.0, 'Iris-setosa'],\n",
       "       [5.1, 1.7, 'Iris-setosa'],\n",
       "       [4.8, 1.9, 'Iris-setosa'],\n",
       "       [5.0, 1.6, 'Iris-setosa'],\n",
       "       [5.0, 1.6, 'Iris-setosa'],\n",
       "       [5.2, 1.5, 'Iris-setosa'],\n",
       "       [5.2, 1.4, 'Iris-setosa'],\n",
       "       [4.7, 1.6, 'Iris-setosa'],\n",
       "       [4.8, 1.6, 'Iris-setosa'],\n",
       "       [5.4, 1.5, 'Iris-setosa'],\n",
       "       [5.2, 1.5, 'Iris-setosa'],\n",
       "       [5.5, 1.4, 'Iris-setosa'],\n",
       "       [4.9, 1.5, 'Iris-setosa'],\n",
       "       [5.0, 1.2, 'Iris-setosa'],\n",
       "       [5.5, 1.3, 'Iris-setosa'],\n",
       "       [4.9, 1.5, 'Iris-setosa'],\n",
       "       [4.4, 1.3, 'Iris-setosa'],\n",
       "       [5.1, 1.5, 'Iris-setosa'],\n",
       "       [5.0, 1.3, 'Iris-setosa'],\n",
       "       [4.5, 1.3, 'Iris-setosa'],\n",
       "       [4.4, 1.3, 'Iris-setosa'],\n",
       "       [5.0, 1.6, 'Iris-setosa'],\n",
       "       [5.1, 1.9, 'Iris-setosa'],\n",
       "       [4.8, 1.4, 'Iris-setosa'],\n",
       "       [5.1, 1.6, 'Iris-setosa'],\n",
       "       [4.6, 1.4, 'Iris-setosa'],\n",
       "       [5.3, 1.5, 'Iris-setosa'],\n",
       "       [5.0, 1.4, 'Iris-setosa'],\n",
       "       [7.0, 4.7, 'Iris-versicolor'],\n",
       "       [6.4, 4.5, 'Iris-versicolor'],\n",
       "       [6.9, 4.9, 'Iris-versicolor'],\n",
       "       [5.5, 4.0, 'Iris-versicolor'],\n",
       "       [6.5, 4.6, 'Iris-versicolor'],\n",
       "       [5.7, 4.5, 'Iris-versicolor'],\n",
       "       [6.3, 4.7, 'Iris-versicolor'],\n",
       "       [4.9, 3.3, 'Iris-versicolor'],\n",
       "       [6.6, 4.6, 'Iris-versicolor'],\n",
       "       [5.2, 3.9, 'Iris-versicolor'],\n",
       "       [5.0, 3.5, 'Iris-versicolor'],\n",
       "       [5.9, 4.2, 'Iris-versicolor'],\n",
       "       [6.0, 4.0, 'Iris-versicolor'],\n",
       "       [6.1, 4.7, 'Iris-versicolor'],\n",
       "       [5.6, 3.6, 'Iris-versicolor'],\n",
       "       [6.7, 4.4, 'Iris-versicolor'],\n",
       "       [5.6, 4.5, 'Iris-versicolor'],\n",
       "       [5.8, 4.1, 'Iris-versicolor'],\n",
       "       [6.2, 4.5, 'Iris-versicolor'],\n",
       "       [5.6, 3.9, 'Iris-versicolor'],\n",
       "       [5.9, 4.8, 'Iris-versicolor'],\n",
       "       [6.1, 4.0, 'Iris-versicolor'],\n",
       "       [6.3, 4.9, 'Iris-versicolor'],\n",
       "       [6.1, 4.7, 'Iris-versicolor'],\n",
       "       [6.4, 4.3, 'Iris-versicolor'],\n",
       "       [6.6, 4.4, 'Iris-versicolor'],\n",
       "       [6.8, 4.8, 'Iris-versicolor'],\n",
       "       [6.7, 5.0, 'Iris-versicolor'],\n",
       "       [6.0, 4.5, 'Iris-versicolor'],\n",
       "       [5.7, 3.5, 'Iris-versicolor'],\n",
       "       [5.5, 3.8, 'Iris-versicolor'],\n",
       "       [5.5, 3.7, 'Iris-versicolor'],\n",
       "       [5.8, 3.9, 'Iris-versicolor'],\n",
       "       [6.0, 5.1, 'Iris-versicolor'],\n",
       "       [5.4, 4.5, 'Iris-versicolor'],\n",
       "       [6.0, 4.5, 'Iris-versicolor'],\n",
       "       [6.7, 4.7, 'Iris-versicolor'],\n",
       "       [6.3, 4.4, 'Iris-versicolor'],\n",
       "       [5.6, 4.1, 'Iris-versicolor'],\n",
       "       [5.5, 4.0, 'Iris-versicolor'],\n",
       "       [5.5, 4.4, 'Iris-versicolor'],\n",
       "       [6.1, 4.6, 'Iris-versicolor'],\n",
       "       [5.8, 4.0, 'Iris-versicolor'],\n",
       "       [5.0, 3.3, 'Iris-versicolor'],\n",
       "       [5.6, 4.2, 'Iris-versicolor'],\n",
       "       [5.7, 4.2, 'Iris-versicolor'],\n",
       "       [5.7, 4.2, 'Iris-versicolor'],\n",
       "       [6.2, 4.3, 'Iris-versicolor'],\n",
       "       [5.1, 3.0, 'Iris-versicolor'],\n",
       "       [5.7, 4.1, 'Iris-versicolor'],\n",
       "       [6.3, 6.0, 'Iris-virginica'],\n",
       "       [5.8, 5.1, 'Iris-virginica'],\n",
       "       [7.1, 5.9, 'Iris-virginica'],\n",
       "       [6.3, 5.6, 'Iris-virginica'],\n",
       "       [6.5, 5.8, 'Iris-virginica'],\n",
       "       [7.6, 6.6, 'Iris-virginica'],\n",
       "       [4.9, 4.5, 'Iris-virginica'],\n",
       "       [7.3, 6.3, 'Iris-virginica'],\n",
       "       [6.7, 5.8, 'Iris-virginica'],\n",
       "       [7.2, 6.1, 'Iris-virginica'],\n",
       "       [6.5, 5.1, 'Iris-virginica'],\n",
       "       [6.4, 5.3, 'Iris-virginica'],\n",
       "       [6.8, 5.5, 'Iris-virginica'],\n",
       "       [5.7, 5.0, 'Iris-virginica'],\n",
       "       [5.8, 5.1, 'Iris-virginica'],\n",
       "       [6.4, 5.3, 'Iris-virginica'],\n",
       "       [6.5, 5.5, 'Iris-virginica'],\n",
       "       [7.7, 6.7, 'Iris-virginica'],\n",
       "       [7.7, 6.9, 'Iris-virginica'],\n",
       "       [6.0, 5.0, 'Iris-virginica'],\n",
       "       [6.9, 5.7, 'Iris-virginica'],\n",
       "       [5.6, 4.9, 'Iris-virginica'],\n",
       "       [7.7, 6.7, 'Iris-virginica'],\n",
       "       [6.3, 4.9, 'Iris-virginica'],\n",
       "       [6.7, 5.7, 'Iris-virginica'],\n",
       "       [7.2, 6.0, 'Iris-virginica'],\n",
       "       [6.2, 4.8, 'Iris-virginica'],\n",
       "       [6.1, 4.9, 'Iris-virginica'],\n",
       "       [6.4, 5.6, 'Iris-virginica'],\n",
       "       [7.2, 5.8, 'Iris-virginica'],\n",
       "       [7.4, 6.1, 'Iris-virginica'],\n",
       "       [7.9, 6.4, 'Iris-virginica'],\n",
       "       [6.4, 5.6, 'Iris-virginica'],\n",
       "       [6.3, 5.1, 'Iris-virginica'],\n",
       "       [6.1, 5.6, 'Iris-virginica'],\n",
       "       [7.7, 6.1, 'Iris-virginica'],\n",
       "       [6.3, 5.6, 'Iris-virginica'],\n",
       "       [6.4, 5.5, 'Iris-virginica'],\n",
       "       [6.0, 4.8, 'Iris-virginica'],\n",
       "       [6.9, 5.4, 'Iris-virginica'],\n",
       "       [6.7, 5.6, 'Iris-virginica'],\n",
       "       [6.9, 5.1, 'Iris-virginica'],\n",
       "       [5.8, 5.1, 'Iris-virginica'],\n",
       "       [6.8, 5.9, 'Iris-virginica'],\n",
       "       [6.7, 5.7, 'Iris-virginica'],\n",
       "       [6.7, 5.2, 'Iris-virginica'],\n",
       "       [6.3, 5.0, 'Iris-virginica'],\n",
       "       [6.5, 5.2, 'Iris-virginica'],\n",
       "       [6.2, 5.4, 'Iris-virginica'],\n",
       "       [5.9, 5.1, 'Iris-virginica']], dtype=object)"
      ]
     },
     "execution_count": 7,
     "metadata": {},
     "output_type": "execute_result"
    }
   ],
   "source": [
    "# cosi estraiamo i dati \"grezzi\" dai df (data frame), con i soli : prendo tutte le righe\n",
    "df.iloc[:, [0, 2, 4]].values"
   ]
  },
  {
   "cell_type": "markdown",
   "id": "65188b67",
   "metadata": {},
   "source": [
    "## Import di numpy\n",
    "Libreria che permette di gestire delle strutture di dati/collezioni (matrici, liste multi-dimensionali, ....) in maniera efficiente e semplificata.\n",
    "\n",
    "Inoltre numpy ha molti metodi utili per funzioni da applicare a matrici, liste, ecc."
   ]
  },
  {
   "cell_type": "code",
   "execution_count": 8,
   "id": "330a207a",
   "metadata": {},
   "outputs": [],
   "source": [
    "import numpy as np"
   ]
  },
  {
   "cell_type": "code",
   "execution_count": 9,
   "id": "daed755f",
   "metadata": {},
   "outputs": [
    {
     "data": {
      "text/plain": [
       "3.5"
      ]
     },
     "execution_count": 9,
     "metadata": {},
     "output_type": "execute_result"
    }
   ],
   "source": [
    "# fa la media degli elementi nella lista\n",
    "np.mean([1,2,3,4,5,6])"
   ]
  },
  {
   "cell_type": "code",
   "execution_count": 10,
   "id": "cef78ff8",
   "metadata": {},
   "outputs": [
    {
     "data": {
      "image/png": "[encoded data removed]",
      "text/plain": [
       "<Figure size 1850x1050 with 1 Axes>"
      ]
     },
     "metadata": {
      "image/png": {
       "height": 871,
       "width": 1505
      }
     },
     "output_type": "display_data"
    }
   ],
   "source": [
    "import matplotlib.pyplot as plt\n",
    "# rende più nitidi i punti\n",
    "%config InlineBackend.figure_format='retina'\n",
    "\n",
    "# per aumentare la grandezza del grafico utilizzo le seguenti due istruzioni di codice\n",
    "fig = plt.gcf()\n",
    "fig.set_size_inches(18.5, 10.5)\n",
    "\n",
    "# plot data\n",
    "# sulla x mettiamo la lunghezza del sepalo (colonna 0), sulla y mettiamo larghezza sepalo (colonna 1)\n",
    "# plottiamo solo i tipi setosa e versicolor (colonna 4) (differenziandoli)\n",
    "\n",
    "#dico quanti dati analizzare e quali colonne analizzare\n",
    "data = df.iloc[0:, [0, 1, 4]].values\n",
    "\n",
    "setosa_x = data[:50, 0]\n",
    "setosa_y = data[:50, 1]\n",
    "\n",
    "versicolor_x = data[50:100, 0]\n",
    "versicolor_y = data[50:100, 1]\n",
    "\n",
    "virginica_x = data[100:, 0]\n",
    "virginica_y = data[100:, 1]\n",
    "\n",
    "plt.scatter(setosa_x, setosa_y, color= 'red', label = 'setosa', marker = 'o')\n",
    "plt.scatter(versicolor_x, versicolor_y, color= 'blue', label = 'versicolor', marker = 'x')\n",
    "plt.scatter(virginica_x, virginica_y, color= 'orange', label = 'virginica', marker = '*')\n",
    "\n",
    "plt.xlabel('lunghezza sepalo [cm]')\n",
    "plt.ylabel('larghezza sepalo [cm]')\n",
    "plt.legend()\n",
    "\n",
    "plt.show()"
   ]
  },
  {
   "cell_type": "markdown",
   "id": "6a1090a1",
   "metadata": {},
   "source": [
    "## Notazione\n",
    "si indica con X il dataset e y le etichette (il valore da predire)\n",
    "\n",
    "Esempio dataset Iris: abbiamo visto che è facile separare linearmente setosa e versicolor considerando lunghezza e larghezza sepalo\n",
    "\n",
    "lunghezza e larghezza -> dati misurati -> X\n",
    "\n",
    "categoria di Iris -> valore da predire -> y"
   ]
  },
  {
   "cell_type": "code",
   "execution_count": 11,
   "id": "650c6cc2",
   "metadata": {},
   "outputs": [],
   "source": [
    "from sklearn.linear_model import Perceptron"
   ]
  },
  {
   "cell_type": "markdown",
   "id": "3a74dcaa",
   "metadata": {},
   "source": [
    "### Data preparation"
   ]
  },
  {
   "cell_type": "code",
   "execution_count": 12,
   "id": "3b2ad721",
   "metadata": {},
   "outputs": [],
   "source": [
    "# abbiamo visto che gli Iris si distinguono molto bene considerando lunghezza e larghezza sepalo, quindi prendiamo\n",
    "# solo le prime due colonne\n",
    "X = df.iloc[:100, [0,1]].values\n",
    "y = df.iloc[:100, 4].values\n",
    "\n",
    "# la classe standard di inear regression non è in grado di distinguere le categorie\n",
    "# ad es: sotto forma di stringa ('iris setosa', 'iris versicolor')\n",
    "# bensi funziona su valori numerici (1, -1), quindi ci inventiamo una funzione che converta un array di categorie\n",
    "# in un array di (1, -1)\n",
    "\n",
    "# conversione dei valori y, se y == alla stringa allora mi metti -1, altrimenti 1\n",
    "y = np.where(y == 'Iris-setosa', -1, 1)\n",
    "#print(y)"
   ]
  },
  {
   "cell_type": "markdown",
   "id": "f623602c",
   "metadata": {},
   "source": [
    "### Funzione per interpetare meglio i dati"
   ]
  },
  {
   "cell_type": "code",
   "execution_count": 13,
   "id": "3befc8c3",
   "metadata": {},
   "outputs": [
    {
     "data": {
      "text/plain": [
       "array(['Iris-setosa', 'Iris-setosa', 'Iris-setosa', 'Iris-setosa',\n",
       "       'Iris-setosa', 'Iris-setosa', 'Iris-setosa', 'Iris-setosa',\n",
       "       'Iris-setosa', 'Iris-setosa', 'Iris-setosa', 'Iris-setosa',\n",
       "       'Iris-setosa', 'Iris-setosa', 'Iris-setosa', 'Iris-setosa',\n",
       "       'Iris-setosa', 'Iris-setosa', 'Iris-setosa', 'Iris-setosa',\n",
       "       'Iris-setosa', 'Iris-setosa', 'Iris-setosa', 'Iris-setosa',\n",
       "       'Iris-setosa', 'Iris-setosa', 'Iris-setosa', 'Iris-setosa',\n",
       "       'Iris-setosa', 'Iris-setosa', 'Iris-setosa', 'Iris-setosa',\n",
       "       'Iris-setosa', 'Iris-setosa', 'Iris-setosa', 'Iris-setosa',\n",
       "       'Iris-setosa', 'Iris-setosa', 'Iris-setosa', 'Iris-setosa',\n",
       "       'Iris-setosa', 'Iris-setosa', 'Iris-setosa', 'Iris-setosa',\n",
       "       'Iris-setosa', 'Iris-setosa', 'Iris-setosa', 'Iris-setosa',\n",
       "       'Iris-setosa', 'Iris-setosa', 'Iris-versicolor', 'Iris-versicolor',\n",
       "       'Iris-versicolor', 'Iris-versicolor', 'Iris-versicolor',\n",
       "       'Iris-versicolor', 'Iris-versicolor', 'Iris-versicolor',\n",
       "       'Iris-versicolor', 'Iris-versicolor', 'Iris-versicolor',\n",
       "       'Iris-versicolor', 'Iris-versicolor', 'Iris-versicolor',\n",
       "       'Iris-versicolor', 'Iris-versicolor', 'Iris-versicolor',\n",
       "       'Iris-versicolor', 'Iris-versicolor', 'Iris-versicolor',\n",
       "       'Iris-versicolor', 'Iris-versicolor', 'Iris-versicolor',\n",
       "       'Iris-versicolor', 'Iris-versicolor', 'Iris-versicolor',\n",
       "       'Iris-versicolor', 'Iris-versicolor', 'Iris-versicolor',\n",
       "       'Iris-versicolor', 'Iris-versicolor', 'Iris-versicolor',\n",
       "       'Iris-versicolor', 'Iris-versicolor', 'Iris-versicolor',\n",
       "       'Iris-versicolor', 'Iris-versicolor', 'Iris-versicolor',\n",
       "       'Iris-versicolor', 'Iris-versicolor', 'Iris-versicolor',\n",
       "       'Iris-versicolor', 'Iris-versicolor', 'Iris-versicolor',\n",
       "       'Iris-versicolor', 'Iris-versicolor', 'Iris-versicolor',\n",
       "       'Iris-versicolor', 'Iris-versicolor', 'Iris-versicolor'],\n",
       "      dtype='<U15')"
      ]
     },
     "execution_count": 13,
     "metadata": {},
     "output_type": "execute_result"
    }
   ],
   "source": [
    "def converti_in_categoria(arr):\n",
    "    return np.where(arr > 0 , 'Iris-versicolor','Iris-setosa')\n",
    "\n",
    "converti_in_categoria(y)"
   ]
  },
  {
   "cell_type": "markdown",
   "id": "b46af833",
   "metadata": {},
   "source": [
    "### Model fitting"
   ]
  },
  {
   "cell_type": "code",
   "execution_count": 14,
   "id": "ea992fec",
   "metadata": {},
   "outputs": [
    {
     "data": {
      "text/plain": [
       "array(['Iris-setosa', 'Iris-versicolor'], dtype='<U15')"
      ]
     },
     "execution_count": 14,
     "metadata": {},
     "output_type": "execute_result"
    }
   ],
   "source": [
    "reg = Perceptron().fit(X, y)\n",
    "\n",
    "# siccome doe cera setosa mettiamo -1, dove cera versicolor 1, se va molto vicino a -1 dice che è setosa\n",
    "# uso la funzione converti in categoria, cosi rendo l'output di nuovo in stringa e non intero\n",
    "# naturalmente se passo i punti 5 e 4 si colloca nella parte dei setosa, 7 e 2.5 versicolor\n",
    "converti_in_categoria(reg.predict([[5, 4], [7, 2.5]]))"
   ]
  },
  {
   "cell_type": "markdown",
   "id": "7d9294f1",
   "metadata": {},
   "source": [
    "### Plot dei dati/risultati valutazione empirica"
   ]
  },
  {
   "cell_type": "code",
   "execution_count": 15,
   "id": "e33ac5c0",
   "metadata": {},
   "outputs": [
    {
     "data": {
      "text/plain": [
       "array(['Iris-setosa', 'Iris-setosa', 'Iris-setosa', 'Iris-setosa',\n",
       "       'Iris-setosa', 'Iris-setosa', 'Iris-setosa', 'Iris-setosa',\n",
       "       'Iris-setosa', 'Iris-setosa', 'Iris-setosa', 'Iris-setosa',\n",
       "       'Iris-setosa', 'Iris-setosa', 'Iris-setosa', 'Iris-setosa',\n",
       "       'Iris-setosa', 'Iris-setosa', 'Iris-setosa', 'Iris-setosa',\n",
       "       'Iris-setosa', 'Iris-setosa', 'Iris-setosa', 'Iris-setosa',\n",
       "       'Iris-setosa', 'Iris-setosa', 'Iris-setosa', 'Iris-setosa',\n",
       "       'Iris-setosa', 'Iris-setosa', 'Iris-setosa', 'Iris-setosa',\n",
       "       'Iris-setosa', 'Iris-setosa', 'Iris-setosa', 'Iris-setosa',\n",
       "       'Iris-setosa', 'Iris-setosa', 'Iris-setosa', 'Iris-setosa',\n",
       "       'Iris-setosa', 'Iris-versicolor', 'Iris-setosa', 'Iris-setosa',\n",
       "       'Iris-setosa', 'Iris-setosa', 'Iris-setosa', 'Iris-setosa',\n",
       "       'Iris-setosa', 'Iris-setosa', 'Iris-versicolor', 'Iris-versicolor',\n",
       "       'Iris-versicolor', 'Iris-versicolor', 'Iris-versicolor',\n",
       "       'Iris-versicolor', 'Iris-versicolor', 'Iris-versicolor',\n",
       "       'Iris-versicolor', 'Iris-versicolor', 'Iris-versicolor',\n",
       "       'Iris-versicolor', 'Iris-versicolor', 'Iris-versicolor',\n",
       "       'Iris-versicolor', 'Iris-versicolor', 'Iris-versicolor',\n",
       "       'Iris-versicolor', 'Iris-versicolor', 'Iris-versicolor',\n",
       "       'Iris-versicolor', 'Iris-versicolor', 'Iris-versicolor',\n",
       "       'Iris-versicolor', 'Iris-versicolor', 'Iris-versicolor',\n",
       "       'Iris-versicolor', 'Iris-versicolor', 'Iris-versicolor',\n",
       "       'Iris-versicolor', 'Iris-versicolor', 'Iris-versicolor',\n",
       "       'Iris-versicolor', 'Iris-versicolor', 'Iris-versicolor',\n",
       "       'Iris-versicolor', 'Iris-versicolor', 'Iris-versicolor',\n",
       "       'Iris-versicolor', 'Iris-versicolor', 'Iris-versicolor',\n",
       "       'Iris-versicolor', 'Iris-versicolor', 'Iris-versicolor',\n",
       "       'Iris-versicolor', 'Iris-versicolor', 'Iris-versicolor',\n",
       "       'Iris-versicolor', 'Iris-versicolor', 'Iris-versicolor'],\n",
       "      dtype='<U15')"
      ]
     },
     "execution_count": 15,
     "metadata": {},
     "output_type": "execute_result"
    }
   ],
   "source": [
    "converti_in_categoria(reg.predict(X)) \n"
   ]
  },
  {
   "cell_type": "markdown",
   "id": "f3eafd26",
   "metadata": {},
   "source": [
    "### Fitting parziale"
   ]
  },
  {
   "cell_type": "code",
   "execution_count": 16,
   "id": "5c1559b1",
   "metadata": {},
   "outputs": [
    {
     "data": {
      "text/plain": [
       "0.72"
      ]
     },
     "execution_count": 16,
     "metadata": {},
     "output_type": "execute_result"
    }
   ],
   "source": [
    "from sklearn.model_selection import train_test_split\n",
    "\n",
    "# vado a fare lo split del dataset in queste 4 parti\n",
    "X_train, X_test, y_train, y_test = train_test_split(X, y)\n",
    "\n",
    "# mettendo max_iter = 1 nei parametri del perceptron, dico dopo quante iterazioni fermarmi\n",
    "model_fit_parz = Perceptron()\n",
    "\n",
    "model_fit_parz.fit(X_train, y_train)\n",
    "\n",
    "model_fit_parz.score(X_test, y_test)"
   ]
  },
  {
   "cell_type": "markdown",
   "id": "56d293d9",
   "metadata": {},
   "source": [
    "### Modello ML custom"
   ]
  },
  {
   "cell_type": "code",
   "execution_count": 17,
   "id": "019e4a86",
   "metadata": {},
   "outputs": [],
   "source": [
    "from sklearn.metrics import f1_score\n",
    "class PerceptronCustom(object):\n",
    "\n",
    "    def __init__(self, eta=0.01, epochs=20, X_test = None, y_test = None):\n",
    "        self.eta = eta\n",
    "        self.epochs = epochs\n",
    "        self.X_test = X_test\n",
    "        self.y_test = y_test\n",
    "        \n",
    "    def fit(self, X, y):\n",
    "\n",
    "        self.w_ = np.zeros(1 + X.shape[1])\n",
    "        self.errors_ = []\n",
    "        self.f1s_ = []\n",
    "        \n",
    "        for _ in range(self.epochs):\n",
    "            errors = 0\n",
    "            for xi, target in zip(X, y):\n",
    "                update = self.eta * (target - self.predict(xi))\n",
    "                self.w_[1:] +=  update * xi\n",
    "                self.w_[0] +=  update\n",
    "                errors += int(update != 0.0)\n",
    "            self.errors_.append(errors)\n",
    "            if self.X_test is not None and self.y_test is not None:\n",
    "                self.f1s_ += [f1_score(self.y_test, self.predict(self.X_test))]\n",
    "        return self\n",
    "\n",
    "    def net_input(self, X):\n",
    "        return np.dot(X, self.w_[1:]) + self.w_[0]\n",
    "\n",
    "    def predict(self, X):\n",
    "        return np.where(self.net_input(X) >= 0.0, 1, -1)"
   ]
  },
  {
   "cell_type": "markdown",
   "id": "b406c1ca",
   "metadata": {},
   "source": [
    "### Fitting modello ML custom"
   ]
  },
  {
   "cell_type": "code",
   "execution_count": 18,
   "id": "66f10ce1",
   "metadata": {},
   "outputs": [
    {
     "data": {
      "text/plain": [
       "<__main__.PerceptronCustom at 0x220bdfc84c0>"
      ]
     },
     "execution_count": 18,
     "metadata": {},
     "output_type": "execute_result"
    }
   ],
   "source": [
    "from sklearn.model_selection import train_test_split\n",
    "\n",
    "\n",
    "model_custom = PerceptronCustom()\n",
    "# vado a fare lo split del dataset in queste 4 parti\n",
    "X_train, X_test, y_train, y_test = train_test_split(X, y, train_size = 0.1)\n",
    "\n",
    "model_custom.fit(X_train, y_train)\n",
    "\n",
    "#model_custom.errors_"
   ]
  },
  {
   "cell_type": "markdown",
   "id": "1dadb90e",
   "metadata": {},
   "source": [
    "### Plot dei dati/risultati valutazione empirica"
   ]
  },
  {
   "cell_type": "code",
   "execution_count": 19,
   "id": "8f5b939e",
   "metadata": {},
   "outputs": [
    {
     "data": {
      "image/png": "[encoded data removed]",
      "text/plain": [
       "<Figure size 640x480 with 1 Axes>"
      ]
     },
     "metadata": {
      "image/png": {
       "height": 432,
       "width": 554
      }
     },
     "output_type": "display_data"
    }
   ],
   "source": [
    "plt.plot(list(range(len(model_custom.errors_))),model_custom.errors_)\n",
    "\n",
    "plt.xlabel('Epoche - Iterazioni')\n",
    "plt.ylabel('Errore [#esempi mal classificati]')\n",
    "plt.show()"
   ]
  },
  {
   "cell_type": "markdown",
   "id": "e9fd8afc",
   "metadata": {},
   "source": [
    "### Metriche per la valutazione di modelli predittivi"
   ]
  },
  {
   "cell_type": "code",
   "execution_count": 20,
   "id": "98b37be6",
   "metadata": {},
   "outputs": [
    {
     "data": {
      "text/plain": [
       "0.9887640449438202"
      ]
     },
     "execution_count": 20,
     "metadata": {},
     "output_type": "execute_result"
    }
   ],
   "source": [
    "\n",
    "# percentuali di predizioni corrette -> accuracy\n",
    "# metriche più sofisticate in cui si distinguono vari casi\n",
    "# VERO POSITIVO, FALSO POSITIVO, VERO NEGATIVO, FALSO NEGATIVO\n",
    "# utilizzando queste misure si possono calcolare dello score più significative\n",
    "\n",
    "\n",
    "# la metrica più utilizzata in classificazione è f1 -> risultato in % 0.0 - 1.0\n",
    "f1_score(y_test, model_custom.predict(X_test))"
   ]
  },
  {
   "cell_type": "code",
   "execution_count": 21,
   "id": "e94c8aa5",
   "metadata": {},
   "outputs": [
    {
     "data": {
      "text/plain": [
       "(array([ 1,  1, -1,  1,  1, -1, -1,  1,  1,  1, -1, -1,  1, -1, -1,  1, -1,\n",
       "         1, -1, -1, -1,  1,  1,  1, -1, -1,  1,  1, -1, -1,  1, -1,  1, -1,\n",
       "        -1, -1, -1,  1,  1,  1,  1, -1, -1, -1, -1, -1,  1,  1,  1, -1,  1,\n",
       "         1, -1,  1, -1,  1,  1, -1,  1, -1,  1, -1,  1,  1,  1, -1, -1, -1,\n",
       "        -1,  1, -1, -1, -1, -1,  1,  1,  1, -1,  1,  1, -1,  1, -1,  1,  1,\n",
       "         1, -1,  1, -1, -1]),\n",
       " array([ 1,  1, -1,  1,  1, -1, -1,  1,  1,  1, -1, -1,  1, -1, -1,  1, -1,\n",
       "         1, -1, -1, -1,  1,  1,  1, -1, -1, -1,  1, -1, -1,  1, -1,  1, -1,\n",
       "        -1, -1, -1,  1,  1,  1,  1, -1, -1, -1, -1, -1,  1,  1,  1, -1,  1,\n",
       "         1, -1,  1, -1,  1,  1, -1,  1, -1,  1, -1,  1,  1,  1, -1, -1, -1,\n",
       "        -1,  1, -1, -1, -1, -1,  1,  1,  1, -1,  1,  1, -1,  1, -1,  1,  1,\n",
       "         1, -1,  1, -1, -1]))"
      ]
     },
     "execution_count": 21,
     "metadata": {},
     "output_type": "execute_result"
    }
   ],
   "source": [
    "model_custom.predict(X_test), y_test"
   ]
  },
  {
   "cell_type": "code",
   "execution_count": null,
   "id": "e07d9ab5",
   "metadata": {},
   "outputs": [],
   "source": []
  }
 ],
 "metadata": {
  "kernelspec": {
   "display_name": "Python 3 (ipykernel)",
   "language": "python",
   "name": "python3"
  },
  "language_info": {
   "codemirror_mode": {
    "name": "ipython",
    "version": 3
   },
   "file_extension": ".py",
   "mimetype": "text/x-python",
   "name": "python",
   "nbconvert_exporter": "python",
   "pygments_lexer": "ipython3",
   "version": "3.10.7"
  }
 },
 "nbformat": 4,
 "nbformat_minor": 5
}
