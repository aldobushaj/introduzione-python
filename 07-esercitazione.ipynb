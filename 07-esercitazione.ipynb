{
 "cells": [
  {
   "cell_type": "markdown",
   "id": "2bc211d7",
   "metadata": {},
   "source": [
    "Data una lista di oggetti (libri, matite,.....) sotto forma di stringhe, stampare tutti gli oggetti tranne quello di indice 2."
   ]
  },
  {
   "cell_type": "code",
   "execution_count": 1,
   "id": "10175c02",
   "metadata": {},
   "outputs": [
    {
     "name": "stdout",
     "output_type": "stream",
     "text": [
      "libro\n",
      "matita\n",
      "gomma\n"
     ]
    }
   ],
   "source": [
    "l = ['libro','matita','penna','gomma']\n",
    "\n",
    "for el in l:\n",
    "    if(el != l[2]):\n",
    "        print(el)"
   ]
  },
  {
   "cell_type": "markdown",
   "id": "c71171b7",
   "metadata": {},
   "source": [
    "Se vogliamo fare in modo che, se un elemento è == a 'penna', non stampiamo l'elemento di indice successivo a quello di penna"
   ]
  },
  {
   "cell_type": "code",
   "execution_count": 2,
   "id": "8ab3c975",
   "metadata": {},
   "outputs": [
    {
     "name": "stdout",
     "output_type": "stream",
     "text": [
      "libro\n",
      "matita\n",
      "penna\n"
     ]
    }
   ],
   "source": [
    "idx_esc = None\n",
    "for i in range(len(l)):\n",
    "    if(l[i] == 'penna'):\n",
    "        idx_esc = i+1\n",
    "    if(i != idx_esc):\n",
    "        print(l[i])"
   ]
  },
  {
   "cell_type": "code",
   "execution_count": 3,
   "id": "068653d2",
   "metadata": {},
   "outputs": [],
   "source": [
    "from matplotlib import pyplot as pl\n",
    "import random"
   ]
  },
  {
   "cell_type": "code",
   "execution_count": 4,
   "id": "9e53e02c",
   "metadata": {},
   "outputs": [
    {
     "ename": "NameError",
     "evalue": "name 'plt' is not defined",
     "output_type": "error",
     "traceback": [
      "\u001b[1;31m---------------------------------------------------------------------------\u001b[0m",
      "\u001b[1;31mNameError\u001b[0m                                 Traceback (most recent call last)",
      "Cell \u001b[1;32mIn [4], line 2\u001b[0m\n\u001b[0;32m      1\u001b[0m \u001b[38;5;66;03m# random.gauss(media, deviazione_standard)\u001b[39;00m\n\u001b[1;32m----> 2\u001b[0m \u001b[43mplt\u001b[49m\u001b[38;5;241m.\u001b[39mhist([random\u001b[38;5;241m.\u001b[39mgauss(\u001b[38;5;241m1\u001b[39m,\u001b[38;5;241m0.5\u001b[39m) \u001b[38;5;28;01mfor\u001b[39;00m _ \u001b[38;5;129;01min\u001b[39;00m \u001b[38;5;28mrange\u001b[39m(\u001b[38;5;241m10000\u001b[39m)], bins \u001b[38;5;241m=\u001b[39m \u001b[38;5;241m50\u001b[39m)\n\u001b[0;32m      3\u001b[0m plt\u001b[38;5;241m.\u001b[39mshow()\n",
      "\u001b[1;31mNameError\u001b[0m: name 'plt' is not defined"
     ]
    }
   ],
   "source": [
    "# random.gauss(media, deviazione_standard)\n",
    "plt.hist([random.gauss(1,0.5) for _ in range(10000)], bins = 50)\n",
    "plt.show()"
   ]
  },
  {
   "cell_type": "code",
   "execution_count": null,
   "id": "6c65b999",
   "metadata": {},
   "outputs": [],
   "source": [
    "plt.plot([random.gauss(1,0.5) for _ in range(10)])\n",
    "plt.show()"
   ]
  },
  {
   "cell_type": "code",
   "execution_count": null,
   "id": "3b01c21a",
   "metadata": {},
   "outputs": [],
   "source": [
    "plt.scatter([random.gauss(1,0.5) for _ in range(10)], list(range(10)), color = 'red')\n",
    "plt.show()"
   ]
  },
  {
   "cell_type": "markdown",
   "id": "e866b6cb",
   "metadata": {},
   "source": [
    "la funzione zip prende due liste e le associa, ma le due liste devono avere la stessa lunghezza (associazione 1 a 1)"
   ]
  },
  {
   "cell_type": "code",
   "execution_count": null,
   "id": "aa621a47",
   "metadata": {},
   "outputs": [],
   "source": [
    "list(zip([i for i in range(len(l))], l))"
   ]
  },
  {
   "cell_type": "markdown",
   "id": "1e8603ec",
   "metadata": {},
   "source": [
    "***** SOLUZIONE ALTERNATIVA *****\n",
    "Se vogliamo fare in modo che, se un elemento è == a 'penna', non stampiamo l'elemento di indice successivo a quello di penna"
   ]
  },
  {
   "cell_type": "code",
   "execution_count": null,
   "id": "6bfeaee2",
   "metadata": {},
   "outputs": [],
   "source": [
    "idx_escl = None\n",
    "\n",
    "for i, el in zip(range(len(l)),l):\n",
    "    if(el == 'penna'):\n",
    "        idx_escl = i + 1\n",
    "    if(i != idx_escl):\n",
    "        print(el)      "
   ]
  },
  {
   "cell_type": "markdown",
   "id": "df76293d",
   "metadata": {},
   "source": [
    "## enumerate() \n",
    "E una funzione di built in, che crea un oggetto iterabile, in cui viene associato un indice ad ogni elemento della lista passata come parametro (l in questo caso)"
   ]
  },
  {
   "cell_type": "code",
   "execution_count": null,
   "id": "1451d135",
   "metadata": {},
   "outputs": [],
   "source": [
    "list(enumerate(l))"
   ]
  },
  {
   "cell_type": "code",
   "execution_count": null,
   "id": "889d1df8",
   "metadata": {},
   "outputs": [],
   "source": [
    "idx_escl = None\n",
    "\n",
    "for i, el in enumerate(l):\n",
    "    if(el == 'penna'):\n",
    "        idx_escl = i + 1\n",
    "    if(i != idx_escl):\n",
    "        print(el) "
   ]
  },
  {
   "cell_type": "markdown",
   "id": "03077a11",
   "metadata": {},
   "source": [
    "`__str__` sarebbe com il toString in Java, stampa la rappresentazione in stringa, ma non tutti gli oggetti hanno una propria rappresentazione in stringa, come ad esempio la funzione zip, questa continua a tornare il suo indirizzo di memoria"
   ]
  },
  {
   "cell_type": "code",
   "execution_count": 20,
   "id": "b70eb405",
   "metadata": {},
   "outputs": [
    {
     "data": {
      "text/plain": [
       "\"{'a': 'b', 'c': 'd', 'f': 'g', 'h': 'i'}\""
      ]
     },
     "execution_count": 20,
     "metadata": {},
     "output_type": "execute_result"
    }
   ],
   "source": [
    "dir({'a':'b'})\n",
    "d = {'a':'b', 'c':'d', 'f':'g', 'h':'i'}\n",
    "d.__str__()"
   ]
  },
  {
   "cell_type": "code",
   "execution_count": 21,
   "id": "0d94f6eb",
   "metadata": {},
   "outputs": [
    {
     "name": "stdout",
     "output_type": "stream",
     "text": [
      "[('libro', 'a', 'aldo'), ('matita', 'c', 'silvestro'), ('penna', 'f', 'florian'), ('gomma', 'h', 'claudiu')]\n",
      "libro a aldo\n",
      "matita c silvestro\n",
      "penna f florian\n",
      "gomma h claudiu\n"
     ]
    }
   ],
   "source": [
    "c = {'aldo':'bushaj', 'silvestro':'frisullo', 'florian':'karici', 'claudiu':'petrea'}\n",
    "\n",
    "print(list(zip(l,d,c)))\n",
    "\n",
    "for x,y,z in zip(l,d,c):\n",
    "    print(x,y,z)"
   ]
  },
  {
   "cell_type": "markdown",
   "id": "c45e6fc4",
   "metadata": {},
   "source": [
    "## Challenge\n",
    "\n",
    "1. dato un intero n > 2, ritornare una lista contenente i soli numeri pari di una serie di fibonacci con condizione di stop \"ultimo elemento <= n\""
   ]
  },
  {
   "cell_type": "code",
   "execution_count": null,
   "id": "9b54510a",
   "metadata": {},
   "outputs": [],
   "source": [
    "n = 5\n",
    "temp = 2\n",
    "lista = [0,1]\n",
    "\n",
    "# genera la serie di fibonacci\n",
    "while lista[-1] < n:\n",
    "    lista.append(lista[temp-1] + lista[temp-2])\n",
    "    temp +=1\n",
    "\n",
    "lista_pari = []\n",
    "\n",
    "# filtra\n",
    "for el in lista:\n",
    "    if el % 2 == 0:\n",
    "        lista_pari.append(el)\n",
    "        \n",
    "        \n",
    "print(lista)\n",
    "print(lista_pari)\n",
    "\n",
    "\n",
    "[n for n in lista if n % 2 == 0]"
   ]
  },
  {
   "cell_type": "code",
   "execution_count": null,
   "id": "f1d0a9dd",
   "metadata": {},
   "outputs": [],
   "source": [
    "n = 1\n",
    "while n < 10:\n",
    "    if n % 7 == 0:\n",
    "        print('uscita forzata')\n",
    "        n += 1\n",
    "        continue\n",
    "    print(n)\n",
    "    n += 1"
   ]
  },
  {
   "cell_type": "markdown",
   "id": "5a4f96cc",
   "metadata": {},
   "source": [
    "Scrivere una funzione che data una stringa s, ritorni una lista contenente tutti gli indici e valori delle doppie in s . Se la stringa non contiene doppie ritorna una lista vuota"
   ]
  },
  {
   "cell_type": "code",
   "execution_count": null,
   "id": "90978f2c",
   "metadata": {},
   "outputs": [],
   "source": [
    "def trova_doppie(stringa):\n",
    "    lista_doppie = []\n",
    "    \n",
    "    for i, v in enumerate(stringa):\n",
    "        try:\n",
    "            if v == stringa[i +1]:\n",
    "                lista_doppie.append(v, i)\n",
    "        except:\n",
    "            pass\n",
    "    return lista_doppie"
   ]
  },
  {
   "cell_type": "code",
   "execution_count": null,
   "id": "ca356730",
   "metadata": {},
   "outputs": [],
   "source": [
    "st = 'se'\n",
    "\n",
    "lista = trova_doppie(st)\n",
    "lista"
   ]
  },
  {
   "cell_type": "markdown",
   "id": "e4132a81",
   "metadata": {},
   "source": [
    "## Challenge\n",
    "\n",
    "3. a) scrivere una funzione is_primo(n) -> ritorna True o False dipendentemente dal fatto che n sia primo o meno. b) scrivere una funzione twin_prime(n1, n2) che ritorna True o False se n1, n2 sono \"primi gemelli\" (wikipedia)\n",
    "4. dato un intero $n$, ritornare una lista di tuple che contengono la fattorizzazione di $n$\n",
    "\n"
   ]
  },
  {
   "cell_type": "code",
   "execution_count": 9,
   "id": "aa6a3fc1",
   "metadata": {},
   "outputs": [],
   "source": [
    "def is_primo(n):\n",
    "    i=2\n",
    "    if n == 1 or n==2:\n",
    "        return True\n",
    "    while i < n :\n",
    "        if n % i == 0:\n",
    "            return False\n",
    "            i+=1\n",
    "        else:\n",
    "            return True\n"
   ]
  },
  {
   "cell_type": "code",
   "execution_count": 10,
   "id": "915f50f9",
   "metadata": {},
   "outputs": [
    {
     "name": "stdout",
     "output_type": "stream",
     "text": [
      "True\n"
     ]
    }
   ],
   "source": [
    "print(is_primo(5))"
   ]
  },
  {
   "cell_type": "code",
   "execution_count": 11,
   "id": "236fd774",
   "metadata": {},
   "outputs": [],
   "source": [
    "def twin_prime(n,m):\n",
    "    if is_primo(n) == False or is_primo(m) == False:\n",
    "        return False\n",
    "    else:\n",
    "        if abs(n-m)==2:\n",
    "            return True\n",
    "        else:\n",
    "            return False\n",
    "\n",
    "        \n",
    "# oppure un altra soluzione è:    \n",
    "def is_twin(n1, n2):\n",
    "    return is_primo(n1) and is_primo(n2) and abs(n1 - n2) == 2"
   ]
  },
  {
   "cell_type": "code",
   "execution_count": 12,
   "id": "bb802d07",
   "metadata": {},
   "outputs": [
    {
     "data": {
      "text/plain": [
       "True"
      ]
     },
     "execution_count": 12,
     "metadata": {},
     "output_type": "execute_result"
    }
   ],
   "source": [
    "twin_prime(7, 5)\n",
    "is_twin(7,5)"
   ]
  },
  {
   "cell_type": "code",
   "execution_count": 13,
   "id": "1f832a22",
   "metadata": {},
   "outputs": [],
   "source": [
    "def is_primo(n):  \n",
    "    return [x for x in range(2,n) if n%x==0]==[]"
   ]
  },
  {
   "cell_type": "code",
   "execution_count": 14,
   "id": "a778bf9f",
   "metadata": {},
   "outputs": [],
   "source": [
    "def genera_primi(n):  \n",
    "    return [x for x in range(2,n) if is_primo(x)]"
   ]
  },
  {
   "cell_type": "code",
   "execution_count": 15,
   "id": "9ddb1f15",
   "metadata": {},
   "outputs": [],
   "source": [
    "def fattori(n):\n",
    "    fattori=genera_primi(n)  \n",
    "    if is_primo(n):\n",
    "        return (n,1)\n",
    "    res=[]  \n",
    "    resto=n\n",
    "    for f in fattori:  \n",
    "        temp=[f,0]\n",
    "        while resto%f==0:\n",
    "            resto=resto/f\n",
    "            temp=[f,temp[1]+1]\n",
    "        if temp[1]!=0:\n",
    "            res.append(temp)   \n",
    "    return res"
   ]
  },
  {
   "cell_type": "markdown",
   "id": "fdb6bafe",
   "metadata": {},
   "source": [
    " per tutti i numeri da 2 a n"
   ]
  },
  {
   "cell_type": "code",
   "execution_count": null,
   "id": "8aa37b6f",
   "metadata": {},
   "outputs": [],
   "source": [
    "for"
   ]
  }
 ],
 "metadata": {
  "kernelspec": {
   "display_name": "Python 3 (ipykernel)",
   "language": "python",
   "name": "python3"
  },
  "language_info": {
   "codemirror_mode": {
    "name": "ipython",
    "version": 3
   },
   "file_extension": ".py",
   "mimetype": "text/x-python",
   "name": "python",
   "nbconvert_exporter": "python",
   "pygments_lexer": "ipython3",
   "version": "3.10.7"
  }
 },
 "nbformat": 4,
 "nbformat_minor": 5
}
