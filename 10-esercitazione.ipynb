{
 "cells": [
  {
   "cell_type": "markdown",
   "id": "0ea219e3",
   "metadata": {},
   "source": [
    "Metodi e tecniche standard per la gestione di input e output IO"
   ]
  },
  {
   "cell_type": "code",
   "execution_count": 1,
   "id": "83357fbb",
   "metadata": {},
   "outputs": [
    {
     "name": "stdout",
     "output_type": "stream",
     "text": [
      "Nome: Maria, Cognome: Giovanna, Email: maria.giovanna@gmail.com\n"
     ]
    }
   ],
   "source": [
    "print('Nome: {0}, Cognome: {1}, Email: {2}'.format('Maria', 'Giovanna', 'maria.giovanna@gmail.com'))"
   ]
  },
  {
   "cell_type": "code",
   "execution_count": 2,
   "id": "0a5ecf8c",
   "metadata": {},
   "outputs": [
    {
     "name": "stdout",
     "output_type": "stream",
     "text": [
      "Nome: aldo, Cognome: bushaj\n"
     ]
    }
   ],
   "source": [
    "n = 'aldo'\n",
    "c = 'bushaj'\n",
    "print(f'Nome: {n}, Cognome: {c}')"
   ]
  },
  {
   "cell_type": "markdown",
   "id": "30d202e9",
   "metadata": {},
   "source": [
    "## Lettura di file\n",
    "Leggiamo da un file CSV alcuni dati\n",
    "\n",
    "CSV = Comma separated value"
   ]
  },
  {
   "cell_type": "code",
   "execution_count": 3,
   "id": "c32fcc83",
   "metadata": {},
   "outputs": [
    {
     "data": {
      "text/plain": [
       "'0, maria, verdi, 1990, 8, 15\\n'"
      ]
     },
     "execution_count": 3,
     "metadata": {},
     "output_type": "execute_result"
    }
   ],
   "source": [
    "f = open('data/prova.txt', 'r')\n",
    "\n",
    "# ogni volta che lo eseguo passa all prossima riga, questo perché abbiamo un puntatore che si posiziona alla riga che\n",
    "# ha letto, quindi se lo rieseguo il puntatore va alla seconda riga, non di nuovo alla prima\n",
    "f.readline()"
   ]
  },
  {
   "cell_type": "code",
   "execution_count": 4,
   "id": "9d402b91",
   "metadata": {},
   "outputs": [
    {
     "data": {
      "text/plain": [
       "'1, andrea, rossi, 1992, 7, 19\\n'"
      ]
     },
     "execution_count": 4,
     "metadata": {},
     "output_type": "execute_result"
    }
   ],
   "source": [
    "f.readline()"
   ]
  },
  {
   "cell_type": "markdown",
   "id": "4fefa1d1",
   "metadata": {},
   "source": [
    "Quando si apre un file, ricordarsi di chiuderlo nonappena abbiamo finito"
   ]
  },
  {
   "cell_type": "code",
   "execution_count": 5,
   "id": "b7fe6f04",
   "metadata": {},
   "outputs": [],
   "source": [
    "f.close()"
   ]
  },
  {
   "cell_type": "markdown",
   "id": "a0b79d8e",
   "metadata": {},
   "source": [
    "Leggiamo più linee con un for"
   ]
  },
  {
   "cell_type": "code",
   "execution_count": 6,
   "id": "72142fd1",
   "metadata": {},
   "outputs": [],
   "source": [
    "def leggi_persone():\n",
    "    f = open('data/prova.txt', 'r')\n",
    "    for line in f.readlines():\n",
    "        print(line)\n",
    "    f.close()"
   ]
  },
  {
   "cell_type": "code",
   "execution_count": 7,
   "id": "628f718c",
   "metadata": {},
   "outputs": [
    {
     "data": {
      "text/plain": [
       "<__main__.Persona at 0x2d527ce7730>"
      ]
     },
     "execution_count": 7,
     "metadata": {},
     "output_type": "execute_result"
    }
   ],
   "source": [
    "import datetime\n",
    "\n",
    "class Persona:\n",
    "    def __init__(self, id, nome, cognome, data_nascita):\n",
    "        self.id = id\n",
    "        self.nome = nome\n",
    "        self.cognome = cognome\n",
    "        self.data_nascita = data_nascita\n",
    "        \n",
    "    def get_eta(self):\n",
    "        t=datetime.date.today()\n",
    "        anni=int((t-self.data_nascita).days/365)\n",
    "        return anni \n",
    "    \n",
    "    anni = property(get_eta)\n",
    "    \n",
    "    def __str__(self):\n",
    "        return f'id: {self.id}, nome: {self.nome}, cognome: {self.cognome}, anni: {self.anni}'\n",
    "    \n",
    "Persona(1, 'a', '', '')"
   ]
  },
  {
   "cell_type": "markdown",
   "id": "3885d4aa",
   "metadata": {},
   "source": [
    "## Funzione che ritorna una lista con la forma voluta"
   ]
  },
  {
   "cell_type": "code",
   "execution_count": 8,
   "id": "7159a302",
   "metadata": {},
   "outputs": [],
   "source": [
    "\"\"\"\n",
    "dato un file di persone CSV\n",
    "ritorna una struttura dati come segue\n",
    "[\n",
    "    ['id','nome','cognome',datetime.date(anno, mese, giorno)],\n",
    "    ...... per ogni line nel file\n",
    "]\n",
    "\"\"\"\n",
    "\n",
    "def import_persone():\n",
    "    file = open('data/prova.txt', 'r')\n",
    "    tup = []\n",
    "    \n",
    "    for line in file.readlines():\n",
    "        # split ritorna una lista, quindi ottengo quello che voglio, una lista di liste\n",
    "        tup += [[s.strip() for s in line.strip().split(',')]]\n",
    "    file.close()\n",
    "    print('prova*******',tup)\n",
    "    # converto gli ultimi tre elementi in un datetime\n",
    "    ret = [\n",
    "        [id, nome, cognome, datetime.date(int(anno), int(mese), int(giorno))]\n",
    "        for id, nome, cognome, anno, mese, giorno\n",
    "        in tup\n",
    "    ]\n",
    "\n",
    "    return ret"
   ]
  },
  {
   "cell_type": "code",
   "execution_count": 9,
   "id": "50fcb26a",
   "metadata": {},
   "outputs": [
    {
     "name": "stdout",
     "output_type": "stream",
     "text": [
      "prova******* [['0', 'maria', 'verdi', '1990', '8', '15'], ['1', 'andrea', 'rossi', '1992', '7', '19'], ['2', 'giovanni', 'gialli', '1954', '1', '30']]\n"
     ]
    }
   ],
   "source": [
    "persone_grezze = import_persone()\n",
    "persone_grezze\n",
    "\n",
    "\"\"\"\n",
    "creo una lista di oggetti di tipo Persona usando i valori contenuti in persone_grezze\n",
    "\"\"\"\n",
    "\n",
    "persone = [\n",
    "    Persona(id, nome, cognome, data_nascita)\n",
    "    for id, nome, cognome, data_nascita\n",
    "    in persone_grezze\n",
    "]"
   ]
  },
  {
   "cell_type": "code",
   "execution_count": 10,
   "id": "adcabcfe",
   "metadata": {},
   "outputs": [
    {
     "name": "stdout",
     "output_type": "stream",
     "text": [
      "id: 0, nome: maria, cognome: verdi, anni: 32\n",
      "id: 1, nome: andrea, cognome: rossi, anni: 30\n",
      "id: 2, nome: giovanni, cognome: gialli, anni: 68\n"
     ]
    }
   ],
   "source": [
    "for p in persone:\n",
    "    print(p)"
   ]
  },
  {
   "cell_type": "markdown",
   "id": "21cb8491",
   "metadata": {},
   "source": [
    "## Stessa cosa di prima ma fatta tutta con le list comprehension"
   ]
  },
  {
   "cell_type": "code",
   "execution_count": 11,
   "id": "c1448910",
   "metadata": {},
   "outputs": [
    {
     "name": "stdout",
     "output_type": "stream",
     "text": [
      "id: 0, nome: Maria, cognome: Verdi, anni: 32\n",
      "id: 1, nome: Andrea, cognome: Rossi, anni: 30\n",
      "id: 2, nome: Giovanni, cognome: Gialli, anni: 68\n"
     ]
    }
   ],
   "source": [
    "def imp_pers():\n",
    "    fp = open('data/prova.txt','r')\n",
    "    \n",
    "    ret = [\n",
    "            Persona(i,n,c,datetime.date(int(a),int(m),int(g)))\n",
    "            for i,n,c,a,m,g\n",
    "            # [s.split(',') for s in f.readlines()] questa invece mette semplicemente tutto insieme\n",
    "            # questo mette in maiuscolo tutte le iniziali dei nomi e cognomi\n",
    "            in [[' '.join([parola.capitalize() for parola in st.strip().split(' ')]) for st in s.split(',')] for s in fp]\n",
    "    ]\n",
    "    fp.close()\n",
    "    return ret\n",
    "\n",
    "for p in imp_pers():\n",
    "    print(p)"
   ]
  },
  {
   "cell_type": "code",
   "execution_count": null,
   "id": "dbd069da",
   "metadata": {},
   "outputs": [],
   "source": []
  }
 ],
 "metadata": {
  "kernelspec": {
   "display_name": "Python 3 (ipykernel)",
   "language": "python",
   "name": "python3"
  },
  "language_info": {
   "codemirror_mode": {
    "name": "ipython",
    "version": 3
   },
   "file_extension": ".py",
   "mimetype": "text/x-python",
   "name": "python",
   "nbconvert_exporter": "python",
   "pygments_lexer": "ipython3",
   "version": "3.10.7"
  }
 },
 "nbformat": 4,
 "nbformat_minor": 5
}
