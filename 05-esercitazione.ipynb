{
 "cells": [
  {
   "cell_type": "markdown",
   "id": "a93b3c94",
   "metadata": {},
   "source": [
    "### I Dizionari\n",
    "Sono strutture dati in grado di associare un valore ad una key.\n",
    "Le keys appartengono ad un SET, i valori appartengono ad una LIST\n",
    "\n",
    "ES. creiamo un modello in cui associamo ad ogni città il suo stato.\n",
    "\n",
    "La struttura del dizionario prevede nome_variabile[nome_key] = valore"
   ]
  },
  {
   "cell_type": "code",
   "execution_count": 1,
   "id": "a53a7dd3",
   "metadata": {},
   "outputs": [
    {
     "name": "stdout",
     "output_type": "stream",
     "text": [
      "{'Roma': 'Italia', 'Napoli': 'Italia', 'Barcelona': 'Spagna'}\n"
     ]
    }
   ],
   "source": [
    "elenco_citta = dict()\n",
    "# utilizza come identificativo la chiave per salvare il valore\n",
    "elenco_citta['Roma'] = 'Francia'\n",
    "\n",
    "# sovrascrivendo il valore corrispondente ad una chiave esistente verrà effettuata la sostituzione\n",
    "elenco_citta['Roma'] = 'Italia'\n",
    "elenco_citta['Napoli'] = 'Italia'\n",
    "elenco_citta['Barcelona'] = 'Spagna'\n",
    "print(elenco_citta)"
   ]
  },
  {
   "cell_type": "markdown",
   "id": "31625cff",
   "metadata": {},
   "source": [
    "I dizionari permettono l'accesso al set di tutte le chiavi"
   ]
  },
  {
   "cell_type": "code",
   "execution_count": 2,
   "id": "23c3ec02",
   "metadata": {},
   "outputs": [
    {
     "name": "stdout",
     "output_type": "stream",
     "text": [
      "dict_keys(['Roma', 'Napoli', 'Barcelona'])\n",
      "dict_values(['Italia', 'Italia', 'Spagna'])\n"
     ]
    }
   ],
   "source": [
    "#elenco_citta['Roma'] = 'Francia'\n",
    "print(elenco_citta.keys())\n",
    "print(elenco_citta.values())"
   ]
  },
  {
   "cell_type": "markdown",
   "id": "7c2579ab",
   "metadata": {},
   "source": [
    "Avendo un elenco di città, è possibile ricavare lo stato di appartenenza"
   ]
  },
  {
   "cell_type": "code",
   "execution_count": 3,
   "id": "611da155",
   "metadata": {},
   "outputs": [
    {
     "name": "stdout",
     "output_type": "stream",
     "text": [
      "Italia\n",
      "['Italia', 'Italia', 'Spagna']\n"
     ]
    }
   ],
   "source": [
    "lista_citta = ['Roma','Napoli','Barcelona']\n",
    "# vogliamo ottenere ad esempio ['Italia', 'Italia', 'Spagna']\n",
    "\n",
    "print(elenco_citta[lista_citta[0]])\n",
    "\n",
    "print([elenco_citta[citta] for citta in lista_citta])"
   ]
  },
  {
   "cell_type": "code",
   "execution_count": 4,
   "id": "8e38037f",
   "metadata": {},
   "outputs": [
    {
     "name": "stdout",
     "output_type": "stream",
     "text": [
      "['Spagna']\n",
      "['Spagna']\n"
     ]
    }
   ],
   "source": [
    "# ottenere una lista di stati (contenuti in elenco_citta) \n",
    "# corrispondenti solo a citta che hanno all'interno del proprio nome la lettere r\n",
    "\n",
    "print( [elenco_citta[citta] for citta in elenco_citta if 'r' in citta ] )\n",
    "\n",
    "# un altro metodo è:\n",
    "print( [ value for key, value in elenco_citta.items() if 'r' in key])"
   ]
  },
  {
   "cell_type": "markdown",
   "id": "79bf8b79",
   "metadata": {},
   "source": [
    "Eliminare un valore da un dizionario."
   ]
  },
  {
   "cell_type": "code",
   "execution_count": 6,
   "id": "bd24524e",
   "metadata": {},
   "outputs": [
    {
     "name": "stdout",
     "output_type": "stream",
     "text": [
      "{'key_1': 'value_1', 'key_2': 'value_2'}\n",
      "{'key_2': 'value_2'}\n"
     ]
    }
   ],
   "source": [
    "d = {\n",
    "    \"key_1\" : \"value_1\",\n",
    "    \"key_2\" : \"value_2\"    \n",
    "}\n",
    "print(d)\n",
    "\n",
    "del d['key_1']\n",
    "print(d)"
   ]
  },
  {
   "cell_type": "markdown",
   "id": "d03daad8",
   "metadata": {},
   "source": [
    "d.items() ci da una lista di tuple chiave valore iterabile. Vediamo come creare un dizionario inverso a d utilizzando questa funzione"
   ]
  },
  {
   "cell_type": "code",
   "execution_count": 9,
   "id": "79cb9baf",
   "metadata": {},
   "outputs": [
    {
     "name": "stdout",
     "output_type": "stream",
     "text": [
      "{'value_1': 'key_1', 'value_2': 'key_2'}\n"
     ]
    }
   ],
   "source": [
    "d = {\n",
    "    \"key_1\" : \"value_1\",\n",
    "    \"key_2\" : \"value_2\"    \n",
    "}\n",
    "\n",
    "d_inv = {value:key for key, value in d.items()}\n",
    "print(d_inv)"
   ]
  },
  {
   "cell_type": "code",
   "execution_count": 10,
   "id": "97fcb6b7",
   "metadata": {},
   "outputs": [
    {
     "data": {
      "text/plain": [
       "dict_items([('key_1', 'value_1'), ('key_2', 'value_2')])"
      ]
     },
     "execution_count": 10,
     "metadata": {},
     "output_type": "execute_result"
    }
   ],
   "source": [
    "d.items()"
   ]
  },
  {
   "cell_type": "code",
   "execution_count": 12,
   "id": "661aed7c",
   "metadata": {},
   "outputs": [
    {
     "data": {
      "text/plain": [
       "{'Roma': 'Italia', 'Napoli': 'Italia', 'Barcelona': 'Spagna'}"
      ]
     },
     "execution_count": 12,
     "metadata": {},
     "output_type": "execute_result"
    }
   ],
   "source": [
    "{k:v for k,v in d.items()}\n",
    "elenco_citta\n"
   ]
  },
  {
   "cell_type": "code",
   "execution_count": 14,
   "id": "6fa88013",
   "metadata": {},
   "outputs": [
    {
     "name": "stdout",
     "output_type": "stream",
     "text": [
      "{'Roma': 'ITALIA', 'Napoli': 'ITALIA', 'Barcelona': 'SPAGNA'}\n"
     ]
    }
   ],
   "source": [
    "# creare un dizionario con i nomi delle città maiuscoli\n",
    "\n",
    "elenco_CITTA = {k: v.upper() for k,v in elenco_citta.items()}\n",
    "print(elenco_CITTA)"
   ]
  }
 ],
 "metadata": {
  "kernelspec": {
   "display_name": "Python 3 (ipykernel)",
   "language": "python",
   "name": "python3"
  },
  "language_info": {
   "codemirror_mode": {
    "name": "ipython",
    "version": 3
   },
   "file_extension": ".py",
   "mimetype": "text/x-python",
   "name": "python",
   "nbconvert_exporter": "python",
   "pygments_lexer": "ipython3",
   "version": "3.10.7"
  }
 },
 "nbformat": 4,
 "nbformat_minor": 5
}
