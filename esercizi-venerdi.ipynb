{
 "cells": [
  {
   "cell_type": "markdown",
   "id": "1184482b",
   "metadata": {},
   "source": [
    "Sample Input\n",
    "\n",
    "\n",
    "\n",
    "1222311\n",
    "\n",
    "\n",
    "\n",
    "\n",
    "Sample Output\n",
    "\n",
    "\n",
    "\n",
    "(1, 1) (3, 2) (1, 3) (2, 1)\n",
    "Explanation"
   ]
  },
  {
   "cell_type": "code",
   "execution_count": 1,
   "id": "1d02db5f",
   "metadata": {},
   "outputs": [
    {
     "name": "stdout",
     "output_type": "stream",
     "text": [
      "[(1, 1), (3, 2), (1, 3), (2, 1)]\n"
     ]
    }
   ],
   "source": [
    "lista = [1,2,2,2,3,1,1]\n",
    "\n",
    "out = []\n",
    "\n",
    "count = 1\n",
    "for i in range(len(lista)-1):\n",
    "    \n",
    "    if lista[i] == lista[i+1]:\n",
    "        count +=1    \n",
    "    else:\n",
    "        out.append((count, lista[i]))\n",
    "        count = 1\n",
    "        \n",
    "    # caso in cui siamo in ultima posizione \n",
    "    if i+1 == len(lista)-1:\n",
    "        out.append((count, lista[i+1]))\n",
    "\n",
    "\n",
    "print(out)"
   ]
  },
  {
   "cell_type": "markdown",
   "id": "83cca6c1",
   "metadata": {},
   "source": [
    "## Funzione che mi dice se un numero è palidromo, preso da interfaccia"
   ]
  },
  {
   "cell_type": "code",
   "execution_count": 2,
   "id": "e5c6ec99",
   "metadata": {},
   "outputs": [
    {
     "name": "stdout",
     "output_type": "stream",
     "text": [
      "Inserisci l'input: aa\n",
      "Palindromo\n"
     ]
    }
   ],
   "source": [
    "val = input(\"Inserisci l'input: \")\n",
    "\n",
    "\n",
    "class Ese:\n",
    "    def __init__(self, input):\n",
    "        self.input = input\n",
    "        \n",
    "    def isPalindromo(self):\n",
    "        if self.input == self.input[::-1] :\n",
    "            print(\"Palindromo\")\n",
    "        else:\n",
    "            print(\"Non Palindromo\")\n",
    "\n",
    "ese = Ese(val)\n",
    "\n",
    "ese.isPalindromo()\n",
    "\n"
   ]
  },
  {
   "cell_type": "markdown",
   "id": "ebe77b55",
   "metadata": {},
   "source": [
    "## Crea una lista con tutti i valori fino a 200, divisibili per 3 ma non multipli di 5. Quanti elementi sono presenti? Qual è l'85° elemento?"
   ]
  },
  {
   "cell_type": "code",
   "execution_count": 3,
   "id": "ef418f5a",
   "metadata": {},
   "outputs": [
    {
     "name": "stdout",
     "output_type": "stream",
     "text": [
      "53\n",
      "[3, 6, 9, 12, 18, 21, 24, 27, 33, 36, 39, 42, 48, 51, 54, 57, 63, 66, 69, 72, 78, 81, 84, 87, 93, 96, 99, 102, 108, 111, 114, 117, 123, 126, 129, 132, 138, 141, 144, 147, 153, 156, 159, 162, 168, 171, 174, 177, 183, 186, 189, 192, 198]\n"
     ]
    }
   ],
   "source": [
    "output = [   \n",
    "    l\n",
    "    for l \n",
    "    in range(201)\n",
    "    if l % 3 == 0 and not l % 5 == 0\n",
    "]\n",
    "\n",
    "print(len(output))\n",
    "print(output)"
   ]
  },
  {
   "cell_type": "markdown",
   "id": "25d016a3",
   "metadata": {},
   "source": [
    "## Stampa un albero"
   ]
  },
  {
   "cell_type": "code",
   "execution_count": 4,
   "id": "a39c62c7",
   "metadata": {},
   "outputs": [
    {
     "name": "stdout",
     "output_type": "stream",
     "text": [
      "          *\n",
      "         ***\n",
      "        *****\n",
      "       *******\n",
      "      *********\n",
      "     ***********\n",
      "    *************\n",
      "   ***************\n",
      "  *****************\n",
      " *******************\n"
     ]
    }
   ],
   "source": [
    "def tree(input):\n",
    "    temp = input\n",
    "    for i in range(1,input+1):\n",
    "        print(' '*temp+    '*'*((i*2)-1)   )\n",
    "        temp -=1\n",
    "        \n",
    "tree(10)"
   ]
  },
  {
   "cell_type": "markdown",
   "id": "ba3adc53",
   "metadata": {},
   "source": [
    "## Qualunque frase come input, trasformata nel suo opposto"
   ]
  },
  {
   "cell_type": "code",
   "execution_count": 5,
   "id": "7dcae0a9",
   "metadata": {},
   "outputs": [
    {
     "name": "stdout",
     "output_type": "stream",
     "text": [
      "Inserisci l'input: aa\n",
      "aa\n",
      "AA\n"
     ]
    }
   ],
   "source": [
    "val = input(\"Inserisci l'input: \")\n",
    "print(val)\n",
    "\n",
    "def reverse(val):\n",
    "    otp = ''\n",
    "    for ch in val:\n",
    "        if ch.isupper():\n",
    "            otp += ch.lower()\n",
    "        else:\n",
    "            otp += ch.upper()\n",
    "    return otp\n",
    "\n",
    "\n",
    "\n",
    "print(reverse(val))"
   ]
  },
  {
   "cell_type": "code",
   "execution_count": 8,
   "id": "32f9ef41",
   "metadata": {},
   "outputs": [
    {
     "name": "stdout",
     "output_type": "stream",
     "text": [
      "Inserisci l'input: aaAA\n",
      "aaAA\n",
      "AAaa\n"
     ]
    }
   ],
   "source": [
    "val = input(\"Inserisci l'input: \")\n",
    "print(val)\n",
    "\n",
    "def reverse(val):\n",
    "\n",
    "    lista = [ch.upper() if ch.islower() else ch.lower() for ch in val]\n",
    "    return ''.join(lista)\n",
    "\n",
    "print(reverse(val))"
   ]
  },
  {
   "cell_type": "markdown",
   "id": "0fe5346e",
   "metadata": {},
   "source": [
    "dd"
   ]
  },
  {
   "cell_type": "code",
   "execution_count": null,
   "id": "fdc06b5a",
   "metadata": {},
   "outputs": [],
   "source": []
  }
 ],
 "metadata": {
  "kernelspec": {
   "display_name": "Python 3 (ipykernel)",
   "language": "python",
   "name": "python3"
  },
  "language_info": {
   "codemirror_mode": {
    "name": "ipython",
    "version": 3
   },
   "file_extension": ".py",
   "mimetype": "text/x-python",
   "name": "python",
   "nbconvert_exporter": "python",
   "pygments_lexer": "ipython3",
   "version": "3.10.7"
  }
 },
 "nbformat": 4,
 "nbformat_minor": 5
}
